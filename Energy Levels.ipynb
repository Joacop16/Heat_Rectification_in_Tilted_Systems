{
 "cells": [
  {
   "cell_type": "code",
   "execution_count": 1,
   "id": "a7b35f82-e1c1-4fd7-abcb-064487f4ad3e",
   "metadata": {},
   "outputs": [],
   "source": [
    "using LinearAlgebra\n",
    "using Statistics\n",
    "using Plots\n",
    "using LaTeXStrings"
   ]
  },
  {
   "cell_type": "code",
   "execution_count": 2,
   "id": "7c5256d4-0fd7-4552-825e-4f72abd7daf5",
   "metadata": {},
   "outputs": [
    {
     "data": {
      "text/plain": [
       "fermi_dirac_distribution (generic function with 1 method)"
      ]
     },
     "execution_count": 2,
     "metadata": {},
     "output_type": "execute_result"
    }
   ],
   "source": [
    "include(\"ED_functions_spinless_fermions.jl\")"
   ]
  },
  {
   "cell_type": "markdown",
   "id": "5dee5f3b-10a4-44f1-9f25-a279e06dc581",
   "metadata": {},
   "source": [
    "The purpose of this file is to study if we should change the interaction of the mesoscopic method or not.\n",
    "\n",
    "In the Giant Rectification article we have:\n",
    "\n",
    "$$ $$"
   ]
  },
  {
   "cell_type": "code",
   "execution_count": 3,
   "id": "18ad8d8d-e76f-4e95-8138-11506657648f",
   "metadata": {},
   "outputs": [],
   "source": [
    "function Build_H_Giant_Rectification(N, Δ, μ, E, J = 1.0)\n",
    "    #J: Hopping amplitude.\n",
    "    #Δ: Nearest-neighbor density-density interaction.\n",
    "    #μ: Chemical potential of the diode.\n",
    "    #E: Tilt strength.\n",
    "\n",
    "    H = zeros(2^N, 2^N)\n",
    "    \n",
    "    for i=1:N-1 #H_S\n",
    "        H += 0.5*J*Build_C_dagi_Cj_Matrix(N, i, i+1)\n",
    "        H += 0.5*J*Build_C_dagi_Cj_Matrix(N, i+1, i)\n",
    "        H += Δ*(Build_C_dagi_Cj_Matrix(N, i, i)-0.5*Enlarge_Matrix_site_j(N, 1, Identity))*(Build_C_dagi_Cj_Matrix(N, i+1, i+1)-0.5*Enlarge_Matrix_site_j(N, 1, Identity)) #Interaction 1 (original from paper)\n",
    "    end\n",
    "\n",
    "    for i=1:N\n",
    "        H += (μ + 0.5*E*i)*(Build_C_dagi_Cj_Matrix(N, i, i)-0.5*Enlarge_Matrix_site_j(N, 1, Identity))\n",
    "    end\n",
    "        \n",
    "    return H\n",
    "end\n",
    "\n",
    "function Build_H_wMesoscopicInteraction(N, Δ, μ, E, J = 1.0)\n",
    "    #J: Hopping amplitude.\n",
    "    #Δ: Nearest-neighbor density-density interaction.\n",
    "    #μ: Chemical potential of the diode.\n",
    "    #E: Tilt strength.\n",
    "\n",
    "    H = zeros(2^N, 2^N)\n",
    "    \n",
    "    for i=1:N-1 #H_S\n",
    "        H += 0.5*J*Build_C_dagi_Cj_Matrix(N, i, i+1)\n",
    "        H += 0.5*J*Build_C_dagi_Cj_Matrix(N, i+1, i)\n",
    "        H += Δ*Build_C_dagi_Cj_Matrix(N, i, i)*Build_C_dagi_Cj_Matrix(N, i+1, i+1) #Interaction 2 (the one used in the mesoscopic method)\n",
    "    end\n",
    "\n",
    "    for i=1:N\n",
    "        H += (μ + 0.5*E*i)*(Build_C_dagi_Cj_Matrix(N, i, i)-0.5*Enlarge_Matrix_site_j(N, 1, Identity))\n",
    "    end\n",
    "        \n",
    "    return H\n",
    "end\n",
    "\n",
    "zero = [1; 0]\n",
    "one = [0; 1];"
   ]
  },
  {
   "cell_type": "code",
   "execution_count": 4,
   "id": "040aa808-4457-4c2a-974a-e7c7de1312e0",
   "metadata": {},
   "outputs": [],
   "source": [
    "N = 4\n",
    "Δ = 5\n",
    "\n",
    "ψ_s1 = kron(one, zero, zero, zero)\n",
    "ψ_s2 = kron(zero, one, zero, zero)\n",
    "ψ_s3 = kron(zero, zero, one, zero)\n",
    "ψ_s4 = kron(zero, zero, zero, one)\n",
    "\n",
    "E_values = LinRange(0, 12, 200)\n",
    "\n",
    "Energy_levels_H0 = Dict()\n",
    "Energy_levels_H1 = Dict()\n",
    "Energy_levels_H2 = Dict()\n",
    "\n",
    "for E = E_values\n",
    "    μ = -E*(N+1)/4\n",
    "    H0 = Build_H_Giant_Rectification(N, 0.0, μ, E);\n",
    "    H1 = Build_H_Giant_Rectification(N, Δ, μ, E);\n",
    "    H2 = Build_H_wMesoscopicInteraction(N, Δ, μ, E);\n",
    "    \n",
    "    Energy_levels_H0[E] = real([adjoint(ψ)*H0*ψ for ψ=[ψ_s1, ψ_s2, ψ_s3, ψ_s4]])\n",
    "    Energy_levels_H1[E] = real([adjoint(ψ)*H1*ψ for ψ=[ψ_s1, ψ_s2, ψ_s3, ψ_s4]])\n",
    "    Energy_levels_H2[E] = real([adjoint(ψ)*H2*ψ for ψ=[ψ_s1, ψ_s2, ψ_s3, ψ_s4]])   \n",
    "end"
   ]
  },
  {
   "cell_type": "code",
   "execution_count": 205,
   "id": "e39ea599-d397-4623-aa6a-9cc691d3d584",
   "metadata": {},
   "outputs": [],
   "source": [
    "for E = E_values\n",
    "    μ = -E*(N+1)/4\n",
    "    E_value = round(E; digits = 3)\n",
    "    scatter(1:1:N, real(Energy_levels_H0[E]), label = L\"H_{int} = 0\", m = :hexagon, alpha = 0.6, markersize = 8)\n",
    "    scatter!(1:1:N, Energy_levels_H1[E], label = L\"H_{int} = \\Delta (n_{j} -0.5)(n_{j+1} -0.5)\", m = :diamond, alpha = 0.6, markersize = 8)\n",
    "    scatter!(1:1:N, Energy_levels_H2[E], label = L\"H_{int} = \\Delta n_{j}n_{j+1}\", m = :star5, alpha = 0.8, markersize = 6)\n",
    "    \n",
    "    plot!(xlabel = \"site j\", ylabel = L\"\\langle j | H | j \\rangle\", title  = \"E = $E_value\", legend=:outertopleft, size = (1000, 500), margin=5Plots.mm)\n",
    "    savefig(\"Results E = $E_value.pdf\")\n",
    "end"
   ]
  },
  {
   "cell_type": "markdown",
   "id": "7743c2d5-3e03-4d36-afc6-b04e9efd8388",
   "metadata": {},
   "source": [
    "Now let's plot the energy levels that I have been using until now for the mesoscopic approach."
   ]
  },
  {
   "cell_type": "code",
   "execution_count": null,
   "id": "1195e0aa-30cb-4c4e-952d-e1368cd19a14",
   "metadata": {},
   "outputs": [],
   "source": []
  }
 ],
 "metadata": {
  "kernelspec": {
   "display_name": "Julia 1.10.3",
   "language": "julia",
   "name": "julia-1.10"
  },
  "language_info": {
   "file_extension": ".jl",
   "mimetype": "application/julia",
   "name": "julia",
   "version": "1.10.3"
  }
 },
 "nbformat": 4,
 "nbformat_minor": 5
}

{
 "cells": [
  {
   "cell_type": "code",
   "execution_count": 1,
   "id": "87f97bee-337f-4774-b500-0da5644b1d43",
   "metadata": {
    "tags": []
   },
   "outputs": [],
   "source": [
    "using Plots\n",
    "using DelimitedFiles\n",
    "using LaTeXStrings"
   ]
  },
  {
   "cell_type": "code",
   "execution_count": 5,
   "id": "60bfc166-5550-4393-aee0-2b7a89df7448",
   "metadata": {},
   "outputs": [],
   "source": [
    "for Current = [\"JE\"]\n",
    "    for E = 0:0.2:4.8\n",
    "        for D = [4]\n",
    "\n",
    "            E = Float64(E)\n",
    "            D = Int64(D)\n",
    "\n",
    "            L = 10\n",
    "\n",
    "            # Folder = \"/jet/home/penuelap/Heat_rectification_Data/\" #PSC\n",
    "            Folder = \"Local_Data/Heat_rectification_Data/\" #MSI\n",
    "\n",
    "            Name = \"_E=$E\"*\"_L=$L\"*\"_D=$D\"\n",
    "\n",
    "            J_F = readdlm(Folder*\"Forward\"*Name*\"_NESS_$Current.txt\")\n",
    "            J_R = readdlm(Folder*\"Reverse\"*Name*\"_NESS_$Current.txt\")\n",
    "            time = readdlm(Folder*\"Reverse\"*Name*\"_NESS_time.txt\")\n",
    "\n",
    "            plot(time, J_R, color = \"blue\", label = \"Reverse\")\n",
    "            plot!(time, J_F, color = \"red\", label = \"Forward\")\n",
    "            hline!([0], linestyle = :dash, color = \"gray\", label = false, alpha = 0.5)\n",
    "            Ratio = round.((J_F[end]/J_R[end]); digits=3)\n",
    "            title!(\"E=$E\"*\", L=$L\"*\", D=$D\")\n",
    "            Current == \"JE\" ? ylabel!(\"Energy Current \"*L\"J_{E}\") : ylabel!(\"Particle Current \"*L\"J_{P}\")\n",
    "            Current == \"JE\" ? annotate!(time[end]/2, 0.0 , L\"J_{E}^{F}/J_{E}^{R} = \"*\"$Ratio\") : annotate!(time[end]/2, 0.0 , L\"J_{P}^{F}/J_{P}^{R} = \"*\"$Ratio\")\n",
    "            xlims!(40, 50)\n",
    "            ylims!(-0.2, 0.2)\n",
    "            Current == \"JE\" ? annotate!(45.0, 0.0 , L\"J_{E}^{F}/J_{E}^{R} = \"*\"$Ratio\") : annotate!(45.0, 0.0 , L\"J_{P}^{F}/J_{P}^{R} = \"*\"$Ratio\")\n",
    "            \n",
    "            savefig(Folder*\"Results\"*Name*\"_$Current.pdf\")\n",
    "        end\n",
    "    end\n",
    "end"
   ]
  },
  {
   "cell_type": "code",
   "execution_count": null,
   "id": "5075e3af-daac-4818-bec8-2d2faa8e53fe",
   "metadata": {},
   "outputs": [],
   "source": []
  }
 ],
 "metadata": {
  "kernelspec": {
   "display_name": "Julia 1.10.3",
   "language": "julia",
   "name": "julia-1.10"
  },
  "language_info": {
   "file_extension": ".jl",
   "mimetype": "application/julia",
   "name": "julia",
   "version": "1.10.3"
  }
 },
 "nbformat": 4,
 "nbformat_minor": 5
}

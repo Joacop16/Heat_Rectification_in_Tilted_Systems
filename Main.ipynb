{
 "cells": [
  {
   "cell_type": "code",
   "execution_count": 2,
   "id": "afe72742-3a7e-4ba6-ac6c-d4f188e5993e",
   "metadata": {},
   "outputs": [
    {
     "data": {
      "text/plain": [
       "Energy_Current_HS_time_dependent (generic function with 2 methods)"
      ]
     },
     "execution_count": 2,
     "metadata": {},
     "output_type": "execute_result"
    }
   ],
   "source": [
    "include(\"TN_Superfermionic_Mesoscopic_Leads/Code/Interacting_functions.jl\")"
   ]
  },
  {
   "cell_type": "markdown",
   "id": "c94a18fa-a658-47b4-9dba-8f86ce84eac4",
   "metadata": {},
   "source": [
    "Let's consider the same Spectral density and logarithmic linear discretization that we have been using the whole time:"
   ]
  },
  {
   "cell_type": "code",
   "execution_count": 13,
   "id": "a3c4b5a8-9394-4c55-8474-88004912c852",
   "metadata": {},
   "outputs": [
    {
     "data": {
      "text/plain": [
       "Logarithmic_linear_arrays (generic function with 1 method)"
      ]
     },
     "execution_count": 13,
     "metadata": {},
     "output_type": "execute_result"
    }
   ],
   "source": [
    "using LinearAlgebra\n",
    "using FlexiMaps\n",
    "\n",
    "W = 8.0\n",
    "Γ = W/8\n",
    "J(ω) = abs(ω) <= abs(W) ? Γ : 0 #Spectral density Γ = W/8 in this case\n",
    "\n",
    "function Logarithmic_linear_arrays(L, J)\n",
    "    #L: lead size\n",
    "    #J: Spectral density    \n",
    "    \n",
    "    #We need to define εk for the lead. In particular, we use the logarithmic-linear discretization of the paper. As this is just for the article, it is not worthy to put it with the other functions in NonInteacting_functions.jl\n",
    "    \n",
    "    W_log = W #W\n",
    "    W_lin = W_log/2 #W* = W/2\n",
    "    \n",
    "    L_log = L*0.2\n",
    "    L_lin = L - L_log\n",
    "    \n",
    "    Lin_Window = LinRange(-W_lin, W_lin, Int(L_lin))\n",
    "    Log_Window = maprange(log, W_lin, W_log, length=Int(L_log/2 + 1))\n",
    "    \n",
    "    εk = Float64[]\n",
    "    append!(εk, -reverse( Log_Window[2:length(Log_Window)]), Lin_Window, Log_Window[2:length(Log_Window)])\n",
    "    \n",
    "    γk = [εk[k+1] - εk[k] for k=1:Int(L/2)]\n",
    "    append!(γk, reverse(γk))\n",
    "\n",
    "    κkp = ComplexF64[sqrt(J(εk[k])*γk[k]/(2.0*pi)) for k=1:L] #Kp = sqrt(J(e)*γ/(2*pi))\n",
    "\n",
    "    return εk, γk,  κkp\n",
    "end"
   ]
  },
  {
   "cell_type": "code",
   "execution_count": 14,
   "id": "cef663fe-2da0-437c-b447-19d03cf418c7",
   "metadata": {},
   "outputs": [
    {
     "data": {
      "text/plain": [
       "fk_arrays (generic function with 1 method)"
      ]
     },
     "execution_count": 14,
     "metadata": {},
     "output_type": "execute_result"
    }
   ],
   "source": [
    "#Global variables by default\n",
    "μ_L, μ_R = W/16, W/16 #As we want to focus in Heat rectification, we should not have gradient of chemical potential.\n",
    "\n",
    "ts = (W/8)\n",
    "\n",
    "function fk_arrays(εk_array_L, εk_array_R)\n",
    "    \n",
    "    fk_array_L = [fermi_dirac_distribution(ε, μ_L, β_L) for ε = εk_array_L]\n",
    "    fk_array_R = [fermi_dirac_distribution(ε, μ_R, β_R) for ε = εk_array_R]\n",
    "    \n",
    "    return fk_array_L, fk_array_R\n",
    "end"
   ]
  },
  {
   "cell_type": "code",
   "execution_count": 15,
   "id": "be03207d-03a1-44e7-afda-16b8d5fc9e56",
   "metadata": {},
   "outputs": [
    {
     "data": {
      "text/plain": [
       "(0.1, 0.5)"
      ]
     },
     "execution_count": 15,
     "metadata": {},
     "output_type": "execute_result"
    }
   ],
   "source": [
    "β_L, β_R = 1/(10*ts), 1/(2*ts) #Forward Bias: TL > TR\n",
    "# β_L, β_R = 1/(2*ts), 1/(10*ts) #Reverse Bias: TL < TR"
   ]
  },
  {
   "cell_type": "markdown",
   "id": "67c74465-e3e6-43f5-8c2a-eb56bf3009ab",
   "metadata": {},
   "source": [
    "Possible sizes: L = 10, 20. D = 2, 4"
   ]
  },
  {
   "cell_type": "code",
   "execution_count": 35,
   "id": "76392745-4451-48de-bc32-869967eda904",
   "metadata": {},
   "outputs": [],
   "source": [
    "#Lead Parameters\n",
    "L, D = 10, 10\n",
    "εk, γk, κp = Logarithmic_linear_arrays(L, J)\n",
    "fk_L, fk_R = fk_arrays(εk, εk);"
   ]
  },
  {
   "cell_type": "code",
   "execution_count": 36,
   "id": "3418d024-4c85-4eea-b1fb-5f0ba1f5b7ff",
   "metadata": {},
   "outputs": [],
   "source": [
    "#System Parameters\n",
    "D = 2\n",
    "U = 1.2*ts\n",
    "E = 4\n",
    "μ = -E*(D+1)/4\n",
    "\n",
    "ε_system = [(μ+0.5E*j) for j =1:D]; #Tilted system energies"
   ]
  },
  {
   "cell_type": "code",
   "execution_count": 40,
   "id": "fcf1d899-a0d9-4e64-8e58-ab2854f8ed8d",
   "metadata": {},
   "outputs": [
    {
     "data": {
      "text/plain": [
       "0.05"
      ]
     },
     "execution_count": 40,
     "metadata": {},
     "output_type": "execute_result"
    }
   ],
   "source": [
    "M = L + D + R\n",
    "\n",
    "sites = siteinds(\"S=1/2\",2*M)\n",
    "I_vec = Build_left_vacuum(sites);\n",
    "\n",
    "#TN Parameters\n",
    "maxdim = 40;\n",
    "dt = 0.05"
   ]
  },
  {
   "cell_type": "code",
   "execution_count": 51,
   "id": "e1005e4a-1179-402f-9466-0bccd48af3df",
   "metadata": {},
   "outputs": [
    {
     "name": "stdout",
     "output_type": "stream",
     "text": [
      "10.0 % Completed.\n",
      "20.0 % Completed.\n",
      "30.0 % Completed.\n",
      "40.0 % Completed.\n",
      "50.0 % Completed.\n",
      "60.0 % Completed.\n",
      "70.0 % Completed.\n",
      "80.0 % Completed.\n",
      "90.0 % Completed.\n",
      "100.0 % Completed.\n",
      " 48.451494 seconds (340.25 M allocations: 92.832 GiB, 8.15% gc time)\n"
     ]
    }
   ],
   "source": [
    "#Let's use the thermal state as the start point for the time evolution:\n",
    "\n",
    "Swap_Gates, TEBD_Gates = Build_Gates(sites, εk, γk, 0*κp, fk_L, εk, γk, 0*κp, fk_R, ε_system, ts, U); #0*Kp_array = no coupling between the lead and the system\n",
    "\n",
    "NumSteps = 1000\n",
    "@time Thermal_State, Occupation_Matrix_t = Apply_TEBD(I_vec, I_vec, Swap_Gates, TEBD_Gates, NumSteps); #maxdim = 40 by default\n",
    "@show JP = Particle_Current(Thermal_State, I_vec, γk, fk_L, Float64[], Float64[])\n",
    "@show JE = Energy_Current(Thermal_State, I_vec, γk, fk_L, εk, κp, Float64[], Float64[], Float64[], ComplexF64[])"
   ]
  },
  {
   "cell_type": "code",
   "execution_count": 53,
   "id": "fe286cdd-a807-471c-a08b-dbd7ced5d8ac",
   "metadata": {},
   "outputs": [
    {
     "data": {
      "text/plain": [
       "MPS\n",
       "[1] ((dim=2|id=606|\"S=1/2,Site,n=1\"), (dim=2|id=348|\"Link,n=1\"))\n",
       "[2] ((dim=2|id=348|\"Link,n=1\"), (dim=2|id=798|\"S=1/2,Site,n=2\"), (dim=1|id=128|\"Link,n=2\"))\n",
       "[3] ((dim=2|id=897|\"S=1/2,Site,n=3\"), (dim=1|id=128|\"Link,n=2\"), (dim=2|id=139|\"Link,n=1\"))\n",
       "[4] ((dim=2|id=139|\"Link,n=1\"), (dim=2|id=871|\"S=1/2,Site,n=4\"), (dim=1|id=619|\"Link,n=2\"))\n",
       "[5] ((dim=2|id=830|\"S=1/2,Site,n=5\"), (dim=1|id=619|\"Link,n=2\"), (dim=2|id=103|\"Link,n=1\"))\n",
       "[6] ((dim=2|id=103|\"Link,n=1\"), (dim=2|id=858|\"S=1/2,Site,n=6\"), (dim=1|id=760|\"Link,n=2\"))\n",
       "[7] ((dim=2|id=953|\"S=1/2,Site,n=7\"), (dim=1|id=760|\"Link,n=2\"), (dim=2|id=361|\"Link,n=1\"))\n",
       "[8] ((dim=2|id=361|\"Link,n=1\"), (dim=2|id=226|\"S=1/2,Site,n=8\"), (dim=1|id=616|\"Link,n=2\"))\n",
       "[9] ((dim=2|id=297|\"S=1/2,Site,n=9\"), (dim=1|id=616|\"Link,n=2\"), (dim=2|id=417|\"Link,n=1\"))\n",
       "[10] ((dim=2|id=417|\"Link,n=1\"), (dim=2|id=728|\"S=1/2,Site,n=10\"), (dim=1|id=406|\"Link,n=2\"))\n",
       "[11] ((dim=2|id=908|\"S=1/2,Site,n=11\"), (dim=1|id=406|\"Link,n=2\"), (dim=2|id=139|\"Link,n=1\"))\n",
       "[12] ((dim=2|id=139|\"Link,n=1\"), (dim=2|id=509|\"S=1/2,Site,n=12\"), (dim=1|id=768|\"Link,n=2\"))\n",
       "[13] ((dim=2|id=69|\"S=1/2,Site,n=13\"), (dim=1|id=768|\"Link,n=2\"), (dim=2|id=39|\"Link,n=1\"))\n",
       "[14] ((dim=2|id=39|\"Link,n=1\"), (dim=2|id=634|\"S=1/2,Site,n=14\"), (dim=1|id=294|\"Link,n=2\"))\n",
       "[15] ((dim=2|id=429|\"S=1/2,Site,n=15\"), (dim=1|id=294|\"Link,n=2\"), (dim=2|id=978|\"Link,n=1\"))\n",
       "[16] ((dim=2|id=978|\"Link,n=1\"), (dim=2|id=695|\"S=1/2,Site,n=16\"), (dim=1|id=422|\"Link,n=2\"))\n",
       "[17] ((dim=2|id=882|\"S=1/2,Site,n=17\"), (dim=1|id=422|\"Link,n=2\"), (dim=2|id=207|\"Link,n=1\"))\n",
       "[18] ((dim=2|id=207|\"Link,n=1\"), (dim=2|id=823|\"S=1/2,Site,n=18\"), (dim=1|id=306|\"Link,n=2\"))\n",
       "[19] ((dim=2|id=834|\"S=1/2,Site,n=19\"), (dim=1|id=306|\"Link,n=2\"), (dim=2|id=6|\"Link,n=1\"))\n",
       "[20] ((dim=2|id=6|\"Link,n=1\"), (dim=2|id=893|\"S=1/2,Site,n=20\"), (dim=1|id=217|\"Link,n=2\"))\n",
       "[21] ((dim=1|id=217|\"Link,n=2\"), (dim=2|id=183|\"S=1/2,Site,n=21\"), (dim=2|id=813|\"Link,n=3\"))\n",
       "[22] ((dim=2|id=813|\"Link,n=3\"), (dim=2|id=444|\"S=1/2,Site,n=22\"), (dim=1|id=609|\"Link,n=2\"))\n",
       "[23] ((dim=2|id=409|\"S=1/2,Site,n=23\"), (dim=2|id=853|\"Link,n=3\"), (dim=1|id=609|\"Link,n=2\"))\n",
       "[24] ((dim=2|id=122|\"S=1/2,Site,n=24\"), (dim=1|id=190|\"Link,n=2\"), (dim=2|id=853|\"Link,n=3\"))\n",
       "[25] ((dim=2|id=182|\"S=1/2,Site,n=25\"), (dim=2|id=875|\"Link,n=3\"), (dim=1|id=190|\"Link,n=2\"))\n",
       "[26] ((dim=2|id=487|\"S=1/2,Site,n=26\"), (dim=1|id=356|\"Link,n=2\"), (dim=2|id=875|\"Link,n=3\"))\n",
       "[27] ((dim=2|id=66|\"S=1/2,Site,n=27\"), (dim=2|id=628|\"Link,n=3\"), (dim=1|id=356|\"Link,n=2\"))\n",
       "[28] ((dim=2|id=596|\"S=1/2,Site,n=28\"), (dim=1|id=131|\"Link,n=2\"), (dim=2|id=628|\"Link,n=3\"))\n",
       "[29] ((dim=2|id=145|\"S=1/2,Site,n=29\"), (dim=2|id=217|\"Link,n=3\"), (dim=1|id=131|\"Link,n=2\"))\n",
       "[30] ((dim=2|id=326|\"S=1/2,Site,n=30\"), (dim=1|id=453|\"Link,n=2\"), (dim=2|id=217|\"Link,n=3\"))\n",
       "[31] ((dim=2|id=723|\"S=1/2,Site,n=31\"), (dim=2|id=486|\"Link,n=3\"), (dim=1|id=453|\"Link,n=2\"))\n",
       "[32] ((dim=2|id=268|\"S=1/2,Site,n=32\"), (dim=1|id=137|\"Link,n=2\"), (dim=2|id=486|\"Link,n=3\"))\n",
       "[33] ((dim=2|id=816|\"S=1/2,Site,n=33\"), (dim=2|id=411|\"Link,n=3\"), (dim=1|id=137|\"Link,n=2\"))\n",
       "[34] ((dim=2|id=449|\"S=1/2,Site,n=34\"), (dim=1|id=938|\"Link,n=2\"), (dim=2|id=411|\"Link,n=3\"))\n",
       "[35] ((dim=2|id=5|\"S=1/2,Site,n=35\"), (dim=2|id=56|\"Link,n=3\"), (dim=1|id=938|\"Link,n=2\"))\n",
       "[36] ((dim=2|id=2|\"S=1/2,Site,n=36\"), (dim=1|id=817|\"Link,n=2\"), (dim=2|id=56|\"Link,n=3\"))\n",
       "[37] ((dim=2|id=80|\"S=1/2,Site,n=37\"), (dim=2|id=481|\"Link,n=3\"), (dim=1|id=817|\"Link,n=2\"))\n",
       "[38] ((dim=2|id=110|\"S=1/2,Site,n=38\"), (dim=1|id=431|\"Link,n=2\"), (dim=2|id=481|\"Link,n=3\"))\n",
       "[39] ((dim=2|id=467|\"S=1/2,Site,n=39\"), (dim=2|id=937|\"Link,n=3\"), (dim=1|id=431|\"Link,n=2\"))\n",
       "[40] ((dim=2|id=770|\"S=1/2,Site,n=40\"), (dim=1|id=748|\"Link,n=2\"), (dim=2|id=937|\"Link,n=3\"))\n",
       "[41] ((dim=2|id=146|\"S=1/2,Site,n=41\"), (dim=2|id=719|\"Link,n=3\"), (dim=1|id=748|\"Link,n=2\"))\n",
       "[42] ((dim=2|id=767|\"S=1/2,Site,n=42\"), (dim=1|id=144|\"Link,n=2\"), (dim=2|id=719|\"Link,n=3\"))\n",
       "[43] ((dim=2|id=520|\"S=1/2,Site,n=43\"), (dim=2|id=860|\"Link,n=3\"), (dim=1|id=144|\"Link,n=2\"))\n",
       "[44] ((dim=2|id=152|\"S=1/2,Site,n=44\"), (dim=2|id=860|\"Link,n=3\"))\n"
      ]
     },
     "execution_count": 53,
     "metadata": {},
     "output_type": "execute_result"
    }
   ],
   "source": [
    "Thermal_State"
   ]
  },
  {
   "cell_type": "code",
   "execution_count": null,
   "id": "56c0a7fc-1075-4083-a86e-bd9536746f39",
   "metadata": {},
   "outputs": [],
   "source": []
  }
 ],
 "metadata": {
  "kernelspec": {
   "display_name": "Julia 1.10.3",
   "language": "julia",
   "name": "julia-1.10"
  },
  "language_info": {
   "file_extension": ".jl",
   "mimetype": "application/julia",
   "name": "julia",
   "version": "1.10.3"
  }
 },
 "nbformat": 4,
 "nbformat_minor": 5
}

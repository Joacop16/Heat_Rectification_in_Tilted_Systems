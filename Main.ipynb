{
 "cells": [
  {
   "cell_type": "code",
   "execution_count": 156,
   "id": "793004fa-5075-4afb-b9dd-8d1861cf65a4",
   "metadata": {},
   "outputs": [],
   "source": [
    "using Statistics"
   ]
  },
  {
   "cell_type": "code",
   "execution_count": 2,
   "id": "fbfd79f3-2d5f-4efa-abd2-05b118c7ecfe",
   "metadata": {},
   "outputs": [
    {
     "data": {
      "text/plain": [
       "Build_Correlation_Matrix_wAncillas (generic function with 1 method)"
      ]
     },
     "execution_count": 2,
     "metadata": {},
     "output_type": "execute_result"
    }
   ],
   "source": [
    "include(\"ED_functions.jl\")"
   ]
  },
  {
   "cell_type": "code",
   "execution_count": 148,
   "id": "a78c86d4-221a-47a9-bff4-5efd97858e1e",
   "metadata": {},
   "outputs": [
    {
     "data": {
      "text/plain": [
       "Lindblad_Master_Equation (generic function with 1 method)"
      ]
     },
     "execution_count": 148,
     "metadata": {},
     "output_type": "execute_result"
    }
   ],
   "source": [
    "function Build_H(N, Δ, μ, E, J = 1.0)\n",
    "    #J: Hopping amplitude.\n",
    "    #Δ: Nearest-neighbor density-density interaction.\n",
    "    #μ: Chemical potential of the diode.\n",
    "    #E: Tilt strength.\n",
    "\n",
    "    H = zeros(2^N, 2^N)\n",
    "    \n",
    "    for i=1:N-1 #H_S\n",
    "        H += 0.5*J*Build_C_dagi_Cj_Matrix(N, i, i+1)\n",
    "        H += 0.5*J*Build_C_dagi_Cj_Matrix(N, i+1, i)\n",
    "        H += Δ*(Build_C_dagi_Cj_Matrix(N, i, i)-0.5*Enlarge_Matrix_site_j(N, 1, Identity))*(Build_C_dagi_Cj_Matrix(N, i+1, i+1)-0.5*Enlarge_Matrix_site_j(N, 1, Identity))\n",
    "    end\n",
    "\n",
    "    for i=1:N\n",
    "        H += (μ + 0.5*E*i)*(Build_C_dagi_Cj_Matrix(N, i, i)-0.5*Enlarge_Matrix_site_j(N, 1, Identity))\n",
    "    end\n",
    "        \n",
    "    return H\n",
    "end\n",
    "\n",
    "function Build_JP_persite_operators(N, J = 1.0)\n",
    "    #J: Hopping amplitude.\n",
    "    \n",
    "    JP_operators = []\n",
    "    for i=1:N-1\n",
    "        JP_i = 1im*J*0.5*(Build_C_dagi_Cj_Matrix(N, i, i+1) - Build_C_dagi_Cj_Matrix(N, i+1, i)) #J_i = i(J/2)*(c†i*ci+1 - c†i+1*ci)\n",
    "        push!(JP_operators, JP_i)\n",
    "    end\n",
    "\n",
    "    return JP_operators\n",
    "end\n",
    "\n",
    "function Build_Liouvillian_Superoperator(H, gamma_k_list, L_k_list)\n",
    "\n",
    "    N = log2(size(H)[1])\n",
    "    superIdentity = Enlarge_Matrix_site_j(N, 1, Identity)\n",
    "    \n",
    "    superH = -1im*(kron(superIdentity, H) - kron(transpose(H), superIdentity))\n",
    "    superL = zeros(size(superH))\n",
    "    \n",
    "    for k=1:length(gamma_k_list)\n",
    "        L_k = L_k_list[k]\n",
    "        gamma_k = gamma_k_list[k]\n",
    "        superL = superL + gamma_k*(kron(conj(L_k), L_k) -0.5*(kron(superIdentity, adjoint(L_k)*L_k) + kron(transpose(L_k)*conj(L_k), superIdentity)))\n",
    "    end\n",
    "\n",
    "    Liouvillian_Superoperator = superH + superL\n",
    "    return Liouvillian_Superoperator\n",
    "end\n",
    "\n",
    "function Lindblad_Master_Equation(rho, H, gamma_k_list, L_k_list)\n",
    "\n",
    "    H_Term = -1im*(H*rho - rho*H)\n",
    "    Dissipation_Term = zeros(size(H_Term))\n",
    "\n",
    "    for k=1:length(gamma_k_list)\n",
    "        L_k = L_k_list[k]\n",
    "        gamma_k = gamma_k_list[k]\n",
    "        Dissipation_Term = Dissipation_Term + gamma_k*(L_k*rho*adjoint(L_k) - 0.5*(adjoint(L_k)*L_k*rho + rho*adjoint(L_k)*L_k))\n",
    "    end\n",
    "\n",
    "    return H_Term + Dissipation_Term\n",
    "end"
   ]
  },
  {
   "cell_type": "code",
   "execution_count": 149,
   "id": "31e79cd6-2c81-48a1-bf94-b35b3f4d0e67",
   "metadata": {},
   "outputs": [],
   "source": [
    "N = 4\n",
    "Δ = 5\n",
    "\n",
    "Γ = 1.0\n",
    "f_values = 1.0 #f>0 forward, f<0 reverse\n",
    "\n",
    "JP_operators = Build_JP_persite_operators(N); "
   ]
  },
  {
   "cell_type": "code",
   "execution_count": 150,
   "id": "bed40c00-a861-4766-bfd8-ecd6448b9ab8",
   "metadata": {},
   "outputs": [],
   "source": [
    "#Same operators for all E.\n",
    "\n",
    "JP_operators = Build_JP_persite_operators(N); \n",
    "\n",
    "L_1_plus = Build_Cdag_Matrix(N, 1)\n",
    "L_1_minus = Build_C_Matrix(N, 1)\n",
    "L_N_plus = Build_Cdag_Matrix(N, N)\n",
    "L_N_minus = Build_C_Matrix(N, N) \n",
    "\n",
    "L_k_list = Matrix{ComplexF64}[L_1_plus, L_1_minus, L_N_plus, L_N_minus]\n",
    "gamma_k_list = [Γ*(1+f)/8, Γ*(1-f)/8, Γ*(1-f)/8, Γ*(1+f)/8];\n",
    "\n",
    "# L_k_list = Matrix{ComplexF64}[sqrt(Γ*(1+f)/8)*L_1_plus, sqrt(Γ*(1-f)/8)*L_1_minus, sqrt(Γ*(1-f)/8)*L_N_plus, sqrt(Γ*(1+f)/8)*L_N_minus]\n",
    "# gamma_k_list = [1,1,1,1]"
   ]
  },
  {
   "cell_type": "code",
   "execution_count": 151,
   "id": "7460514e-5959-450c-b269-498f46a4d546",
   "metadata": {},
   "outputs": [
    {
     "name": "stdout",
     "output_type": "stream",
     "text": [
      "E = E_values[1] = 0.0\n"
     ]
    },
    {
     "data": {
      "text/plain": [
       "256×256 Matrix{ComplexF64}:\n",
       " -0.25+0.0im     0.0+0.0im    0.0+0.0im  …     0.0+0.0im    0.0+0.0im\n",
       "   0.0+0.0im  -0.375+2.5im    0.0-0.5im        0.0+0.0im    0.0+0.0im\n",
       "   0.0+0.0im     0.0-0.5im  -0.25+5.0im        0.0+0.0im    0.0+0.0im\n",
       "   0.0+0.0im     0.0+0.0im    0.0+0.0im        0.0+0.0im    0.0+0.0im\n",
       "   0.0+0.0im     0.0+0.0im    0.0-0.5im        0.0+0.0im    0.0+0.0im\n",
       "   0.0+0.0im     0.0+0.0im    0.0+0.0im  …     0.0+0.0im    0.0+0.0im\n",
       "   0.0+0.0im     0.0+0.0im    0.0+0.0im        0.0+0.0im    0.0+0.0im\n",
       "   0.0+0.0im     0.0+0.0im    0.0+0.0im        0.0+0.0im    0.0+0.0im\n",
       "   0.0+0.0im     0.0+0.0im    0.0+0.0im        0.0+0.0im    0.0+0.0im\n",
       "   0.0+0.0im     0.0+0.0im    0.0+0.0im        0.0+0.0im    0.0+0.0im\n",
       "   0.0+0.0im     0.0+0.0im    0.0+0.0im  …     0.0+0.0im    0.0+0.0im\n",
       "   0.0+0.0im     0.0+0.0im    0.0+0.0im        0.0+0.0im    0.0+0.0im\n",
       "   0.0+0.0im     0.0+0.0im    0.0+0.0im        0.0+0.0im    0.0+0.0im\n",
       "      ⋮                                  ⋱                     ⋮\n",
       "   0.0+0.0im     0.0+0.0im    0.0+0.0im        0.0+0.0im    0.0+0.0im\n",
       "   0.0+0.0im     0.0+0.0im    0.0+0.0im  …     0.0+0.0im    0.0+0.0im\n",
       "   0.0+0.0im     0.0+0.0im    0.0+0.0im        0.0+0.0im    0.0+0.0im\n",
       "   0.0+0.0im     0.0+0.0im    0.0+0.0im        0.0+0.0im    0.0+0.0im\n",
       "   0.0+0.0im     0.0+0.0im    0.0+0.0im        0.0+0.0im    0.0+0.0im\n",
       "   0.0+0.0im     0.0+0.0im    0.0+0.0im        0.0+0.0im    0.0+0.0im\n",
       "   0.0+0.0im     0.0+0.0im    0.0+0.0im  …     0.0+0.0im    0.0+0.0im\n",
       "   0.0+0.0im     0.0+0.0im    0.0+0.0im        0.0+0.0im    0.0+0.0im\n",
       "   0.0+0.0im     0.0+0.0im    0.0+0.0im        0.0+0.0im    0.0+0.0im\n",
       "   0.0+0.0im     0.0+0.0im    0.0+0.0im        0.0-0.5im    0.0+0.0im\n",
       "   0.0+0.0im     0.0+0.0im    0.0+0.0im     -0.125+2.5im    0.0+0.0im\n",
       "   0.0+0.0im     0.0+0.0im    0.0+0.0im  …     0.0+0.0im  -0.25+0.0im"
      ]
     },
     "execution_count": 151,
     "metadata": {},
     "output_type": "execute_result"
    }
   ],
   "source": [
    "#Different Hamiltonian for each E.\n",
    "E_values = LinRange(0, 12, 5)\n",
    "\n",
    "\n",
    "@show E = E_values[1]\n",
    "μ = -E*(N+1)/4\n",
    "\n",
    "H = Build_H(N, Δ, μ, E);\n",
    "Liouvillian_Superoperator = Build_Liouvillian_Superoperator(H, gamma_k_list, L_k_list)"
   ]
  },
  {
   "cell_type": "code",
   "execution_count": 158,
   "id": "20852f0d-d6ac-47f7-8168-776262d5006f",
   "metadata": {},
   "outputs": [],
   "source": [
    "GS = nullspace(Liouvillian_Superoperator)\n",
    "rho_ss = reshape(GS, size(H)) #Steady State\n",
    "rho_ss = rho_ss./tr(rho_ss)\n",
    "\n",
    "J0 = 2*Γ*f/(Γ^2 +16) #Equation A(15 from article)\n",
    "JP_i = [real(tr(JP_OP*rho_ss))/J0 for JP_OP = JP_operators]\n",
    "JP = mean(JP_i);"
   ]
  },
  {
   "cell_type": "code",
   "execution_count": 157,
   "id": "0eba970c-98ce-4635-a62a-cad01dc1f36b",
   "metadata": {},
   "outputs": [
    {
     "data": {
      "text/plain": [
       "0.003014356603559526"
      ]
     },
     "execution_count": 157,
     "metadata": {},
     "output_type": "execute_result"
    }
   ],
   "source": []
  },
  {
   "cell_type": "code",
   "execution_count": null,
   "id": "c821065c-b4e2-4946-89da-964ea53017e7",
   "metadata": {},
   "outputs": [],
   "source": []
  }
 ],
 "metadata": {
  "kernelspec": {
   "display_name": "Julia 1.10.4",
   "language": "julia",
   "name": "julia-1.10"
  },
  "language_info": {
   "file_extension": ".jl",
   "mimetype": "application/julia",
   "name": "julia",
   "version": "1.10.4"
  }
 },
 "nbformat": 4,
 "nbformat_minor": 5
}

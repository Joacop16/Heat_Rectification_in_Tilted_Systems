{
 "cells": [
  {
   "cell_type": "code",
   "execution_count": 1,
   "id": "8aa5d789-a15b-49f7-858d-847ab4cd6cfd",
   "metadata": {},
   "outputs": [
    {
     "name": "stdout",
     "output_type": "stream",
     "text": [
      "This package is totally compatible with gpu. If you want to use GPU, just define GPU = true as a global variable in your code.\n"
     ]
    },
    {
     "data": {
      "text/plain": [
       "Energy_Current_HS_time_dependent"
      ]
     },
     "execution_count": 1,
     "metadata": {},
     "output_type": "execute_result"
    }
   ],
   "source": [
    "include(\"TN_Superfermionic_Mesoscopic_Leads/Code/Interacting_functions.jl\")"
   ]
  },
  {
   "cell_type": "code",
   "execution_count": 2,
   "id": "2b7f0c26-eefe-4e26-b516-543af39df799",
   "metadata": {},
   "outputs": [
    {
     "name": "stdout",
     "output_type": "stream",
     "text": [
      "The package has been precompiled for GPU = false.\n",
      " 62.302839 seconds (155.37 M allocations: 12.854 GiB, 4.77% gc time, 96.83% compilation time: 2% of which was recompilation)\n"
     ]
    }
   ],
   "source": [
    "precompile_package(\"TN_Superfermionic_Mesoscopic_Leads\", false)"
   ]
  },
  {
   "cell_type": "code",
   "execution_count": 3,
   "id": "8b1fd3a1-f957-4cd8-935a-030f1a017916",
   "metadata": {},
   "outputs": [
    {
     "data": {
      "text/plain": [
       "fk_arrays (generic function with 1 method)"
      ]
     },
     "execution_count": 3,
     "metadata": {},
     "output_type": "execute_result"
    }
   ],
   "source": [
    "using LinearAlgebra\n",
    "using FlexiMaps\n",
    "\n",
    "W = 8.0\n",
    "Γ = W/8\n",
    "J(ω) = abs(ω) <= abs(W) ? Γ : 0 #Spectral density Γ = W/8 in this case\n",
    "\n",
    "function Logarithmic_linear_arrays(L, J)\n",
    "    #L: lead size\n",
    "    #J: Spectral density    \n",
    "    \n",
    "    #We need to define εk for the lead. In particular, we use the logarithmic-linear discretization of the paper. As this is just for the article, it is not worthy to put it with the other functions in NonInteacting_functions.jl\n",
    "    \n",
    "    W_log = W #W\n",
    "    W_lin = W_log/2 #W* = W/2\n",
    "    \n",
    "    L_log = L*0.2\n",
    "    L_lin = L - L_log\n",
    "    \n",
    "    Lin_Window = LinRange(-W_lin, W_lin, Int(L_lin))\n",
    "    Log_Window = maprange(log, W_lin, W_log, length=Int(L_log/2 + 1))\n",
    "    \n",
    "    εk = Float64[]\n",
    "    append!(εk, -reverse( Log_Window[2:length(Log_Window)]), Lin_Window, Log_Window[2:length(Log_Window)])\n",
    "    \n",
    "    γk = [εk[k+1] - εk[k] for k=1:Int(L/2)]\n",
    "    append!(γk, reverse(γk))\n",
    "\n",
    "    κkp = ComplexF64[sqrt(J(εk[k])*γk[k]/(2.0*pi)) for k=1:L] #Kp = sqrt(J(e)*γ/(2*pi))\n",
    "\n",
    "    return εk, γk,  κkp\n",
    "end\n",
    "\n",
    "#Global variables by default\n",
    "μ_L, μ_R = 0.0, 0.0 #As we want to focus in Heat rectification, we should not have gradient of chemical potential.\n",
    "ts = (W/8)\n",
    "\n",
    "β_L, β_R = 1/(1000*ts), 1/(1*ts) #Forward Bias: TL > TR\n",
    "# β_L, β_R = 1/(1*ts), 1/(1000*ts) #Reverse Bias: TL < TR\n",
    "\n",
    "function fk_arrays(εk_array_L, εk_array_R)\n",
    "    \n",
    "    fk_array_L = [fermi_dirac_distribution(ε, μ_L, β_L) for ε = εk_array_L]\n",
    "    fk_array_R = [fermi_dirac_distribution(ε, μ_R, β_R) for ε = εk_array_R]\n",
    "    \n",
    "    return fk_array_L, fk_array_R\n",
    "end"
   ]
  },
  {
   "cell_type": "code",
   "execution_count": 4,
   "id": "306e40e6-f626-4e4a-918e-82b66a1cc0bb",
   "metadata": {},
   "outputs": [
    {
     "data": {
      "text/plain": [
       "48-element Vector{Index{Int64}}:\n",
       " (dim=2|id=475|\"S=1/2,Site,n=1\")\n",
       " (dim=2|id=941|\"S=1/2,Site,n=2\")\n",
       " (dim=2|id=382|\"S=1/2,Site,n=3\")\n",
       " (dim=2|id=285|\"S=1/2,Site,n=4\")\n",
       " (dim=2|id=687|\"S=1/2,Site,n=5\")\n",
       " (dim=2|id=704|\"S=1/2,Site,n=6\")\n",
       " (dim=2|id=942|\"S=1/2,Site,n=7\")\n",
       " (dim=2|id=532|\"S=1/2,Site,n=8\")\n",
       " (dim=2|id=653|\"S=1/2,Site,n=9\")\n",
       " (dim=2|id=651|\"S=1/2,Site,n=10\")\n",
       " (dim=2|id=115|\"S=1/2,Site,n=11\")\n",
       " (dim=2|id=934|\"S=1/2,Site,n=12\")\n",
       " (dim=2|id=95|\"S=1/2,Site,n=13\")\n",
       " ⋮\n",
       " (dim=2|id=638|\"S=1/2,Site,n=37\")\n",
       " (dim=2|id=687|\"S=1/2,Site,n=38\")\n",
       " (dim=2|id=272|\"S=1/2,Site,n=39\")\n",
       " (dim=2|id=272|\"S=1/2,Site,n=40\")\n",
       " (dim=2|id=101|\"S=1/2,Site,n=41\")\n",
       " (dim=2|id=751|\"S=1/2,Site,n=42\")\n",
       " (dim=2|id=167|\"S=1/2,Site,n=43\")\n",
       " (dim=2|id=515|\"S=1/2,Site,n=44\")\n",
       " (dim=2|id=418|\"S=1/2,Site,n=45\")\n",
       " (dim=2|id=634|\"S=1/2,Site,n=46\")\n",
       " (dim=2|id=423|\"S=1/2,Site,n=47\")\n",
       " (dim=2|id=52|\"S=1/2,Site,n=48\")"
      ]
     },
     "execution_count": 4,
     "metadata": {},
     "output_type": "execute_result"
    }
   ],
   "source": [
    "#Lead Parameters\n",
    "L, R = 10, 10\n",
    "εk, γk, κp = Logarithmic_linear_arrays(L, J)\n",
    "fk_L, fk_R = fk_arrays(εk, εk);\n",
    "\n",
    "#System Parameters\n",
    "D = 4\n",
    "U = 2.5*ts\n",
    "E = 1.0\n",
    "μ = -E*(D+1)/4\n",
    "\n",
    "ε_system = [(μ+0.5E*j) for j =1:D]; #Tilted system energies\n",
    "\n",
    "#TN Parameters\n",
    "M = L + D + R\n",
    "sites = siteinds(\"S=1/2\",2*M)"
   ]
  },
  {
   "cell_type": "code",
   "execution_count": 6,
   "id": "f86e9748-6b8f-4c79-a669-316c2c36e1b7",
   "metadata": {},
   "outputs": [
    {
     "data": {
      "text/plain": [
       "4-element Vector{Index{Int64}}:\n",
       " (dim=2|id=475|\"S=1/2,Site,n=1\")\n",
       " (dim=2|id=941|\"S=1/2,Site,n=2\")\n",
       " (dim=2|id=382|\"S=1/2,Site,n=3\")\n",
       " (dim=2|id=285|\"S=1/2,Site,n=4\")"
      ]
     },
     "execution_count": 6,
     "metadata": {},
     "output_type": "execute_result"
    }
   ],
   "source": [
    "s1, s2, s3, s4 = sites[1:4]"
   ]
  },
  {
   "cell_type": "code",
   "execution_count": 7,
   "id": "14747737-c934-4968-9560-14371d6221d5",
   "metadata": {},
   "outputs": [
    {
     "data": {
      "text/plain": [
       "ITensor ord=8 (dim=2|id=475|\"S=1/2,Site,n=1\") (dim=2|id=941|\"S=1/2,Site,n=2\") (dim=2|id=382|\"S=1/2,Site,n=3\") (dim=2|id=285|\"S=1/2,Site,n=4\") (dim=2|id=475|\"S=1/2,Site,n=1\")' (dim=2|id=941|\"S=1/2,Site,n=2\")' (dim=2|id=382|\"S=1/2,Site,n=3\")' (dim=2|id=285|\"S=1/2,Site,n=4\")'\n",
       "NDTensors.Dense{ComplexF64, Vector{ComplexF64}}"
      ]
     },
     "execution_count": 7,
     "metadata": {},
     "output_type": "execute_result"
    }
   ],
   "source": [
    "System_Gate(s1, s2,s3,s4, 1.0, 1.0, 1.0, 0.5)"
   ]
  },
  {
   "cell_type": "markdown",
   "id": "ea7ff3f6-0a36-4466-bee3-b0beacb05368",
   "metadata": {},
   "source": [
    "To reproduce the results of the appendix we need to change one function of the package. This fucntion is `System_Gate`, that is because the Hamiltonian of the article is not exactly the same that is implemented in the mesoscopic package."
   ]
  },
  {
   "cell_type": "code",
   "execution_count": 8,
   "id": "dbc8608d-42a7-4205-9a2d-4af9820a25dc",
   "metadata": {},
   "outputs": [
    {
     "data": {
      "text/plain": [
       "System_Gate"
      ]
     },
     "execution_count": 8,
     "metadata": {},
     "output_type": "execute_result"
    }
   ],
   "source": [
    "function System_Gate(s1::Index{Int64},s2::Index{Int64},s3::Index{Int64},s4::Index{Int64}, ts::Float64, U::Float64, ε::Float64, dt::Float64)\n",
    "\n",
    "    \n",
    "    \n",
    "    #Contribution from +H_S (Physical sites):\n",
    "    Gate = ε*op(\"σ-σ+\", s1)*op(\"Id\", s2)*op(\"Id\", s3)*op(\"Id\", s4)\n",
    "    Gate += -ts*(op(\"σ-\", s1)*op(\"σz\", s2)*op(\"σ+\", s3)*op(\"Id\", s4) + op(\"σ+\", s1)*op(\"σz\", s2)*op(\"σ-\", s3)*op(\"Id\", s4))\n",
    "    Gate += U*op(\"σ-σ+\", s1)*op(\"Id\", s2)*op(\"σ-σ+\", s3)*op(\"Id\", s4)\n",
    "\n",
    "    #Contribution from -H_d<=>s (Ancilla Sites)\n",
    "    Gate -= ε*op(\"Id\", s1)*op(\"σ-σ+\", s2)*op(\"Id\", s3)*op(\"Id\", s4)\n",
    "    Gate -= -ts*(op(\"Id\", s1)*op(\"σ-\", s2)*op(\"σz\", s3)*op(\"σ+\", s4) + op(\"Id\", s1)*op(\"σ+\", s2)*op(\"σz\", s3)*op(\"σ-\", s4))\n",
    "    Gate -= U*op(\"Id\", s1)*op(\"σ-σ+\", s2)*op(\"Id\", s3)*op(\"σ-σ+\", s4)   \n",
    "\n",
    "    U_Gate = exp(-0.5im*dt*Gate)\n",
    "\n",
    "    return U_Gate\n",
    "end"
   ]
  },
  {
   "cell_type": "code",
   "execution_count": null,
   "id": "59371314-8265-48ca-baf4-46866ca33fbf",
   "metadata": {},
   "outputs": [],
   "source": []
  }
 ],
 "metadata": {
  "kernelspec": {
   "display_name": "Julia 1.10.3",
   "language": "julia",
   "name": "julia-1.10"
  },
  "language_info": {
   "file_extension": ".jl",
   "mimetype": "application/julia",
   "name": "julia",
   "version": "1.10.3"
  }
 },
 "nbformat": 4,
 "nbformat_minor": 5
}

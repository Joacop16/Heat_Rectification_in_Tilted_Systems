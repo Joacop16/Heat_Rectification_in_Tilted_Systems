{
 "cells": [
  {
   "cell_type": "code",
   "execution_count": 2,
   "id": "afe72742-3a7e-4ba6-ac6c-d4f188e5993e",
   "metadata": {
    "collapsed": true,
    "jupyter": {
     "outputs_hidden": true
    },
    "tags": []
   },
   "outputs": [
    {
     "name": "stderr",
     "output_type": "stream",
     "text": [
      "\u001b[32m\u001b[1mPrecompiling\u001b[22m\u001b[39m ITensors\n",
      "\u001b[32m  ✓ \u001b[39m\u001b[90mIteratorInterfaceExtensions\u001b[39m\n",
      "\u001b[32m  ✓ \u001b[39m\u001b[90mLLVMLoopInfo\u001b[39m\n",
      "\u001b[32m  ✓ \u001b[39mLaTeXStrings\n",
      "\u001b[32m  ✓ \u001b[39m\u001b[90mExprTools\u001b[39m\n",
      "\u001b[32m  ✓ \u001b[39m\u001b[90mHalfIntegers\u001b[39m\n",
      "\u001b[32m  ✓ \u001b[39m\u001b[90mCompilerSupportLibraries_jll\u001b[39m\n",
      "\u001b[32m  ✓ \u001b[39m\u001b[90mCEnum\u001b[39m\n",
      "\u001b[32m  ✓ \u001b[39m\u001b[90mArgCheck\u001b[39m\n",
      "\u001b[32m  ✓ \u001b[39m\u001b[90mAbstractFFTs\u001b[39m\n",
      "\u001b[32m  ✓ \u001b[39m\u001b[90mInverseFunctions\u001b[39m\n",
      "\u001b[32m  ✓ \u001b[39m\u001b[90mSerializedElementArrays\u001b[39m\n",
      "\u001b[32m  ✓ \u001b[39m\u001b[90mInitialValues\u001b[39m\n",
      "\u001b[32m  ✓ \u001b[39m\u001b[90mOrderedCollections\u001b[39m\n",
      "\u001b[32m  ✓ \u001b[39m\u001b[90mReexport\u001b[39m\n",
      "\u001b[32m  ✓ \u001b[39m\u001b[90mExternalDocstrings\u001b[39m\n",
      "\u001b[32m  ✓ \u001b[39m\u001b[90mDataValueInterfaces\u001b[39m\n",
      "\u001b[32m  ✓ \u001b[39m\u001b[90mCompat\u001b[39m\n",
      "\u001b[32m  ✓ \u001b[39m\u001b[90mFillArrays\u001b[39m\n",
      "\u001b[32m  ✓ \u001b[39m\u001b[90mRandomNumbers\u001b[39m\n",
      "\u001b[32m  ✓ \u001b[39m\u001b[90mRequires\u001b[39m\n",
      "\u001b[32m  ✓ \u001b[39m\u001b[90mMPIPreferences\u001b[39m\n",
      "\u001b[32m  ✓ \u001b[39m\u001b[90mSentinelArrays\u001b[39m\n",
      "\u001b[32m  ✓ \u001b[39m\u001b[90mDocStringExtensions\u001b[39m\n",
      "\u001b[32m  ✓ \u001b[39m\u001b[90mInlineStrings\u001b[39m\n",
      "\u001b[32m  ✓ \u001b[39m\u001b[90mCompositionsBase\u001b[39m\n",
      "\u001b[32m  ✓ \u001b[39m\u001b[90mBFloat16s\u001b[39m\n",
      "\u001b[32m  ✓ \u001b[39m\u001b[90mInvertedIndices\u001b[39m\n",
      "\u001b[32m  ✓ \u001b[39m\u001b[90mIfElse\u001b[39m\n",
      "\u001b[32m  ✓ \u001b[39m\u001b[90mDefineSingletons\u001b[39m\n",
      "\u001b[32m  ✓ \u001b[39m\u001b[90mBitIntegers\u001b[39m\n",
      "\u001b[32m  ✓ \u001b[39m\u001b[90mCommonWorldInvalidations\u001b[39m\n",
      "\u001b[32m  ✓ \u001b[39m\u001b[90mDataAPI\u001b[39m\n",
      "\u001b[32m  ✓ \u001b[39m\u001b[90mZeros\u001b[39m\n",
      "\u001b[32m  ✓ \u001b[39m\u001b[90mPackageExtensionCompat\u001b[39m\n",
      "\u001b[32m  ✓ \u001b[39m\u001b[90mVectorInterface\u001b[39m\n",
      "\u001b[32m  ✓ \u001b[39m\u001b[90mUnsafeAtomics\u001b[39m\n",
      "\u001b[32m  ✓ \u001b[39m\u001b[90mConstructionBase\u001b[39m\n",
      "\u001b[32m  ✓ \u001b[39m\u001b[90mIndexing\u001b[39m\n",
      "\u001b[32m  ✓ \u001b[39m\u001b[90mScratch\u001b[39m\n",
      "\u001b[32m  ✓ \u001b[39m\u001b[90mTupleTools\u001b[39m\n",
      "\u001b[32m  ✓ \u001b[39m\u001b[90mStaticArraysCore\u001b[39m\n",
      "\u001b[32m  ✓ \u001b[39m\u001b[90mStatistics\u001b[39m\n",
      "\u001b[32m  ✓ \u001b[39m\u001b[90mHwloc_jll\u001b[39m\n",
      "\u001b[32m  ✓ \u001b[39m\u001b[90mlibaec_jll\u001b[39m\n",
      "\u001b[32m  ✓ \u001b[39m\u001b[90mdemumble_jll\u001b[39m\n",
      "\u001b[32m  ✓ \u001b[39m\u001b[90mTableTraits\u001b[39m\n",
      "\u001b[32m  ✓ \u001b[39m\u001b[90mMicrosoftMPI_jll\u001b[39m\n",
      "\u001b[32m  ✓ \u001b[39m\u001b[90mMacroTools\u001b[39m\n",
      "\u001b[32m  ✓ \u001b[39m\u001b[90mNVTX_jll\u001b[39m\n",
      "\u001b[32m  ✓ \u001b[39m\u001b[90mFunctors\u001b[39m\n",
      "\u001b[32m  ✓ \u001b[39m\u001b[90mOpenSSL_jll\u001b[39m\n",
      "\u001b[32m  ✓ \u001b[39m\u001b[90mJuliaNVTXCallbacks_jll\u001b[39m\n",
      "\u001b[32m  ✓ \u001b[39m\u001b[90mLLVMExtra_jll\u001b[39m\n",
      "\u001b[32m  ✓ \u001b[39m\u001b[90mCUDA_Driver_jll\u001b[39m\n",
      "\u001b[32m  ✓ \u001b[39m\u001b[90mCrayons\u001b[39m\n",
      "\u001b[32m  ✓ \u001b[39m\u001b[90mBaselet\u001b[39m\n",
      "\u001b[32m  ✓ \u001b[39m\u001b[90mCompat → CompatLinearAlgebraExt\u001b[39m\n",
      "\u001b[32m  ✓ \u001b[39m\u001b[90mAdapt\u001b[39m\n",
      "\u001b[32m  ✓ \u001b[39m\u001b[90mInlineStrings → ParsersExt\u001b[39m\n",
      "\u001b[32m  ✓ \u001b[39m\u001b[90mOpenMPI_jll\u001b[39m\n",
      "\u001b[32m  ✓ \u001b[39m\u001b[90mThreadedScans\u001b[39m\n",
      "\u001b[32m  ✓ \u001b[39m\u001b[90mFillArrays → FillArraysSparseArraysExt\u001b[39m\n",
      "\u001b[32m  ✓ \u001b[39m\u001b[90mMPItrampoline_jll\u001b[39m\n",
      "\u001b[32m  ✓ \u001b[39m\u001b[90mPooledArrays\u001b[39m\n",
      "\u001b[32m  ✓ \u001b[39m\u001b[90mMissings\u001b[39m\n",
      "\u001b[32m  ✓ \u001b[39m\u001b[90mConstructionBase → ConstructionBaseLinearAlgebraExt\u001b[39m\n",
      "\u001b[32m  ✓ \u001b[39m\u001b[90mRandom123\u001b[39m\n",
      "\u001b[32m  ✓ \u001b[39m\u001b[90mStridedViews\u001b[39m\n",
      "\u001b[32m  ✓ \u001b[39m\u001b[90mInverseFunctions → InverseFunctionsTestExt\u001b[39m\n",
      "\u001b[32m  ✓ \u001b[39m\u001b[90mUnitful → InverseFunctionsUnitfulExt\u001b[39m\n",
      "\u001b[32m  ✓ \u001b[39m\u001b[90mStatic\u001b[39m\n",
      "\u001b[32m  ✓ \u001b[39m\u001b[90mCompositionsBase → CompositionsBaseInverseFunctionsExt\u001b[39m\n",
      "\u001b[32m  ✓ \u001b[39m\u001b[90mAtomix\u001b[39m\n",
      "\u001b[32m  ✓ \u001b[39m\u001b[90mStringManipulation\u001b[39m\n",
      "\u001b[32m  ✓ \u001b[39m\u001b[90mLinearMaps → LinearMapsStatisticsExt\u001b[39m\n",
      "\u001b[32m  ✓ \u001b[39m\u001b[90mDictionaries\u001b[39m\n",
      "\u001b[32m  ✓ \u001b[39m\u001b[90mSimpleTraits\u001b[39m\n",
      "\u001b[32m  ✓ \u001b[39m\u001b[90mMPICH_jll\u001b[39m\n",
      "\u001b[32m  ✓ \u001b[39m\u001b[90mTables\u001b[39m\n",
      "\u001b[32m  ✓ \u001b[39m\u001b[90mTimerOutputs\u001b[39m\n",
      "\u001b[32m  ✓ \u001b[39m\u001b[90mFillArrays → FillArraysStatisticsExt\u001b[39m\n",
      "\u001b[32m  ✓ \u001b[39m\u001b[90mSplitApplyCombine\u001b[39m\n",
      "\u001b[32m  ✓ \u001b[39m\u001b[90mChainRulesCore\u001b[39m\n",
      "\u001b[32m  ✓ \u001b[39m\u001b[90mCUDA_Runtime_jll\u001b[39m\n",
      "\u001b[32m  ✓ \u001b[39m\u001b[90mHDF5_jll\u001b[39m\n",
      "\u001b[32m  ✓ \u001b[39m\u001b[90mLinearMaps → LinearMapsChainRulesCoreExt\u001b[39m\n",
      "\u001b[32m  ✓ \u001b[39m\u001b[90mAbstractFFTs → AbstractFFTsChainRulesCoreExt\u001b[39m\n",
      "\u001b[32m  ✓ \u001b[39m\u001b[90mDataStructures\u001b[39m\n",
      "\u001b[32m  ✓ \u001b[39m\u001b[90mChainRulesCore → ChainRulesCoreSparseArraysExt\u001b[39m\n",
      "\u001b[32m  ✓ \u001b[39m\u001b[90mFixedPointNumbers\u001b[39m\n",
      "\u001b[32m  ✓ \u001b[39m\u001b[90mSortingAlgorithms\u001b[39m\n",
      "\u001b[32m  ✓ \u001b[39m\u001b[90mAbstractFFTs → AbstractFFTsTestExt\u001b[39m\n",
      "\u001b[32m  ✓ \u001b[39m\u001b[90mColorTypes\u001b[39m\n",
      "\u001b[32m  ✓ \u001b[39m\u001b[90mLLVM\u001b[39m\n",
      "\u001b[32m  ✓ \u001b[39m\u001b[90mLLVM → BFloat16sExt\u001b[39m\n",
      "\u001b[32m  ✓ \u001b[39m\u001b[90mStaticArrays\u001b[39m\n",
      "\u001b[32m  ✓ \u001b[39m\u001b[90mAdapt → AdaptStaticArraysExt\u001b[39m\n",
      "\u001b[32m  ✓ \u001b[39m\u001b[90mConstructionBase → ConstructionBaseStaticArraysExt\u001b[39m\n",
      "\u001b[32m  ✓ \u001b[39m\u001b[90mStaticArrays → StaticArraysStatisticsExt\u001b[39m\n",
      "\u001b[32m  ✓ \u001b[39m\u001b[90mReferenceables\u001b[39m\n",
      "\u001b[32m  ✓ \u001b[39m\u001b[90mUnsafeAtomicsLLVM\u001b[39m\n",
      "\u001b[32m  ✓ \u001b[39m\u001b[90mArrayInterface\u001b[39m\n",
      "\u001b[32m  ✓ \u001b[39m\u001b[90mGPUArraysCore\u001b[39m\n",
      "\u001b[32m  ✓ \u001b[39m\u001b[90mStaticArrays → StaticArraysChainRulesCoreExt\u001b[39m\n",
      "\u001b[32m  ✓ \u001b[39m\u001b[90mArrayInterface → ArrayInterfaceGPUArraysCoreExt\u001b[39m\n",
      "\u001b[32m  ✓ \u001b[39m\u001b[90mSetfield\u001b[39m\n",
      "\u001b[32m  ✓ \u001b[39mHDF5\n",
      "\u001b[32m  ✓ \u001b[39m\u001b[90mArrayInterface → ArrayInterfaceSparseArraysExt\u001b[39m\n",
      "\u001b[32m  ✓ \u001b[39m\u001b[90mAccessors\u001b[39m\n",
      "\u001b[32m  ✓ \u001b[39m\u001b[90mBangBang\u001b[39m\n",
      "\u001b[32m  ✓ \u001b[39m\u001b[90mSplittablesBase\u001b[39m\n",
      "\u001b[32m  ✓ \u001b[39m\u001b[90mKrylovKit\u001b[39m\n",
      "\u001b[32m  ✓ \u001b[39m\u001b[90mArrayInterface → ArrayInterfaceStaticArraysCoreExt\u001b[39m\n",
      "\u001b[32m  ✓ \u001b[39m\u001b[90mGPUArrays\u001b[39m\n",
      "\u001b[32m  ✓ \u001b[39m\u001b[90mColors\u001b[39m\n",
      "\u001b[32m  ✓ \u001b[39m\u001b[90mAccessors → AccessorsDatesExt\u001b[39m\n",
      "\u001b[32m  ✓ \u001b[39m\u001b[90mBangBang → BangBangChainRulesCoreExt\u001b[39m\n",
      "\u001b[32m  ✓ \u001b[39m\u001b[90mKrylovKit → KrylovKitChainRulesCoreExt\u001b[39m\n",
      "\u001b[32m  ✓ \u001b[39m\u001b[90mAccessors → AccessorsStaticArraysExt\u001b[39m\n",
      "\u001b[32m  ✓ \u001b[39m\u001b[90mBangBang → BangBangStaticArraysExt\u001b[39m\n",
      "\u001b[32m  ✓ \u001b[39m\u001b[90mKernelAbstractions\u001b[39m\n",
      "\u001b[32m  ✓ \u001b[39m\u001b[90mNVTX\u001b[39m\n",
      "\u001b[32m  ✓ \u001b[39m\u001b[90mAccessors → AccessorsTestExt\u001b[39m\n",
      "\u001b[32m  ✓ \u001b[39m\u001b[90mArrayLayouts\u001b[39m\n",
      "\u001b[32m  ✓ \u001b[39m\u001b[90mAccessors → AccessorsUnitfulExt\u001b[39m\n",
      "\u001b[32m  ✓ \u001b[39m\u001b[90mIsApprox\u001b[39m\n",
      "\u001b[32m  ✓ \u001b[39m\u001b[90mArrayLayouts → ArrayLayoutsSparseArraysExt\u001b[39m\n",
      "\u001b[32m  ✓ \u001b[39m\u001b[90mKernelAbstractions → SparseArraysExt\u001b[39m\n",
      "\u001b[32m  ✓ \u001b[39m\u001b[90mBlockArrays\u001b[39m\n",
      "\u001b[32m  ✓ \u001b[39m\u001b[90mPrettyTables\u001b[39m\n",
      "\u001b[32m  ✓ \u001b[39m\u001b[90mGPUCompiler\u001b[39m\n",
      "\u001b[32m  ✓ \u001b[39mDataFrames\n",
      "\u001b[32m  ✓ \u001b[39m\u001b[90mBangBang → BangBangDataFramesExt\u001b[39m\n",
      "\u001b[32m  ✓ \u001b[39m\u001b[90mMicroCollections\u001b[39m\n",
      "\u001b[32m  ✓ \u001b[39m\u001b[90mTransducers\u001b[39m\n",
      "\u001b[32m  ✓ \u001b[39m\u001b[90mTransducers → TransducersDataFramesExt\u001b[39m\n",
      "\u001b[32m  ✓ \u001b[39m\u001b[90mTransducers → TransducersBlockArraysExt\u001b[39m\n",
      "\u001b[32m  ✓ \u001b[39m\u001b[90mTransducers → TransducersReferenceablesExt\u001b[39m\n",
      "\u001b[32m  ✓ \u001b[39m\u001b[90mFolds\u001b[39m\n",
      "\u001b[32m  ✓ \u001b[39mCUDA\n",
      "\u001b[32m  ✓ \u001b[39m\u001b[90mStridedViews → StridedViewsCUDAExt\u001b[39m\n",
      "\u001b[32m  ✓ \u001b[39m\u001b[90mArrayInterface → ArrayInterfaceCUDAExt\u001b[39m\n",
      "\u001b[32m  ✓ \u001b[39m\u001b[90mCUDA → ChainRulesCoreExt\u001b[39m\n",
      "\u001b[32m  ✓ \u001b[39m\u001b[90mStrided\u001b[39m\n",
      "\u001b[32m  ✓ \u001b[39m\u001b[90mStaticArrayInterface\u001b[39m\n",
      "\u001b[32m  ✓ \u001b[39m\u001b[90mStaticArrayInterface → StaticArrayInterfaceStaticArraysExt\u001b[39m\n",
      "\u001b[32m  ✓ \u001b[39m\u001b[90mEllipsisNotation\u001b[39m\n",
      "\u001b[32m  ✓ \u001b[39m\u001b[90mNDTensors\u001b[39m\n",
      "\u001b[32m  ✓ \u001b[39m\u001b[90mNDTensors → NDTensorsGPUArraysCoreExt\u001b[39m\n",
      "\u001b[32m  ✓ \u001b[39m\u001b[90mNDTensors → NDTensorsHDF5Ext\u001b[39m\n",
      "\u001b[32m  ✓ \u001b[39m\u001b[90mNDTensors → NDTensorsCUDAExt\u001b[39m\n",
      "\u001b[32m  ✓ \u001b[39mITensors\n",
      "\u001b[32m  ✓ \u001b[39m\u001b[90mITensors → ITensorsVectorInterfaceExt\u001b[39m\n",
      "  153 dependencies successfully precompiled in 143 seconds. 16 already precompiled.\n",
      "\u001b[32m\u001b[1mPrecompiling\u001b[22m\u001b[39m ITensorsHDF5Ext\n",
      "\u001b[32m  ✓ \u001b[39m\u001b[90mRelocatableFolders\u001b[39m\n",
      "\u001b[32m  ✓ \u001b[39mPackageCompiler\n",
      "\u001b[32m  ✓ \u001b[39m\u001b[90mITensors → ITensorsPackageCompilerExt\u001b[39m\n",
      "\u001b[32m  ✓ \u001b[39m\u001b[90mITensors → ITensorsHDF5Ext\u001b[39m\n",
      "  4 dependencies successfully precompiled in 74 seconds. 170 already precompiled.\n",
      "\u001b[32m\u001b[1mPrecompiling\u001b[22m\u001b[39m DelimitedFiles\n",
      "\u001b[32m  ✓ \u001b[39m\u001b[90mDelimitedFiles\u001b[39m\n",
      "  1 dependency successfully precompiled in 0 seconds\n"
     ]
    },
    {
     "data": {
      "text/plain": [
       "Energy_Current_HS_time_dependent (generic function with 2 methods)"
      ]
     },
     "execution_count": 2,
     "metadata": {},
     "output_type": "execute_result"
    }
   ],
   "source": [
    "include(\"TN_Superfermionic_Mesoscopic_Leads/Code/Interacting_functions_wGPU.jl\")"
   ]
  },
  {
   "cell_type": "markdown",
   "id": "c94a18fa-a658-47b4-9dba-8f86ce84eac4",
   "metadata": {},
   "source": [
    "Let's consider the same Spectral density and logarithmic linear discretization that we have been using the whole time:"
   ]
  },
  {
   "cell_type": "code",
   "execution_count": 3,
   "id": "a3c4b5a8-9394-4c55-8474-88004912c852",
   "metadata": {},
   "outputs": [
    {
     "name": "stderr",
     "output_type": "stream",
     "text": [
      "\u001b[32m\u001b[1mPrecompiling\u001b[22m\u001b[39m FlexiMaps\n",
      "\u001b[32m  ✓ \u001b[39m\u001b[90mDataPipes\u001b[39m\n",
      "\u001b[32m  ✓ \u001b[39mFlexiMaps\n",
      "  2 dependencies successfully precompiled in 5 seconds. 21 already precompiled.\n",
      "\u001b[32m\u001b[1mPrecompiling\u001b[22m\u001b[39m DictionariesExt\n",
      "\u001b[32m  ✓ \u001b[39m\u001b[90mFlexiMaps → DictionariesExt\u001b[39m\n",
      "\u001b[32m  ✓ \u001b[39m\u001b[90mFlexiMaps → UnitfulExt\u001b[39m\n",
      "  2 dependencies successfully precompiled in 2 seconds. 25 already precompiled.\n"
     ]
    },
    {
     "data": {
      "text/plain": [
       "Logarithmic_linear_arrays (generic function with 1 method)"
      ]
     },
     "execution_count": 3,
     "metadata": {},
     "output_type": "execute_result"
    }
   ],
   "source": [
    "using LinearAlgebra\n",
    "using FlexiMaps\n",
    "\n",
    "W = 8.0\n",
    "Γ = W/8\n",
    "J(ω) = abs(ω) <= abs(W) ? Γ : 0 #Spectral density Γ = W/8 in this case\n",
    "\n",
    "function Logarithmic_linear_arrays(L, J)\n",
    "    #L: lead size\n",
    "    #J: Spectral density    \n",
    "    \n",
    "    #We need to define εk for the lead. In particular, we use the logarithmic-linear discretization of the paper. As this is just for the article, it is not worthy to put it with the other functions in NonInteacting_functions.jl\n",
    "    \n",
    "    W_log = W #W\n",
    "    W_lin = W_log/2 #W* = W/2\n",
    "    \n",
    "    L_log = L*0.2\n",
    "    L_lin = L - L_log\n",
    "    \n",
    "    Lin_Window = LinRange(-W_lin, W_lin, Int(L_lin))\n",
    "    Log_Window = maprange(log, W_lin, W_log, length=Int(L_log/2 + 1))\n",
    "    \n",
    "    εk = Float64[]\n",
    "    append!(εk, -reverse( Log_Window[2:length(Log_Window)]), Lin_Window, Log_Window[2:length(Log_Window)])\n",
    "    \n",
    "    γk = [εk[k+1] - εk[k] for k=1:Int(L/2)]\n",
    "    append!(γk, reverse(γk))\n",
    "\n",
    "    κkp = ComplexF64[sqrt(J(εk[k])*γk[k]/(2.0*pi)) for k=1:L] #Kp = sqrt(J(e)*γ/(2*pi))\n",
    "\n",
    "    return εk, γk,  κkp\n",
    "end"
   ]
  },
  {
   "cell_type": "code",
   "execution_count": 64,
   "id": "cef663fe-2da0-437c-b447-19d03cf418c7",
   "metadata": {},
   "outputs": [
    {
     "data": {
      "text/plain": [
       "fk_arrays (generic function with 1 method)"
      ]
     },
     "execution_count": 64,
     "metadata": {},
     "output_type": "execute_result"
    }
   ],
   "source": [
    "#Global variables by default\n",
    "μ_L, μ_R = W/16, W/16 #As we want to focus in Heat rectification, we should not have gradient of chemical potential.\n",
    "\n",
    "ts = (W/8)\n",
    "\n",
    "function fk_arrays(εk_array_L, εk_array_R)\n",
    "    \n",
    "    fk_array_L = [fermi_dirac_distribution(ε, μ_L, β_L) for ε = εk_array_L]\n",
    "    fk_array_R = [fermi_dirac_distribution(ε, μ_R, β_R) for ε = εk_array_R]\n",
    "    \n",
    "    return fk_array_L, fk_array_R\n",
    "end"
   ]
  },
  {
   "cell_type": "code",
   "execution_count": 83,
   "id": "be03207d-03a1-44e7-afda-16b8d5fc9e56",
   "metadata": {},
   "outputs": [
    {
     "data": {
      "text/plain": [
       "(0.5, 0.1)"
      ]
     },
     "execution_count": 83,
     "metadata": {},
     "output_type": "execute_result"
    }
   ],
   "source": [
    "# β_L, β_R = 1/(10*ts), 1/(2*ts) #Forward Bias: TL > TR\n",
    "β_L, β_R = 1/(2*ts), 1/(10*ts) #Reverse Bias: TL < TR"
   ]
  },
  {
   "cell_type": "markdown",
   "id": "67c74465-e3e6-43f5-8c2a-eb56bf3009ab",
   "metadata": {},
   "source": [
    "Possible sizes: L = 10, 20. D = 2, 4"
   ]
  },
  {
   "cell_type": "code",
   "execution_count": 84,
   "id": "76392745-4451-48de-bc32-869967eda904",
   "metadata": {},
   "outputs": [],
   "source": [
    "#Lead Parameters\n",
    "L, R = 10, 10\n",
    "εk, γk, κp = Logarithmic_linear_arrays(L, J)\n",
    "fk_L, fk_R = fk_arrays(εk, εk);"
   ]
  },
  {
   "cell_type": "code",
   "execution_count": 85,
   "id": "3418d024-4c85-4eea-b1fb-5f0ba1f5b7ff",
   "metadata": {},
   "outputs": [],
   "source": [
    "#System Parameters\n",
    "D = 2\n",
    "U = 1.2*ts\n",
    "E = 4\n",
    "μ = -E*(D+1)/4\n",
    "\n",
    "ε_system = [(μ+0.5E*j) for j =1:D]; #Tilted system energies"
   ]
  },
  {
   "cell_type": "code",
   "execution_count": 86,
   "id": "a9348951-5801-4332-8725-fc327d97c818",
   "metadata": {},
   "outputs": [
    {
     "data": {
      "text/plain": [
       "false"
      ]
     },
     "execution_count": 86,
     "metadata": {},
     "output_type": "execute_result"
    }
   ],
   "source": [
    "GPU = false #Thermal state is faster without GPU"
   ]
  },
  {
   "cell_type": "code",
   "execution_count": 87,
   "id": "fcf1d899-a0d9-4e64-8e58-ab2854f8ed8d",
   "metadata": {},
   "outputs": [],
   "source": [
    "M = L + D + R\n",
    "\n",
    "sites = siteinds(\"S=1/2\",2*M)\n",
    "I_vec = Build_left_vacuum(sites);"
   ]
  },
  {
   "cell_type": "code",
   "execution_count": 88,
   "id": "e1005e4a-1179-402f-9466-0bccd48af3df",
   "metadata": {},
   "outputs": [
    {
     "name": "stdout",
     "output_type": "stream",
     "text": [
      "10.0 % Completed.\n",
      "20.0 % Completed.\n",
      "30.0 % Completed.\n",
      "40.0 % Completed.\n",
      "50.0 % Completed.\n",
      "60.0 % Completed.\n",
      "70.0 % Completed.\n",
      "80.0 % Completed.\n",
      "90.0 % Completed.\n",
      "100.0 % Completed.\n",
      " 91.592237 seconds (340.25 M allocations: 92.832 GiB, 7.08% gc time, 0.00% compilation time)\n",
      "JP = Particle_Current(Thermal_State, I_vec, γk, fk_L, Float64[], Float64[]) = -1.2291754915492721e-16\n",
      "JE = Energy_Current(Thermal_State, I_vec, γk, fk_L, εk, κp, Float64[], Float64[], Float64[], ComplexF64[]) = 8.11595688613737e-15\n"
     ]
    }
   ],
   "source": [
    "#Let's use the thermal state as the start point for the time evolution:\n",
    "\n",
    "Swap_Gates, TEBD_Gates = Build_Gates(sites, εk, γk, 0*κp, fk_L, εk, γk, 0*κp, fk_R, ε_system, ts, U); #0*Kp_array = no coupling between the lead and the system\n",
    "\n",
    "NumSteps = 1000\n",
    "@time Thermal_State, Occupation_Matrix_t = Apply_TEBD(I_vec, I_vec, Swap_Gates, TEBD_Gates, NumSteps); #maxdim = 40 by default\n",
    "@show JP = Particle_Current(Thermal_State, I_vec, γk, fk_L, Float64[], Float64[])\n",
    "@show JE = Energy_Current(Thermal_State, I_vec, γk, fk_L, εk, κp, Float64[], Float64[], Float64[], ComplexF64[]);"
   ]
  },
  {
   "cell_type": "code",
   "execution_count": 89,
   "id": "083bec48-a66e-483b-9f51-7a2322ca839a",
   "metadata": {},
   "outputs": [
    {
     "data": {
      "text/plain": [
       "Apply_TEBD_MODIFIED (generic function with 3 methods)"
      ]
     },
     "execution_count": 89,
     "metadata": {},
     "output_type": "execute_result"
    }
   ],
   "source": [
    "#ModificateThermal_Statef Apply_TEBD for calculating JE during the TEBD\n",
    "\n",
    "function Apply_TEBD_MODIFIED(Psi_0::MPS, I_vec::MPS, Swap_Gates::Vector{ITensor}, TEBD_Gates::Vector{ITensor}, NumSteps::Int64, maxdim::Int64 = 40, file_path::String = \"\") \n",
    "\n",
    "    cutoff = 1E-15 #Should I include cutoff as optional parameter?\n",
    "    \n",
    "    length(Swap_Gates) == 0 ? L = 0 : L = length(Swap_Gates) + 1\n",
    "\n",
    "    Occupation_Matrix_t = zeros(100 + 1, Int(length(Psi_0)/2))\n",
    "    JE_t = []\n",
    "    times_array = [0.0]\n",
    "    \n",
    "    Psi_t = Psi_0\n",
    "    norm_t = inner(I_vec, Psi_t)\n",
    "    Psi_t = Psi_t/norm_t\n",
    "    \n",
    "    Occupation_Matrix_t[1,:] = Occupations_per_site(Psi_t, I_vec)\n",
    "    append!(JE_t, Energy_Current(Psi_t, I_vec, γk, fk_L, εk, κp, Float64[], Float64[], Float64[], ComplexF64[])) #USES GLOBAL VARIABLES\n",
    "    \n",
    "    \n",
    "    Reverse_SWAP_Gates = reverse(Swap_Gates)\n",
    "\n",
    "    for i = 1:NumSteps \n",
    "        \n",
    "        L != 0 ? orthogonalize!(Psi_t,site_SF(L) + 1) : nothing #orthonormalization center between the final site of the lead and the first site of the system\n",
    "        L != 0 ? Psi_t = apply(Swap_Gates, Psi_t; cutoff=cutoff, maxdim=maxdim) : nothing #moving system and his ancilla to the second physical site i.e. Lead1,lead1',S1,S1',...,leadL, leadL', S2,S2'..., SD,SD',Lead1,Lead1',...,LeadR,LeadR'. maxdim = 1, SWAPS should no shange bond dimension.\n",
    "        \n",
    "        orthogonalize!(Psi_t,1) #make all the lattice right normalized\n",
    "        Psi_t = apply(TEBD_Gates, Psi_t; cutoff=cutoff, maxdim=maxdim)\n",
    "        \n",
    "        L != 0 ? Psi_t = apply(Reverse_SWAP_Gates, Psi_t; cutoff=cutoff, maxdim=maxdim) : nothing #Moving system and his ancilla to his usual position i.e. Lead1,lead1', ...,leadL,leadL',S1,S1',...,SD,SD',Lead1,Lead1',...,LeadR,LeadR'. maxdim = 1, SWAPS should no shange bond dimension.\n",
    "        \n",
    "        norm_t = inner(I_vec, Psi_t)\n",
    "        Psi_t = Psi_t/norm_t \n",
    "\n",
    "        GPU ? CUDA.reclaim() : nothing #GPU Modification\n",
    "\n",
    "        if (i*100/NumSteps)%1 == 0.0\n",
    "            row = Int((i*100/NumSteps)) + 1\n",
    "            # @time Occupation_Matrix_t[row,:] = Occupations_per_site(Psi_t, I_vec)\n",
    "            append!(JE_t, Energy_Current(Psi_t, I_vec, γk, fk_L, εk, κp, Float64[], Float64[], Float64[], ComplexF64[])) #USES GLOBAL VARIABLES\n",
    "            append!(times_array, dt*i) #USES GLOBAL VARIABLES\n",
    "        end\n",
    "        \n",
    "        if (i*100/NumSteps)%10 == 0.0\n",
    "            println(string((i*100/NumSteps))*\" % Completed.\")\n",
    "\n",
    "            if file_path != \"\"\n",
    "\n",
    "                GPU ? Psi_cpu = NDTensors.cpu(Psi_t) : Psi_cpu = Psi_t #We need to move the MPS back to the CPU to save it into a .h5 file.\n",
    "                f = h5open(file_path*\"_NESS_MPS.h5\",\"w\")\n",
    "                write(f,\"MPS\",Psi_cpu)\n",
    "                close(f)        \n",
    "                \n",
    "                writedlm(file_path*\"_NESS_Occupations.txt\", Occupation_Matrix_t)        \n",
    "            end\n",
    "        end\n",
    "    end\n",
    "    return Psi_t, Occupation_Matrix_t, JE_t, times_array\n",
    "\n",
    "end\n"
   ]
  },
  {
   "cell_type": "code",
   "execution_count": 90,
   "id": "8f32817a-5260-4f85-8928-722f0cdc6c1b",
   "metadata": {},
   "outputs": [],
   "source": [
    "GPU = true\n",
    "\n",
    "Thermal_State = gpu(Thermal_State)\n",
    "I_vec = gpu(I_vec)\n",
    "\n",
    "Swap_Gates, TEBD_Gates = Build_Gates(sites, εk, γk, κp, fk_L, εk, γk, κp, fk_R, ε_system, ts, U, dt);"
   ]
  },
  {
   "cell_type": "code",
   "execution_count": 91,
   "id": "3b2653e9-4104-4311-8e8c-c59e793c84f7",
   "metadata": {},
   "outputs": [
    {
     "data": {
      "text/plain": [
       "0.05"
      ]
     },
     "execution_count": 91,
     "metadata": {},
     "output_type": "execute_result"
    }
   ],
   "source": [
    "#TN Parameters\n",
    "maxdim = 80;\n",
    "dt = 0.05"
   ]
  },
  {
   "cell_type": "code",
   "execution_count": 92,
   "id": "8a77c741-3d50-4f4e-9961-99fe58e8b1cd",
   "metadata": {},
   "outputs": [
    {
     "name": "stdout",
     "output_type": "stream",
     "text": [
      "10.0 % Completed.\n",
      "20.0 % Completed.\n",
      "30.0 % Completed.\n",
      "40.0 % Completed.\n",
      "50.0 % Completed.\n",
      "60.0 % Completed.\n",
      "70.0 % Completed.\n",
      "80.0 % Completed.\n",
      "90.0 % Completed.\n",
      "100.0 % Completed.\n",
      "433.085070 seconds (141.51 M allocations: 21.374 GiB, 0.84% gc time)\n"
     ]
    }
   ],
   "source": [
    "NumSteps = 100\n",
    "@time NESS, Occupation_Matrix_t, JE_t, times_array = Apply_TEBD_MODIFIED(Thermal_State, I_vec, Swap_Gates, TEBD_Gates, NumSteps, maxdim); #maxdim = 40 by default"
   ]
  },
  {
   "cell_type": "code",
   "execution_count": 93,
   "id": "5f39b0ca-e27d-46e5-a496-211ec0d72bc7",
   "metadata": {
    "tags": []
   },
   "outputs": [],
   "source": [
    "using Plots"
   ]
  },
  {
   "cell_type": "code",
   "execution_count": 95,
   "id": "77610925-9add-477c-a2e7-edb4d17b6880",
   "metadata": {},
   "outputs": [
    {
     "data": {
      "image/png": "[encoded data removed]",
      "image/svg+xml": [
       "<?xml version=\"1.0\" encoding=\"utf-8\"?>\n",
       "<svg xmlns=\"http://www.w3.org/2000/svg\" xmlns:xlink=\"http://www.w3.org/1999/xlink\" width=\"600\" height=\"400\" viewBox=\"0 0 2400 1600\">\n",
       "<defs>\n",
       "  <clipPath id=\"clip750\">\n",
       "    <rect x=\"0\" y=\"0\" width=\"2400\" height=\"1600\"/>\n",
       "  </clipPath>\n",
       "</defs>\n",
       "<path clip-path=\"url(#clip750)\" d=\"M0 1600 L2400 1600 L2400 0 L0 0  Z\" fill=\"#ffffff\" fill-rule=\"evenodd\" fill-opacity=\"1\"/>\n",
       "<defs>\n",
       "  <clipPath id=\"clip751\">\n",
       "    <rect x=\"480\" y=\"0\" width=\"1681\" height=\"1600\"/>\n",
       "  </clipPath>\n",
       "</defs>\n",
       "<path clip-path=\"url(#clip750)\" d=\"M224.098 1486.45 L2352.76 1486.45 L2352.76 47.2441 L224.098 47.2441  Z\" fill=\"#ffffff\" fill-rule=\"evenodd\" fill-opacity=\"1\"/>\n",
       "<defs>\n",
       "  <clipPath id=\"clip752\">\n",
       "    <rect x=\"224\" y=\"47\" width=\"2130\" height=\"1440\"/>\n",
       "  </clipPath>\n",
       "</defs>\n",
       "<polyline clip-path=\"url(#clip752)\" style=\"stroke:#000000; stroke-linecap:round; stroke-linejoin:round; stroke-width:2; stroke-opacity:0.1; fill:none\" points=\"284.343,1486.45 284.343,47.2441 \"/>\n",
       "<polyline clip-path=\"url(#clip752)\" style=\"stroke:#000000; stroke-linecap:round; stroke-linejoin:round; stroke-width:2; stroke-opacity:0.1; fill:none\" points=\"685.977,1486.45 685.977,47.2441 \"/>\n",
       "<polyline clip-path=\"url(#clip752)\" style=\"stroke:#000000; stroke-linecap:round; stroke-linejoin:round; stroke-width:2; stroke-opacity:0.1; fill:none\" points=\"1087.61,1486.45 1087.61,47.2441 \"/>\n",
       "<polyline clip-path=\"url(#clip752)\" style=\"stroke:#000000; stroke-linecap:round; stroke-linejoin:round; stroke-width:2; stroke-opacity:0.1; fill:none\" points=\"1489.24,1486.45 1489.24,47.2441 \"/>\n",
       "<polyline clip-path=\"url(#clip752)\" style=\"stroke:#000000; stroke-linecap:round; stroke-linejoin:round; stroke-width:2; stroke-opacity:0.1; fill:none\" points=\"1890.88,1486.45 1890.88,47.2441 \"/>\n",
       "<polyline clip-path=\"url(#clip752)\" style=\"stroke:#000000; stroke-linecap:round; stroke-linejoin:round; stroke-width:2; stroke-opacity:0.1; fill:none\" points=\"2292.51,1486.45 2292.51,47.2441 \"/>\n",
       "<polyline clip-path=\"url(#clip752)\" style=\"stroke:#000000; stroke-linecap:round; stroke-linejoin:round; stroke-width:2; stroke-opacity:0.1; fill:none\" points=\"224.098,1289.47 2352.76,1289.47 \"/>\n",
       "<polyline clip-path=\"url(#clip752)\" style=\"stroke:#000000; stroke-linecap:round; stroke-linejoin:round; stroke-width:2; stroke-opacity:0.1; fill:none\" points=\"224.098,1049.17 2352.76,1049.17 \"/>\n",
       "<polyline clip-path=\"url(#clip752)\" style=\"stroke:#000000; stroke-linecap:round; stroke-linejoin:round; stroke-width:2; stroke-opacity:0.1; fill:none\" points=\"224.098,808.871 2352.76,808.871 \"/>\n",
       "<polyline clip-path=\"url(#clip752)\" style=\"stroke:#000000; stroke-linecap:round; stroke-linejoin:round; stroke-width:2; stroke-opacity:0.1; fill:none\" points=\"224.098,568.573 2352.76,568.573 \"/>\n",
       "<polyline clip-path=\"url(#clip752)\" style=\"stroke:#000000; stroke-linecap:round; stroke-linejoin:round; stroke-width:2; stroke-opacity:0.1; fill:none\" points=\"224.098,328.275 2352.76,328.275 \"/>\n",
       "<polyline clip-path=\"url(#clip752)\" style=\"stroke:#000000; stroke-linecap:round; stroke-linejoin:round; stroke-width:2; stroke-opacity:0.1; fill:none\" points=\"224.098,87.9763 2352.76,87.9763 \"/>\n",
       "<polyline clip-path=\"url(#clip750)\" style=\"stroke:#000000; stroke-linecap:round; stroke-linejoin:round; stroke-width:4; stroke-opacity:1; fill:none\" points=\"224.098,1486.45 2352.76,1486.45 \"/>\n",
       "<polyline clip-path=\"url(#clip750)\" style=\"stroke:#000000; stroke-linecap:round; stroke-linejoin:round; stroke-width:4; stroke-opacity:1; fill:none\" points=\"284.343,1486.45 284.343,1467.55 \"/>\n",
       "<polyline clip-path=\"url(#clip750)\" style=\"stroke:#000000; stroke-linecap:round; stroke-linejoin:round; stroke-width:4; stroke-opacity:1; fill:none\" points=\"685.977,1486.45 685.977,1467.55 \"/>\n",
       "<polyline clip-path=\"url(#clip750)\" style=\"stroke:#000000; stroke-linecap:round; stroke-linejoin:round; stroke-width:4; stroke-opacity:1; fill:none\" points=\"1087.61,1486.45 1087.61,1467.55 \"/>\n",
       "<polyline clip-path=\"url(#clip750)\" style=\"stroke:#000000; stroke-linecap:round; stroke-linejoin:round; stroke-width:4; stroke-opacity:1; fill:none\" points=\"1489.24,1486.45 1489.24,1467.55 \"/>\n",
       "<polyline clip-path=\"url(#clip750)\" style=\"stroke:#000000; stroke-linecap:round; stroke-linejoin:round; stroke-width:4; stroke-opacity:1; fill:none\" points=\"1890.88,1486.45 1890.88,1467.55 \"/>\n",
       "<polyline clip-path=\"url(#clip750)\" style=\"stroke:#000000; stroke-linecap:round; stroke-linejoin:round; stroke-width:4; stroke-opacity:1; fill:none\" points=\"2292.51,1486.45 2292.51,1467.55 \"/>\n",
       "<path clip-path=\"url(#clip750)\" d=\"M284.343 1517.37 Q280.732 1517.37 278.903 1520.93 Q277.098 1524.47 277.098 1531.6 Q277.098 1538.71 278.903 1542.27 Q280.732 1545.82 284.343 1545.82 Q287.977 1545.82 289.783 1542.27 Q291.611 1538.71 291.611 1531.6 Q291.611 1524.47 289.783 1520.93 Q287.977 1517.37 284.343 1517.37 M284.343 1513.66 Q290.153 1513.66 293.209 1518.27 Q296.287 1522.85 296.287 1531.6 Q296.287 1540.33 293.209 1544.94 Q290.153 1549.52 284.343 1549.52 Q278.533 1549.52 275.454 1544.94 Q272.399 1540.33 272.399 1531.6 Q272.399 1522.85 275.454 1518.27 Q278.533 1513.66 284.343 1513.66 Z\" fill=\"#000000\" fill-rule=\"nonzero\" fill-opacity=\"1\" /><path clip-path=\"url(#clip750)\" d=\"M676.358 1544.91 L683.997 1544.91 L683.997 1518.55 L675.687 1520.21 L675.687 1515.95 L683.951 1514.29 L688.627 1514.29 L688.627 1544.91 L696.266 1544.91 L696.266 1548.85 L676.358 1548.85 L676.358 1544.91 Z\" fill=\"#000000\" fill-rule=\"nonzero\" fill-opacity=\"1\" /><path clip-path=\"url(#clip750)\" d=\"M1082.26 1544.91 L1098.58 1544.91 L1098.58 1548.85 L1076.64 1548.85 L1076.64 1544.91 Q1079.3 1542.16 1083.88 1537.53 Q1088.49 1532.88 1089.67 1531.53 Q1091.92 1529.01 1092.8 1527.27 Q1093.7 1525.51 1093.7 1523.82 Q1093.7 1521.07 1091.75 1519.33 Q1089.83 1517.6 1086.73 1517.6 Q1084.53 1517.6 1082.08 1518.36 Q1079.65 1519.13 1076.87 1520.68 L1076.87 1515.95 Q1079.69 1514.82 1082.15 1514.24 Q1084.6 1513.66 1086.64 1513.66 Q1092.01 1513.66 1095.2 1516.35 Q1098.4 1519.03 1098.4 1523.52 Q1098.4 1525.65 1097.59 1527.57 Q1096.8 1529.47 1094.69 1532.07 Q1094.11 1532.74 1091.01 1535.95 Q1087.91 1539.15 1082.26 1544.91 Z\" fill=\"#000000\" fill-rule=\"nonzero\" fill-opacity=\"1\" /><path clip-path=\"url(#clip750)\" d=\"M1493.49 1530.21 Q1496.85 1530.93 1498.72 1533.2 Q1500.62 1535.47 1500.62 1538.8 Q1500.62 1543.92 1497.1 1546.72 Q1493.58 1549.52 1487.1 1549.52 Q1484.93 1549.52 1482.61 1549.08 Q1480.32 1548.66 1477.87 1547.81 L1477.87 1543.29 Q1479.81 1544.43 1482.13 1545.01 Q1484.44 1545.58 1486.96 1545.58 Q1491.36 1545.58 1493.65 1543.85 Q1495.97 1542.11 1495.97 1538.8 Q1495.97 1535.75 1493.82 1534.03 Q1491.69 1532.3 1487.87 1532.3 L1483.84 1532.3 L1483.84 1528.45 L1488.05 1528.45 Q1491.5 1528.45 1493.33 1527.09 Q1495.16 1525.7 1495.16 1523.11 Q1495.16 1520.45 1493.26 1519.03 Q1491.38 1517.6 1487.87 1517.6 Q1485.95 1517.6 1483.75 1518.01 Q1481.55 1518.43 1478.91 1519.31 L1478.91 1515.14 Q1481.57 1514.4 1483.88 1514.03 Q1486.22 1513.66 1488.28 1513.66 Q1493.61 1513.66 1496.71 1516.09 Q1499.81 1518.5 1499.81 1522.62 Q1499.81 1525.49 1498.17 1527.48 Q1496.52 1529.45 1493.49 1530.21 Z\" fill=\"#000000\" fill-rule=\"nonzero\" fill-opacity=\"1\" /><path clip-path=\"url(#clip750)\" d=\"M1893.89 1518.36 L1882.08 1536.81 L1893.89 1536.81 L1893.89 1518.36 M1892.66 1514.29 L1898.54 1514.29 L1898.54 1536.81 L1903.47 1536.81 L1903.47 1540.7 L1898.54 1540.7 L1898.54 1548.85 L1893.89 1548.85 L1893.89 1540.7 L1878.28 1540.7 L1878.28 1536.19 L1892.66 1514.29 Z\" fill=\"#000000\" fill-rule=\"nonzero\" fill-opacity=\"1\" /><path clip-path=\"url(#clip750)\" d=\"M2282.79 1514.29 L2301.15 1514.29 L2301.15 1518.22 L2287.07 1518.22 L2287.07 1526.7 Q2288.09 1526.35 2289.11 1526.19 Q2290.13 1526 2291.15 1526 Q2296.93 1526 2300.31 1529.17 Q2303.69 1532.34 2303.69 1537.76 Q2303.69 1543.34 2300.22 1546.44 Q2296.75 1549.52 2290.43 1549.52 Q2288.25 1549.52 2285.98 1549.15 Q2283.74 1548.78 2281.33 1548.04 L2281.33 1543.34 Q2283.41 1544.47 2285.64 1545.03 Q2287.86 1545.58 2290.33 1545.58 Q2294.34 1545.58 2296.68 1543.48 Q2299.02 1541.37 2299.02 1537.76 Q2299.02 1534.15 2296.68 1532.04 Q2294.34 1529.94 2290.33 1529.94 Q2288.46 1529.94 2286.58 1530.35 Q2284.73 1530.77 2282.79 1531.65 L2282.79 1514.29 Z\" fill=\"#000000\" fill-rule=\"nonzero\" fill-opacity=\"1\" /><polyline clip-path=\"url(#clip750)\" style=\"stroke:#000000; stroke-linecap:round; stroke-linejoin:round; stroke-width:4; stroke-opacity:1; fill:none\" points=\"224.098,1486.45 224.098,47.2441 \"/>\n",
       "<polyline clip-path=\"url(#clip750)\" style=\"stroke:#000000; stroke-linecap:round; stroke-linejoin:round; stroke-width:4; stroke-opacity:1; fill:none\" points=\"224.098,1289.47 242.996,1289.47 \"/>\n",
       "<polyline clip-path=\"url(#clip750)\" style=\"stroke:#000000; stroke-linecap:round; stroke-linejoin:round; stroke-width:4; stroke-opacity:1; fill:none\" points=\"224.098,1049.17 242.996,1049.17 \"/>\n",
       "<polyline clip-path=\"url(#clip750)\" style=\"stroke:#000000; stroke-linecap:round; stroke-linejoin:round; stroke-width:4; stroke-opacity:1; fill:none\" points=\"224.098,808.871 242.996,808.871 \"/>\n",
       "<polyline clip-path=\"url(#clip750)\" style=\"stroke:#000000; stroke-linecap:round; stroke-linejoin:round; stroke-width:4; stroke-opacity:1; fill:none\" points=\"224.098,568.573 242.996,568.573 \"/>\n",
       "<polyline clip-path=\"url(#clip750)\" style=\"stroke:#000000; stroke-linecap:round; stroke-linejoin:round; stroke-width:4; stroke-opacity:1; fill:none\" points=\"224.098,328.275 242.996,328.275 \"/>\n",
       "<polyline clip-path=\"url(#clip750)\" style=\"stroke:#000000; stroke-linecap:round; stroke-linejoin:round; stroke-width:4; stroke-opacity:1; fill:none\" points=\"224.098,87.9763 242.996,87.9763 \"/>\n",
       "<path clip-path=\"url(#clip750)\" d=\"M51.9875 1289.92 L81.6633 1289.92 L81.6633 1293.85 L51.9875 1293.85 L51.9875 1289.92 Z\" fill=\"#000000\" fill-rule=\"nonzero\" fill-opacity=\"1\" /><path clip-path=\"url(#clip750)\" d=\"M101.756 1275.27 Q98.1447 1275.27 96.316 1278.83 Q94.5104 1282.37 94.5104 1289.5 Q94.5104 1296.61 96.316 1300.17 Q98.1447 1303.72 101.756 1303.72 Q105.39 1303.72 107.196 1300.17 Q109.024 1296.61 109.024 1289.5 Q109.024 1282.37 107.196 1278.83 Q105.39 1275.27 101.756 1275.27 M101.756 1271.56 Q107.566 1271.56 110.621 1276.17 Q113.7 1280.75 113.7 1289.5 Q113.7 1298.23 110.621 1302.84 Q107.566 1307.42 101.756 1307.42 Q95.9456 1307.42 92.8669 1302.84 Q89.8114 1298.23 89.8114 1289.5 Q89.8114 1280.75 92.8669 1276.17 Q95.9456 1271.56 101.756 1271.56 Z\" fill=\"#000000\" fill-rule=\"nonzero\" fill-opacity=\"1\" /><path clip-path=\"url(#clip750)\" d=\"M121.918 1300.87 L126.802 1300.87 L126.802 1306.75 L121.918 1306.75 L121.918 1300.87 Z\" fill=\"#000000\" fill-rule=\"nonzero\" fill-opacity=\"1\" /><path clip-path=\"url(#clip750)\" d=\"M141.015 1302.81 L157.334 1302.81 L157.334 1306.75 L135.39 1306.75 L135.39 1302.81 Q138.052 1300.06 142.635 1295.43 Q147.242 1290.78 148.422 1289.43 Q150.668 1286.91 151.547 1285.17 Q152.45 1283.41 152.45 1281.72 Q152.45 1278.97 150.505 1277.23 Q148.584 1275.5 145.482 1275.5 Q143.283 1275.5 140.83 1276.26 Q138.399 1277.03 135.621 1278.58 L135.621 1273.85 Q138.445 1272.72 140.899 1272.14 Q143.353 1271.56 145.39 1271.56 Q150.76 1271.56 153.955 1274.25 Q157.149 1276.93 157.149 1281.42 Q157.149 1283.55 156.339 1285.47 Q155.552 1287.37 153.445 1289.97 Q152.867 1290.64 149.765 1293.85 Q146.663 1297.05 141.015 1302.81 Z\" fill=\"#000000\" fill-rule=\"nonzero\" fill-opacity=\"1\" /><path clip-path=\"url(#clip750)\" d=\"M167.195 1272.19 L185.552 1272.19 L185.552 1276.12 L171.478 1276.12 L171.478 1284.6 Q172.496 1284.25 173.515 1284.09 Q174.533 1283.9 175.552 1283.9 Q181.339 1283.9 184.718 1287.07 Q188.098 1290.24 188.098 1295.66 Q188.098 1301.24 184.626 1304.34 Q181.153 1307.42 174.834 1307.42 Q172.658 1307.42 170.39 1307.05 Q168.144 1306.68 165.737 1305.94 L165.737 1301.24 Q167.82 1302.37 170.042 1302.93 Q172.265 1303.48 174.741 1303.48 Q178.746 1303.48 181.084 1301.38 Q183.422 1299.27 183.422 1295.66 Q183.422 1292.05 181.084 1289.94 Q178.746 1287.84 174.741 1287.84 Q172.866 1287.84 170.991 1288.25 Q169.14 1288.67 167.195 1289.55 L167.195 1272.19 Z\" fill=\"#000000\" fill-rule=\"nonzero\" fill-opacity=\"1\" /><path clip-path=\"url(#clip750)\" d=\"M50.9921 1049.62 L80.6679 1049.62 L80.6679 1053.56 L50.9921 1053.56 L50.9921 1049.62 Z\" fill=\"#000000\" fill-rule=\"nonzero\" fill-opacity=\"1\" /><path clip-path=\"url(#clip750)\" d=\"M100.76 1034.97 Q97.1493 1034.97 95.3206 1038.53 Q93.515 1042.07 93.515 1049.2 Q93.515 1056.31 95.3206 1059.88 Q97.1493 1063.42 100.76 1063.42 Q104.395 1063.42 106.2 1059.88 Q108.029 1056.31 108.029 1049.2 Q108.029 1042.07 106.2 1038.53 Q104.395 1034.97 100.76 1034.97 M100.76 1031.26 Q106.571 1031.26 109.626 1035.87 Q112.705 1040.45 112.705 1049.2 Q112.705 1057.93 109.626 1062.54 Q106.571 1067.12 100.76 1067.12 Q94.9502 1067.12 91.8715 1062.54 Q88.816 1057.93 88.816 1049.2 Q88.816 1040.45 91.8715 1035.87 Q94.9502 1031.26 100.76 1031.26 Z\" fill=\"#000000\" fill-rule=\"nonzero\" fill-opacity=\"1\" /><path clip-path=\"url(#clip750)\" d=\"M120.922 1060.57 L125.807 1060.57 L125.807 1066.45 L120.922 1066.45 L120.922 1060.57 Z\" fill=\"#000000\" fill-rule=\"nonzero\" fill-opacity=\"1\" /><path clip-path=\"url(#clip750)\" d=\"M140.019 1062.51 L156.339 1062.51 L156.339 1066.45 L134.394 1066.45 L134.394 1062.51 Q137.056 1059.76 141.64 1055.13 Q146.246 1050.48 147.427 1049.13 Q149.672 1046.61 150.552 1044.88 Q151.455 1043.12 151.455 1041.43 Q151.455 1038.67 149.51 1036.94 Q147.589 1035.2 144.487 1035.2 Q142.288 1035.2 139.834 1035.96 Q137.404 1036.73 134.626 1038.28 L134.626 1033.56 Q137.45 1032.42 139.904 1031.84 Q142.357 1031.26 144.394 1031.26 Q149.765 1031.26 152.959 1033.95 Q156.154 1036.63 156.154 1041.13 Q156.154 1043.26 155.343 1045.18 Q154.556 1047.07 152.45 1049.67 Q151.871 1050.34 148.769 1053.56 Q145.668 1056.75 140.019 1062.51 Z\" fill=\"#000000\" fill-rule=\"nonzero\" fill-opacity=\"1\" /><path clip-path=\"url(#clip750)\" d=\"M176.153 1034.97 Q172.542 1034.97 170.714 1038.53 Q168.908 1042.07 168.908 1049.2 Q168.908 1056.31 170.714 1059.88 Q172.542 1063.42 176.153 1063.42 Q179.788 1063.42 181.593 1059.88 Q183.422 1056.31 183.422 1049.2 Q183.422 1042.07 181.593 1038.53 Q179.788 1034.97 176.153 1034.97 M176.153 1031.26 Q181.964 1031.26 185.019 1035.87 Q188.098 1040.45 188.098 1049.2 Q188.098 1057.93 185.019 1062.54 Q181.964 1067.12 176.153 1067.12 Q170.343 1067.12 167.265 1062.54 Q164.209 1057.93 164.209 1049.2 Q164.209 1040.45 167.265 1035.87 Q170.343 1031.26 176.153 1031.26 Z\" fill=\"#000000\" fill-rule=\"nonzero\" fill-opacity=\"1\" /><path clip-path=\"url(#clip750)\" d=\"M51.9875 809.323 L81.6633 809.323 L81.6633 813.258 L51.9875 813.258 L51.9875 809.323 Z\" fill=\"#000000\" fill-rule=\"nonzero\" fill-opacity=\"1\" /><path clip-path=\"url(#clip750)\" d=\"M101.756 794.67 Q98.1447 794.67 96.316 798.235 Q94.5104 801.776 94.5104 808.906 Q94.5104 816.012 96.316 819.577 Q98.1447 823.119 101.756 823.119 Q105.39 823.119 107.196 819.577 Q109.024 816.012 109.024 808.906 Q109.024 801.776 107.196 798.235 Q105.39 794.67 101.756 794.67 M101.756 790.966 Q107.566 790.966 110.621 795.573 Q113.7 800.156 113.7 808.906 Q113.7 817.633 110.621 822.239 Q107.566 826.822 101.756 826.822 Q95.9456 826.822 92.8669 822.239 Q89.8114 817.633 89.8114 808.906 Q89.8114 800.156 92.8669 795.573 Q95.9456 790.966 101.756 790.966 Z\" fill=\"#000000\" fill-rule=\"nonzero\" fill-opacity=\"1\" /><path clip-path=\"url(#clip750)\" d=\"M121.918 820.272 L126.802 820.272 L126.802 826.151 L121.918 826.151 L121.918 820.272 Z\" fill=\"#000000\" fill-rule=\"nonzero\" fill-opacity=\"1\" /><path clip-path=\"url(#clip750)\" d=\"M137.797 822.216 L145.436 822.216 L145.436 795.85 L137.126 797.517 L137.126 793.258 L145.39 791.591 L150.066 791.591 L150.066 822.216 L157.705 822.216 L157.705 826.151 L137.797 826.151 L137.797 822.216 Z\" fill=\"#000000\" fill-rule=\"nonzero\" fill-opacity=\"1\" /><path clip-path=\"url(#clip750)\" d=\"M167.195 791.591 L185.552 791.591 L185.552 795.526 L171.478 795.526 L171.478 803.999 Q172.496 803.651 173.515 803.489 Q174.533 803.304 175.552 803.304 Q181.339 803.304 184.718 806.475 Q188.098 809.647 188.098 815.063 Q188.098 820.642 184.626 823.744 Q181.153 826.822 174.834 826.822 Q172.658 826.822 170.39 826.452 Q168.144 826.082 165.737 825.341 L165.737 820.642 Q167.82 821.776 170.042 822.332 Q172.265 822.887 174.741 822.887 Q178.746 822.887 181.084 820.781 Q183.422 818.674 183.422 815.063 Q183.422 811.452 181.084 809.346 Q178.746 807.239 174.741 807.239 Q172.866 807.239 170.991 807.656 Q169.14 808.073 167.195 808.952 L167.195 791.591 Z\" fill=\"#000000\" fill-rule=\"nonzero\" fill-opacity=\"1\" /><path clip-path=\"url(#clip750)\" d=\"M50.9921 569.024 L80.6679 569.024 L80.6679 572.959 L50.9921 572.959 L50.9921 569.024 Z\" fill=\"#000000\" fill-rule=\"nonzero\" fill-opacity=\"1\" /><path clip-path=\"url(#clip750)\" d=\"M100.76 554.372 Q97.1493 554.372 95.3206 557.936 Q93.515 561.478 93.515 568.608 Q93.515 575.714 95.3206 579.279 Q97.1493 582.82 100.76 582.82 Q104.395 582.82 106.2 579.279 Q108.029 575.714 108.029 568.608 Q108.029 561.478 106.2 557.936 Q104.395 554.372 100.76 554.372 M100.76 550.668 Q106.571 550.668 109.626 555.274 Q112.705 559.858 112.705 568.608 Q112.705 577.334 109.626 581.941 Q106.571 586.524 100.76 586.524 Q94.9502 586.524 91.8715 581.941 Q88.816 577.334 88.816 568.608 Q88.816 559.858 91.8715 555.274 Q94.9502 550.668 100.76 550.668 Z\" fill=\"#000000\" fill-rule=\"nonzero\" fill-opacity=\"1\" /><path clip-path=\"url(#clip750)\" d=\"M120.922 579.973 L125.807 579.973 L125.807 585.853 L120.922 585.853 L120.922 579.973 Z\" fill=\"#000000\" fill-rule=\"nonzero\" fill-opacity=\"1\" /><path clip-path=\"url(#clip750)\" d=\"M136.802 581.918 L144.441 581.918 L144.441 555.552 L136.131 557.219 L136.131 552.96 L144.394 551.293 L149.07 551.293 L149.07 581.918 L156.709 581.918 L156.709 585.853 L136.802 585.853 L136.802 581.918 Z\" fill=\"#000000\" fill-rule=\"nonzero\" fill-opacity=\"1\" /><path clip-path=\"url(#clip750)\" d=\"M176.153 554.372 Q172.542 554.372 170.714 557.936 Q168.908 561.478 168.908 568.608 Q168.908 575.714 170.714 579.279 Q172.542 582.82 176.153 582.82 Q179.788 582.82 181.593 579.279 Q183.422 575.714 183.422 568.608 Q183.422 561.478 181.593 557.936 Q179.788 554.372 176.153 554.372 M176.153 550.668 Q181.964 550.668 185.019 555.274 Q188.098 559.858 188.098 568.608 Q188.098 577.334 185.019 581.941 Q181.964 586.524 176.153 586.524 Q170.343 586.524 167.265 581.941 Q164.209 577.334 164.209 568.608 Q164.209 559.858 167.265 555.274 Q170.343 550.668 176.153 550.668 Z\" fill=\"#000000\" fill-rule=\"nonzero\" fill-opacity=\"1\" /><path clip-path=\"url(#clip750)\" d=\"M51.9875 328.726 L81.6633 328.726 L81.6633 332.661 L51.9875 332.661 L51.9875 328.726 Z\" fill=\"#000000\" fill-rule=\"nonzero\" fill-opacity=\"1\" /><path clip-path=\"url(#clip750)\" d=\"M101.756 314.073 Q98.1447 314.073 96.316 317.638 Q94.5104 321.18 94.5104 328.309 Q94.5104 335.416 96.316 338.981 Q98.1447 342.522 101.756 342.522 Q105.39 342.522 107.196 338.981 Q109.024 335.416 109.024 328.309 Q109.024 321.18 107.196 317.638 Q105.39 314.073 101.756 314.073 M101.756 310.37 Q107.566 310.37 110.621 314.976 Q113.7 319.559 113.7 328.309 Q113.7 337.036 110.621 341.643 Q107.566 346.226 101.756 346.226 Q95.9456 346.226 92.8669 341.643 Q89.8114 337.036 89.8114 328.309 Q89.8114 319.559 92.8669 314.976 Q95.9456 310.37 101.756 310.37 Z\" fill=\"#000000\" fill-rule=\"nonzero\" fill-opacity=\"1\" /><path clip-path=\"url(#clip750)\" d=\"M121.918 339.675 L126.802 339.675 L126.802 345.555 L121.918 345.555 L121.918 339.675 Z\" fill=\"#000000\" fill-rule=\"nonzero\" fill-opacity=\"1\" /><path clip-path=\"url(#clip750)\" d=\"M146.987 314.073 Q143.376 314.073 141.547 317.638 Q139.742 321.18 139.742 328.309 Q139.742 335.416 141.547 338.981 Q143.376 342.522 146.987 342.522 Q150.621 342.522 152.427 338.981 Q154.255 335.416 154.255 328.309 Q154.255 321.18 152.427 317.638 Q150.621 314.073 146.987 314.073 M146.987 310.37 Q152.797 310.37 155.853 314.976 Q158.931 319.559 158.931 328.309 Q158.931 337.036 155.853 341.643 Q152.797 346.226 146.987 346.226 Q141.177 346.226 138.098 341.643 Q135.043 337.036 135.043 328.309 Q135.043 319.559 138.098 314.976 Q141.177 310.37 146.987 310.37 Z\" fill=\"#000000\" fill-rule=\"nonzero\" fill-opacity=\"1\" /><path clip-path=\"url(#clip750)\" d=\"M167.195 310.995 L185.552 310.995 L185.552 314.93 L171.478 314.93 L171.478 323.402 Q172.496 323.055 173.515 322.893 Q174.533 322.707 175.552 322.707 Q181.339 322.707 184.718 325.879 Q188.098 329.05 188.098 334.467 Q188.098 340.045 184.626 343.147 Q181.153 346.226 174.834 346.226 Q172.658 346.226 170.39 345.856 Q168.144 345.485 165.737 344.744 L165.737 340.045 Q167.82 341.18 170.042 341.735 Q172.265 342.291 174.741 342.291 Q178.746 342.291 181.084 340.184 Q183.422 338.078 183.422 334.467 Q183.422 330.856 181.084 328.749 Q178.746 326.643 174.741 326.643 Q172.866 326.643 170.991 327.059 Q169.14 327.476 167.195 328.356 L167.195 310.995 Z\" fill=\"#000000\" fill-rule=\"nonzero\" fill-opacity=\"1\" /><path clip-path=\"url(#clip750)\" d=\"M100.76 73.775 Q97.1493 73.775 95.3206 77.3398 Q93.515 80.8814 93.515 88.011 Q93.515 95.1174 95.3206 98.6822 Q97.1493 102.224 100.76 102.224 Q104.395 102.224 106.2 98.6822 Q108.029 95.1174 108.029 88.011 Q108.029 80.8814 106.2 77.3398 Q104.395 73.775 100.76 73.775 M100.76 70.0713 Q106.571 70.0713 109.626 74.6777 Q112.705 79.261 112.705 88.011 Q112.705 96.7378 109.626 101.344 Q106.571 105.928 100.76 105.928 Q94.9502 105.928 91.8715 101.344 Q88.816 96.7378 88.816 88.011 Q88.816 79.261 91.8715 74.6777 Q94.9502 70.0713 100.76 70.0713 Z\" fill=\"#000000\" fill-rule=\"nonzero\" fill-opacity=\"1\" /><path clip-path=\"url(#clip750)\" d=\"M120.922 99.3767 L125.807 99.3767 L125.807 105.256 L120.922 105.256 L120.922 99.3767 Z\" fill=\"#000000\" fill-rule=\"nonzero\" fill-opacity=\"1\" /><path clip-path=\"url(#clip750)\" d=\"M145.992 73.775 Q142.381 73.775 140.552 77.3398 Q138.746 80.8814 138.746 88.011 Q138.746 95.1174 140.552 98.6822 Q142.381 102.224 145.992 102.224 Q149.626 102.224 151.431 98.6822 Q153.26 95.1174 153.26 88.011 Q153.26 80.8814 151.431 77.3398 Q149.626 73.775 145.992 73.775 M145.992 70.0713 Q151.802 70.0713 154.857 74.6777 Q157.936 79.261 157.936 88.011 Q157.936 96.7378 154.857 101.344 Q151.802 105.928 145.992 105.928 Q140.181 105.928 137.103 101.344 Q134.047 96.7378 134.047 88.011 Q134.047 79.261 137.103 74.6777 Q140.181 70.0713 145.992 70.0713 Z\" fill=\"#000000\" fill-rule=\"nonzero\" fill-opacity=\"1\" /><path clip-path=\"url(#clip750)\" d=\"M176.153 73.775 Q172.542 73.775 170.714 77.3398 Q168.908 80.8814 168.908 88.011 Q168.908 95.1174 170.714 98.6822 Q172.542 102.224 176.153 102.224 Q179.788 102.224 181.593 98.6822 Q183.422 95.1174 183.422 88.011 Q183.422 80.8814 181.593 77.3398 Q179.788 73.775 176.153 73.775 M176.153 70.0713 Q181.964 70.0713 185.019 74.6777 Q188.098 79.261 188.098 88.011 Q188.098 96.7378 185.019 101.344 Q181.964 105.928 176.153 105.928 Q170.343 105.928 167.265 101.344 Q164.209 96.7378 164.209 88.011 Q164.209 79.261 167.265 74.6777 Q170.343 70.0713 176.153 70.0713 Z\" fill=\"#000000\" fill-rule=\"nonzero\" fill-opacity=\"1\" /><polyline clip-path=\"url(#clip752)\" style=\"stroke:#009af9; stroke-linecap:round; stroke-linejoin:round; stroke-width:4; stroke-opacity:1; fill:none\" points=\"284.343,87.9763 304.425,196.68 324.506,457.017 344.588,774.983 364.67,1073.05 384.751,1297.94 404.833,1422.97 424.915,1445.72 444.996,1382.16 465.078,1259.15 485.16,1107 505.241,953.505 525.323,820.259 545.405,719.54 565.486,655.553 585.568,625.638 605.65,623.116 625.731,638.951 645.813,663.961 665.895,690.088 685.977,711.848 706.058,726.441 726.14,733.217 746.222,732.815 766.303,726.593 786.385,716.179 806.467,703.237 826.548,689.334 846.63,675.703 866.712,662.829 886.793,650.787 906.875,639.344 926.957,628.522 947.038,618.385 967.12,608.752 987.202,599.496 1007.28,590.737 1027.37,582.496 1047.45,574.543 1067.53,566.764 1087.61,559.239 1107.69,551.961 1127.77,544.841 1147.86,538.042 1167.94,531.63 1188.02,525.385 1208.1,519.134 1228.18,512.805 1248.26,506.471 1268.35,500.264 1288.43,494.283 1308.51,488.636 1328.59,483.325 1348.67,478.379 1368.75,473.807 1388.84,469.508 1408.92,465.378 1429,461.343 1449.08,457.346 1469.16,453.37 1489.24,449.422 1509.33,445.493 1529.41,441.587 1549.49,437.712 1569.57,433.924 1589.65,430.263 1609.73,426.76 1629.82,423.428 1649.9,420.251 1669.98,417.219 1690.06,414.339 1710.14,411.611 1730.22,409.01 1750.31,406.541 1770.39,404.179 1790.47,401.917 1810.55,399.737 1830.63,397.619 1850.71,395.533 1870.8,393.471 1890.88,391.474 1910.96,389.576 1931.04,387.785 1951.12,386.101 1971.2,384.511 1991.29,382.998 2011.37,381.566 2031.45,380.216 2051.53,378.943 2071.61,377.73 2091.69,376.562 2111.78,375.423 2131.86,374.305 2151.94,373.205 2172.02,372.128 2192.1,371.083 2212.18,370.077 2232.27,369.114 2252.35,368.199 2272.43,367.338 2292.51,366.532 \"/>\n",
       "<path clip-path=\"url(#clip750)\" d=\"M2016.5 1438.47 L2281.8 1438.47 L2281.8 1334.79 L2016.5 1334.79  Z\" fill=\"#ffffff\" fill-rule=\"evenodd\" fill-opacity=\"1\"/>\n",
       "<polyline clip-path=\"url(#clip750)\" style=\"stroke:#000000; stroke-linecap:round; stroke-linejoin:round; stroke-width:4; stroke-opacity:1; fill:none\" points=\"2016.5,1438.47 2281.8,1438.47 2281.8,1334.79 2016.5,1334.79 2016.5,1438.47 \"/>\n",
       "<polyline clip-path=\"url(#clip750)\" style=\"stroke:#009af9; stroke-linecap:round; stroke-linejoin:round; stroke-width:4; stroke-opacity:1; fill:none\" points=\"2040.16,1386.63 2182.07,1386.63 \"/>\n",
       "<path clip-path=\"url(#clip750)\" d=\"M2219.56 1406.32 Q2217.76 1410.95 2216.04 1412.36 Q2214.33 1413.78 2211.46 1413.78 L2208.06 1413.78 L2208.06 1410.21 L2210.56 1410.21 Q2212.32 1410.21 2213.29 1409.38 Q2214.26 1408.54 2215.44 1405.44 L2216.2 1403.5 L2205.72 1377.99 L2210.23 1377.99 L2218.33 1398.27 L2226.44 1377.99 L2230.95 1377.99 L2219.56 1406.32 Z\" fill=\"#000000\" fill-rule=\"nonzero\" fill-opacity=\"1\" /><path clip-path=\"url(#clip750)\" d=\"M2238.24 1399.98 L2245.88 1399.98 L2245.88 1373.61 L2237.57 1375.28 L2237.57 1371.02 L2245.83 1369.35 L2250.51 1369.35 L2250.51 1399.98 L2258.15 1399.98 L2258.15 1403.91 L2238.24 1403.91 L2238.24 1399.98 Z\" fill=\"#000000\" fill-rule=\"nonzero\" fill-opacity=\"1\" /></svg>\n"
      ],
      "text/html": [
       "<?xml version=\"1.0\" encoding=\"utf-8\"?>\n",
       "<svg xmlns=\"http://www.w3.org/2000/svg\" xmlns:xlink=\"http://www.w3.org/1999/xlink\" width=\"600\" height=\"400\" viewBox=\"0 0 2400 1600\">\n",
       "<defs>\n",
       "  <clipPath id=\"clip800\">\n",
       "    <rect x=\"0\" y=\"0\" width=\"2400\" height=\"1600\"/>\n",
       "  </clipPath>\n",
       "</defs>\n",
       "<path clip-path=\"url(#clip800)\" d=\"M0 1600 L2400 1600 L2400 0 L0 0  Z\" fill=\"#ffffff\" fill-rule=\"evenodd\" fill-opacity=\"1\"/>\n",
       "<defs>\n",
       "  <clipPath id=\"clip801\">\n",
       "    <rect x=\"480\" y=\"0\" width=\"1681\" height=\"1600\"/>\n",
       "  </clipPath>\n",
       "</defs>\n",
       "<path clip-path=\"url(#clip800)\" d=\"M224.098 1486.45 L2352.76 1486.45 L2352.76 47.2441 L224.098 47.2441  Z\" fill=\"#ffffff\" fill-rule=\"evenodd\" fill-opacity=\"1\"/>\n",
       "<defs>\n",
       "  <clipPath id=\"clip802\">\n",
       "    <rect x=\"224\" y=\"47\" width=\"2130\" height=\"1440\"/>\n",
       "  </clipPath>\n",
       "</defs>\n",
       "<polyline clip-path=\"url(#clip802)\" style=\"stroke:#000000; stroke-linecap:round; stroke-linejoin:round; stroke-width:2; stroke-opacity:0.1; fill:none\" points=\"284.343,1486.45 284.343,47.2441 \"/>\n",
       "<polyline clip-path=\"url(#clip802)\" style=\"stroke:#000000; stroke-linecap:round; stroke-linejoin:round; stroke-width:2; stroke-opacity:0.1; fill:none\" points=\"685.977,1486.45 685.977,47.2441 \"/>\n",
       "<polyline clip-path=\"url(#clip802)\" style=\"stroke:#000000; stroke-linecap:round; stroke-linejoin:round; stroke-width:2; stroke-opacity:0.1; fill:none\" points=\"1087.61,1486.45 1087.61,47.2441 \"/>\n",
       "<polyline clip-path=\"url(#clip802)\" style=\"stroke:#000000; stroke-linecap:round; stroke-linejoin:round; stroke-width:2; stroke-opacity:0.1; fill:none\" points=\"1489.24,1486.45 1489.24,47.2441 \"/>\n",
       "<polyline clip-path=\"url(#clip802)\" style=\"stroke:#000000; stroke-linecap:round; stroke-linejoin:round; stroke-width:2; stroke-opacity:0.1; fill:none\" points=\"1890.88,1486.45 1890.88,47.2441 \"/>\n",
       "<polyline clip-path=\"url(#clip802)\" style=\"stroke:#000000; stroke-linecap:round; stroke-linejoin:round; stroke-width:2; stroke-opacity:0.1; fill:none\" points=\"2292.51,1486.45 2292.51,47.2441 \"/>\n",
       "<polyline clip-path=\"url(#clip802)\" style=\"stroke:#000000; stroke-linecap:round; stroke-linejoin:round; stroke-width:2; stroke-opacity:0.1; fill:none\" points=\"224.098,1289.47 2352.76,1289.47 \"/>\n",
       "<polyline clip-path=\"url(#clip802)\" style=\"stroke:#000000; stroke-linecap:round; stroke-linejoin:round; stroke-width:2; stroke-opacity:0.1; fill:none\" points=\"224.098,1049.17 2352.76,1049.17 \"/>\n",
       "<polyline clip-path=\"url(#clip802)\" style=\"stroke:#000000; stroke-linecap:round; stroke-linejoin:round; stroke-width:2; stroke-opacity:0.1; fill:none\" points=\"224.098,808.871 2352.76,808.871 \"/>\n",
       "<polyline clip-path=\"url(#clip802)\" style=\"stroke:#000000; stroke-linecap:round; stroke-linejoin:round; stroke-width:2; stroke-opacity:0.1; fill:none\" points=\"224.098,568.573 2352.76,568.573 \"/>\n",
       "<polyline clip-path=\"url(#clip802)\" style=\"stroke:#000000; stroke-linecap:round; stroke-linejoin:round; stroke-width:2; stroke-opacity:0.1; fill:none\" points=\"224.098,328.275 2352.76,328.275 \"/>\n",
       "<polyline clip-path=\"url(#clip802)\" style=\"stroke:#000000; stroke-linecap:round; stroke-linejoin:round; stroke-width:2; stroke-opacity:0.1; fill:none\" points=\"224.098,87.9763 2352.76,87.9763 \"/>\n",
       "<polyline clip-path=\"url(#clip800)\" style=\"stroke:#000000; stroke-linecap:round; stroke-linejoin:round; stroke-width:4; stroke-opacity:1; fill:none\" points=\"224.098,1486.45 2352.76,1486.45 \"/>\n",
       "<polyline clip-path=\"url(#clip800)\" style=\"stroke:#000000; stroke-linecap:round; stroke-linejoin:round; stroke-width:4; stroke-opacity:1; fill:none\" points=\"284.343,1486.45 284.343,1467.55 \"/>\n",
       "<polyline clip-path=\"url(#clip800)\" style=\"stroke:#000000; stroke-linecap:round; stroke-linejoin:round; stroke-width:4; stroke-opacity:1; fill:none\" points=\"685.977,1486.45 685.977,1467.55 \"/>\n",
       "<polyline clip-path=\"url(#clip800)\" style=\"stroke:#000000; stroke-linecap:round; stroke-linejoin:round; stroke-width:4; stroke-opacity:1; fill:none\" points=\"1087.61,1486.45 1087.61,1467.55 \"/>\n",
       "<polyline clip-path=\"url(#clip800)\" style=\"stroke:#000000; stroke-linecap:round; stroke-linejoin:round; stroke-width:4; stroke-opacity:1; fill:none\" points=\"1489.24,1486.45 1489.24,1467.55 \"/>\n",
       "<polyline clip-path=\"url(#clip800)\" style=\"stroke:#000000; stroke-linecap:round; stroke-linejoin:round; stroke-width:4; stroke-opacity:1; fill:none\" points=\"1890.88,1486.45 1890.88,1467.55 \"/>\n",
       "<polyline clip-path=\"url(#clip800)\" style=\"stroke:#000000; stroke-linecap:round; stroke-linejoin:round; stroke-width:4; stroke-opacity:1; fill:none\" points=\"2292.51,1486.45 2292.51,1467.55 \"/>\n",
       "<path clip-path=\"url(#clip800)\" d=\"M284.343 1517.37 Q280.732 1517.37 278.903 1520.93 Q277.098 1524.47 277.098 1531.6 Q277.098 1538.71 278.903 1542.27 Q280.732 1545.82 284.343 1545.82 Q287.977 1545.82 289.783 1542.27 Q291.611 1538.71 291.611 1531.6 Q291.611 1524.47 289.783 1520.93 Q287.977 1517.37 284.343 1517.37 M284.343 1513.66 Q290.153 1513.66 293.209 1518.27 Q296.287 1522.85 296.287 1531.6 Q296.287 1540.33 293.209 1544.94 Q290.153 1549.52 284.343 1549.52 Q278.533 1549.52 275.454 1544.94 Q272.399 1540.33 272.399 1531.6 Q272.399 1522.85 275.454 1518.27 Q278.533 1513.66 284.343 1513.66 Z\" fill=\"#000000\" fill-rule=\"nonzero\" fill-opacity=\"1\" /><path clip-path=\"url(#clip800)\" d=\"M676.358 1544.91 L683.997 1544.91 L683.997 1518.55 L675.687 1520.21 L675.687 1515.95 L683.951 1514.29 L688.627 1514.29 L688.627 1544.91 L696.266 1544.91 L696.266 1548.85 L676.358 1548.85 L676.358 1544.91 Z\" fill=\"#000000\" fill-rule=\"nonzero\" fill-opacity=\"1\" /><path clip-path=\"url(#clip800)\" d=\"M1082.26 1544.91 L1098.58 1544.91 L1098.58 1548.85 L1076.64 1548.85 L1076.64 1544.91 Q1079.3 1542.16 1083.88 1537.53 Q1088.49 1532.88 1089.67 1531.53 Q1091.92 1529.01 1092.8 1527.27 Q1093.7 1525.51 1093.7 1523.82 Q1093.7 1521.07 1091.75 1519.33 Q1089.83 1517.6 1086.73 1517.6 Q1084.53 1517.6 1082.08 1518.36 Q1079.65 1519.13 1076.87 1520.68 L1076.87 1515.95 Q1079.69 1514.82 1082.15 1514.24 Q1084.6 1513.66 1086.64 1513.66 Q1092.01 1513.66 1095.2 1516.35 Q1098.4 1519.03 1098.4 1523.52 Q1098.4 1525.65 1097.59 1527.57 Q1096.8 1529.47 1094.69 1532.07 Q1094.11 1532.74 1091.01 1535.95 Q1087.91 1539.15 1082.26 1544.91 Z\" fill=\"#000000\" fill-rule=\"nonzero\" fill-opacity=\"1\" /><path clip-path=\"url(#clip800)\" d=\"M1493.49 1530.21 Q1496.85 1530.93 1498.72 1533.2 Q1500.62 1535.47 1500.62 1538.8 Q1500.62 1543.92 1497.1 1546.72 Q1493.58 1549.52 1487.1 1549.52 Q1484.93 1549.52 1482.61 1549.08 Q1480.32 1548.66 1477.87 1547.81 L1477.87 1543.29 Q1479.81 1544.43 1482.13 1545.01 Q1484.44 1545.58 1486.96 1545.58 Q1491.36 1545.58 1493.65 1543.85 Q1495.97 1542.11 1495.97 1538.8 Q1495.97 1535.75 1493.82 1534.03 Q1491.69 1532.3 1487.87 1532.3 L1483.84 1532.3 L1483.84 1528.45 L1488.05 1528.45 Q1491.5 1528.45 1493.33 1527.09 Q1495.16 1525.7 1495.16 1523.11 Q1495.16 1520.45 1493.26 1519.03 Q1491.38 1517.6 1487.87 1517.6 Q1485.95 1517.6 1483.75 1518.01 Q1481.55 1518.43 1478.91 1519.31 L1478.91 1515.14 Q1481.57 1514.4 1483.88 1514.03 Q1486.22 1513.66 1488.28 1513.66 Q1493.61 1513.66 1496.71 1516.09 Q1499.81 1518.5 1499.81 1522.62 Q1499.81 1525.49 1498.17 1527.48 Q1496.52 1529.45 1493.49 1530.21 Z\" fill=\"#000000\" fill-rule=\"nonzero\" fill-opacity=\"1\" /><path clip-path=\"url(#clip800)\" d=\"M1893.89 1518.36 L1882.08 1536.81 L1893.89 1536.81 L1893.89 1518.36 M1892.66 1514.29 L1898.54 1514.29 L1898.54 1536.81 L1903.47 1536.81 L1903.47 1540.7 L1898.54 1540.7 L1898.54 1548.85 L1893.89 1548.85 L1893.89 1540.7 L1878.28 1540.7 L1878.28 1536.19 L1892.66 1514.29 Z\" fill=\"#000000\" fill-rule=\"nonzero\" fill-opacity=\"1\" /><path clip-path=\"url(#clip800)\" d=\"M2282.79 1514.29 L2301.15 1514.29 L2301.15 1518.22 L2287.07 1518.22 L2287.07 1526.7 Q2288.09 1526.35 2289.11 1526.19 Q2290.13 1526 2291.15 1526 Q2296.93 1526 2300.31 1529.17 Q2303.69 1532.34 2303.69 1537.76 Q2303.69 1543.34 2300.22 1546.44 Q2296.75 1549.52 2290.43 1549.52 Q2288.25 1549.52 2285.98 1549.15 Q2283.74 1548.78 2281.33 1548.04 L2281.33 1543.34 Q2283.41 1544.47 2285.64 1545.03 Q2287.86 1545.58 2290.33 1545.58 Q2294.34 1545.58 2296.68 1543.48 Q2299.02 1541.37 2299.02 1537.76 Q2299.02 1534.15 2296.68 1532.04 Q2294.34 1529.94 2290.33 1529.94 Q2288.46 1529.94 2286.58 1530.35 Q2284.73 1530.77 2282.79 1531.65 L2282.79 1514.29 Z\" fill=\"#000000\" fill-rule=\"nonzero\" fill-opacity=\"1\" /><polyline clip-path=\"url(#clip800)\" style=\"stroke:#000000; stroke-linecap:round; stroke-linejoin:round; stroke-width:4; stroke-opacity:1; fill:none\" points=\"224.098,1486.45 224.098,47.2441 \"/>\n",
       "<polyline clip-path=\"url(#clip800)\" style=\"stroke:#000000; stroke-linecap:round; stroke-linejoin:round; stroke-width:4; stroke-opacity:1; fill:none\" points=\"224.098,1289.47 242.996,1289.47 \"/>\n",
       "<polyline clip-path=\"url(#clip800)\" style=\"stroke:#000000; stroke-linecap:round; stroke-linejoin:round; stroke-width:4; stroke-opacity:1; fill:none\" points=\"224.098,1049.17 242.996,1049.17 \"/>\n",
       "<polyline clip-path=\"url(#clip800)\" style=\"stroke:#000000; stroke-linecap:round; stroke-linejoin:round; stroke-width:4; stroke-opacity:1; fill:none\" points=\"224.098,808.871 242.996,808.871 \"/>\n",
       "<polyline clip-path=\"url(#clip800)\" style=\"stroke:#000000; stroke-linecap:round; stroke-linejoin:round; stroke-width:4; stroke-opacity:1; fill:none\" points=\"224.098,568.573 242.996,568.573 \"/>\n",
       "<polyline clip-path=\"url(#clip800)\" style=\"stroke:#000000; stroke-linecap:round; stroke-linejoin:round; stroke-width:4; stroke-opacity:1; fill:none\" points=\"224.098,328.275 242.996,328.275 \"/>\n",
       "<polyline clip-path=\"url(#clip800)\" style=\"stroke:#000000; stroke-linecap:round; stroke-linejoin:round; stroke-width:4; stroke-opacity:1; fill:none\" points=\"224.098,87.9763 242.996,87.9763 \"/>\n",
       "<path clip-path=\"url(#clip800)\" d=\"M51.9875 1289.92 L81.6633 1289.92 L81.6633 1293.85 L51.9875 1293.85 L51.9875 1289.92 Z\" fill=\"#000000\" fill-rule=\"nonzero\" fill-opacity=\"1\" /><path clip-path=\"url(#clip800)\" d=\"M101.756 1275.27 Q98.1447 1275.27 96.316 1278.83 Q94.5104 1282.37 94.5104 1289.5 Q94.5104 1296.61 96.316 1300.17 Q98.1447 1303.72 101.756 1303.72 Q105.39 1303.72 107.196 1300.17 Q109.024 1296.61 109.024 1289.5 Q109.024 1282.37 107.196 1278.83 Q105.39 1275.27 101.756 1275.27 M101.756 1271.56 Q107.566 1271.56 110.621 1276.17 Q113.7 1280.75 113.7 1289.5 Q113.7 1298.23 110.621 1302.84 Q107.566 1307.42 101.756 1307.42 Q95.9456 1307.42 92.8669 1302.84 Q89.8114 1298.23 89.8114 1289.5 Q89.8114 1280.75 92.8669 1276.17 Q95.9456 1271.56 101.756 1271.56 Z\" fill=\"#000000\" fill-rule=\"nonzero\" fill-opacity=\"1\" /><path clip-path=\"url(#clip800)\" d=\"M121.918 1300.87 L126.802 1300.87 L126.802 1306.75 L121.918 1306.75 L121.918 1300.87 Z\" fill=\"#000000\" fill-rule=\"nonzero\" fill-opacity=\"1\" /><path clip-path=\"url(#clip800)\" d=\"M141.015 1302.81 L157.334 1302.81 L157.334 1306.75 L135.39 1306.75 L135.39 1302.81 Q138.052 1300.06 142.635 1295.43 Q147.242 1290.78 148.422 1289.43 Q150.668 1286.91 151.547 1285.17 Q152.45 1283.41 152.45 1281.72 Q152.45 1278.97 150.505 1277.23 Q148.584 1275.5 145.482 1275.5 Q143.283 1275.5 140.83 1276.26 Q138.399 1277.03 135.621 1278.58 L135.621 1273.85 Q138.445 1272.72 140.899 1272.14 Q143.353 1271.56 145.39 1271.56 Q150.76 1271.56 153.955 1274.25 Q157.149 1276.93 157.149 1281.42 Q157.149 1283.55 156.339 1285.47 Q155.552 1287.37 153.445 1289.97 Q152.867 1290.64 149.765 1293.85 Q146.663 1297.05 141.015 1302.81 Z\" fill=\"#000000\" fill-rule=\"nonzero\" fill-opacity=\"1\" /><path clip-path=\"url(#clip800)\" d=\"M167.195 1272.19 L185.552 1272.19 L185.552 1276.12 L171.478 1276.12 L171.478 1284.6 Q172.496 1284.25 173.515 1284.09 Q174.533 1283.9 175.552 1283.9 Q181.339 1283.9 184.718 1287.07 Q188.098 1290.24 188.098 1295.66 Q188.098 1301.24 184.626 1304.34 Q181.153 1307.42 174.834 1307.42 Q172.658 1307.42 170.39 1307.05 Q168.144 1306.68 165.737 1305.94 L165.737 1301.24 Q167.82 1302.37 170.042 1302.93 Q172.265 1303.48 174.741 1303.48 Q178.746 1303.48 181.084 1301.38 Q183.422 1299.27 183.422 1295.66 Q183.422 1292.05 181.084 1289.94 Q178.746 1287.84 174.741 1287.84 Q172.866 1287.84 170.991 1288.25 Q169.14 1288.67 167.195 1289.55 L167.195 1272.19 Z\" fill=\"#000000\" fill-rule=\"nonzero\" fill-opacity=\"1\" /><path clip-path=\"url(#clip800)\" d=\"M50.9921 1049.62 L80.6679 1049.62 L80.6679 1053.56 L50.9921 1053.56 L50.9921 1049.62 Z\" fill=\"#000000\" fill-rule=\"nonzero\" fill-opacity=\"1\" /><path clip-path=\"url(#clip800)\" d=\"M100.76 1034.97 Q97.1493 1034.97 95.3206 1038.53 Q93.515 1042.07 93.515 1049.2 Q93.515 1056.31 95.3206 1059.88 Q97.1493 1063.42 100.76 1063.42 Q104.395 1063.42 106.2 1059.88 Q108.029 1056.31 108.029 1049.2 Q108.029 1042.07 106.2 1038.53 Q104.395 1034.97 100.76 1034.97 M100.76 1031.26 Q106.571 1031.26 109.626 1035.87 Q112.705 1040.45 112.705 1049.2 Q112.705 1057.93 109.626 1062.54 Q106.571 1067.12 100.76 1067.12 Q94.9502 1067.12 91.8715 1062.54 Q88.816 1057.93 88.816 1049.2 Q88.816 1040.45 91.8715 1035.87 Q94.9502 1031.26 100.76 1031.26 Z\" fill=\"#000000\" fill-rule=\"nonzero\" fill-opacity=\"1\" /><path clip-path=\"url(#clip800)\" d=\"M120.922 1060.57 L125.807 1060.57 L125.807 1066.45 L120.922 1066.45 L120.922 1060.57 Z\" fill=\"#000000\" fill-rule=\"nonzero\" fill-opacity=\"1\" /><path clip-path=\"url(#clip800)\" d=\"M140.019 1062.51 L156.339 1062.51 L156.339 1066.45 L134.394 1066.45 L134.394 1062.51 Q137.056 1059.76 141.64 1055.13 Q146.246 1050.48 147.427 1049.13 Q149.672 1046.61 150.552 1044.88 Q151.455 1043.12 151.455 1041.43 Q151.455 1038.67 149.51 1036.94 Q147.589 1035.2 144.487 1035.2 Q142.288 1035.2 139.834 1035.96 Q137.404 1036.73 134.626 1038.28 L134.626 1033.56 Q137.45 1032.42 139.904 1031.84 Q142.357 1031.26 144.394 1031.26 Q149.765 1031.26 152.959 1033.95 Q156.154 1036.63 156.154 1041.13 Q156.154 1043.26 155.343 1045.18 Q154.556 1047.07 152.45 1049.67 Q151.871 1050.34 148.769 1053.56 Q145.668 1056.75 140.019 1062.51 Z\" fill=\"#000000\" fill-rule=\"nonzero\" fill-opacity=\"1\" /><path clip-path=\"url(#clip800)\" d=\"M176.153 1034.97 Q172.542 1034.97 170.714 1038.53 Q168.908 1042.07 168.908 1049.2 Q168.908 1056.31 170.714 1059.88 Q172.542 1063.42 176.153 1063.42 Q179.788 1063.42 181.593 1059.88 Q183.422 1056.31 183.422 1049.2 Q183.422 1042.07 181.593 1038.53 Q179.788 1034.97 176.153 1034.97 M176.153 1031.26 Q181.964 1031.26 185.019 1035.87 Q188.098 1040.45 188.098 1049.2 Q188.098 1057.93 185.019 1062.54 Q181.964 1067.12 176.153 1067.12 Q170.343 1067.12 167.265 1062.54 Q164.209 1057.93 164.209 1049.2 Q164.209 1040.45 167.265 1035.87 Q170.343 1031.26 176.153 1031.26 Z\" fill=\"#000000\" fill-rule=\"nonzero\" fill-opacity=\"1\" /><path clip-path=\"url(#clip800)\" d=\"M51.9875 809.323 L81.6633 809.323 L81.6633 813.258 L51.9875 813.258 L51.9875 809.323 Z\" fill=\"#000000\" fill-rule=\"nonzero\" fill-opacity=\"1\" /><path clip-path=\"url(#clip800)\" d=\"M101.756 794.67 Q98.1447 794.67 96.316 798.235 Q94.5104 801.776 94.5104 808.906 Q94.5104 816.012 96.316 819.577 Q98.1447 823.119 101.756 823.119 Q105.39 823.119 107.196 819.577 Q109.024 816.012 109.024 808.906 Q109.024 801.776 107.196 798.235 Q105.39 794.67 101.756 794.67 M101.756 790.966 Q107.566 790.966 110.621 795.573 Q113.7 800.156 113.7 808.906 Q113.7 817.633 110.621 822.239 Q107.566 826.822 101.756 826.822 Q95.9456 826.822 92.8669 822.239 Q89.8114 817.633 89.8114 808.906 Q89.8114 800.156 92.8669 795.573 Q95.9456 790.966 101.756 790.966 Z\" fill=\"#000000\" fill-rule=\"nonzero\" fill-opacity=\"1\" /><path clip-path=\"url(#clip800)\" d=\"M121.918 820.272 L126.802 820.272 L126.802 826.151 L121.918 826.151 L121.918 820.272 Z\" fill=\"#000000\" fill-rule=\"nonzero\" fill-opacity=\"1\" /><path clip-path=\"url(#clip800)\" d=\"M137.797 822.216 L145.436 822.216 L145.436 795.85 L137.126 797.517 L137.126 793.258 L145.39 791.591 L150.066 791.591 L150.066 822.216 L157.705 822.216 L157.705 826.151 L137.797 826.151 L137.797 822.216 Z\" fill=\"#000000\" fill-rule=\"nonzero\" fill-opacity=\"1\" /><path clip-path=\"url(#clip800)\" d=\"M167.195 791.591 L185.552 791.591 L185.552 795.526 L171.478 795.526 L171.478 803.999 Q172.496 803.651 173.515 803.489 Q174.533 803.304 175.552 803.304 Q181.339 803.304 184.718 806.475 Q188.098 809.647 188.098 815.063 Q188.098 820.642 184.626 823.744 Q181.153 826.822 174.834 826.822 Q172.658 826.822 170.39 826.452 Q168.144 826.082 165.737 825.341 L165.737 820.642 Q167.82 821.776 170.042 822.332 Q172.265 822.887 174.741 822.887 Q178.746 822.887 181.084 820.781 Q183.422 818.674 183.422 815.063 Q183.422 811.452 181.084 809.346 Q178.746 807.239 174.741 807.239 Q172.866 807.239 170.991 807.656 Q169.14 808.073 167.195 808.952 L167.195 791.591 Z\" fill=\"#000000\" fill-rule=\"nonzero\" fill-opacity=\"1\" /><path clip-path=\"url(#clip800)\" d=\"M50.9921 569.024 L80.6679 569.024 L80.6679 572.959 L50.9921 572.959 L50.9921 569.024 Z\" fill=\"#000000\" fill-rule=\"nonzero\" fill-opacity=\"1\" /><path clip-path=\"url(#clip800)\" d=\"M100.76 554.372 Q97.1493 554.372 95.3206 557.936 Q93.515 561.478 93.515 568.608 Q93.515 575.714 95.3206 579.279 Q97.1493 582.82 100.76 582.82 Q104.395 582.82 106.2 579.279 Q108.029 575.714 108.029 568.608 Q108.029 561.478 106.2 557.936 Q104.395 554.372 100.76 554.372 M100.76 550.668 Q106.571 550.668 109.626 555.274 Q112.705 559.858 112.705 568.608 Q112.705 577.334 109.626 581.941 Q106.571 586.524 100.76 586.524 Q94.9502 586.524 91.8715 581.941 Q88.816 577.334 88.816 568.608 Q88.816 559.858 91.8715 555.274 Q94.9502 550.668 100.76 550.668 Z\" fill=\"#000000\" fill-rule=\"nonzero\" fill-opacity=\"1\" /><path clip-path=\"url(#clip800)\" d=\"M120.922 579.973 L125.807 579.973 L125.807 585.853 L120.922 585.853 L120.922 579.973 Z\" fill=\"#000000\" fill-rule=\"nonzero\" fill-opacity=\"1\" /><path clip-path=\"url(#clip800)\" d=\"M136.802 581.918 L144.441 581.918 L144.441 555.552 L136.131 557.219 L136.131 552.96 L144.394 551.293 L149.07 551.293 L149.07 581.918 L156.709 581.918 L156.709 585.853 L136.802 585.853 L136.802 581.918 Z\" fill=\"#000000\" fill-rule=\"nonzero\" fill-opacity=\"1\" /><path clip-path=\"url(#clip800)\" d=\"M176.153 554.372 Q172.542 554.372 170.714 557.936 Q168.908 561.478 168.908 568.608 Q168.908 575.714 170.714 579.279 Q172.542 582.82 176.153 582.82 Q179.788 582.82 181.593 579.279 Q183.422 575.714 183.422 568.608 Q183.422 561.478 181.593 557.936 Q179.788 554.372 176.153 554.372 M176.153 550.668 Q181.964 550.668 185.019 555.274 Q188.098 559.858 188.098 568.608 Q188.098 577.334 185.019 581.941 Q181.964 586.524 176.153 586.524 Q170.343 586.524 167.265 581.941 Q164.209 577.334 164.209 568.608 Q164.209 559.858 167.265 555.274 Q170.343 550.668 176.153 550.668 Z\" fill=\"#000000\" fill-rule=\"nonzero\" fill-opacity=\"1\" /><path clip-path=\"url(#clip800)\" d=\"M51.9875 328.726 L81.6633 328.726 L81.6633 332.661 L51.9875 332.661 L51.9875 328.726 Z\" fill=\"#000000\" fill-rule=\"nonzero\" fill-opacity=\"1\" /><path clip-path=\"url(#clip800)\" d=\"M101.756 314.073 Q98.1447 314.073 96.316 317.638 Q94.5104 321.18 94.5104 328.309 Q94.5104 335.416 96.316 338.981 Q98.1447 342.522 101.756 342.522 Q105.39 342.522 107.196 338.981 Q109.024 335.416 109.024 328.309 Q109.024 321.18 107.196 317.638 Q105.39 314.073 101.756 314.073 M101.756 310.37 Q107.566 310.37 110.621 314.976 Q113.7 319.559 113.7 328.309 Q113.7 337.036 110.621 341.643 Q107.566 346.226 101.756 346.226 Q95.9456 346.226 92.8669 341.643 Q89.8114 337.036 89.8114 328.309 Q89.8114 319.559 92.8669 314.976 Q95.9456 310.37 101.756 310.37 Z\" fill=\"#000000\" fill-rule=\"nonzero\" fill-opacity=\"1\" /><path clip-path=\"url(#clip800)\" d=\"M121.918 339.675 L126.802 339.675 L126.802 345.555 L121.918 345.555 L121.918 339.675 Z\" fill=\"#000000\" fill-rule=\"nonzero\" fill-opacity=\"1\" /><path clip-path=\"url(#clip800)\" d=\"M146.987 314.073 Q143.376 314.073 141.547 317.638 Q139.742 321.18 139.742 328.309 Q139.742 335.416 141.547 338.981 Q143.376 342.522 146.987 342.522 Q150.621 342.522 152.427 338.981 Q154.255 335.416 154.255 328.309 Q154.255 321.18 152.427 317.638 Q150.621 314.073 146.987 314.073 M146.987 310.37 Q152.797 310.37 155.853 314.976 Q158.931 319.559 158.931 328.309 Q158.931 337.036 155.853 341.643 Q152.797 346.226 146.987 346.226 Q141.177 346.226 138.098 341.643 Q135.043 337.036 135.043 328.309 Q135.043 319.559 138.098 314.976 Q141.177 310.37 146.987 310.37 Z\" fill=\"#000000\" fill-rule=\"nonzero\" fill-opacity=\"1\" /><path clip-path=\"url(#clip800)\" d=\"M167.195 310.995 L185.552 310.995 L185.552 314.93 L171.478 314.93 L171.478 323.402 Q172.496 323.055 173.515 322.893 Q174.533 322.707 175.552 322.707 Q181.339 322.707 184.718 325.879 Q188.098 329.05 188.098 334.467 Q188.098 340.045 184.626 343.147 Q181.153 346.226 174.834 346.226 Q172.658 346.226 170.39 345.856 Q168.144 345.485 165.737 344.744 L165.737 340.045 Q167.82 341.18 170.042 341.735 Q172.265 342.291 174.741 342.291 Q178.746 342.291 181.084 340.184 Q183.422 338.078 183.422 334.467 Q183.422 330.856 181.084 328.749 Q178.746 326.643 174.741 326.643 Q172.866 326.643 170.991 327.059 Q169.14 327.476 167.195 328.356 L167.195 310.995 Z\" fill=\"#000000\" fill-rule=\"nonzero\" fill-opacity=\"1\" /><path clip-path=\"url(#clip800)\" d=\"M100.76 73.775 Q97.1493 73.775 95.3206 77.3398 Q93.515 80.8814 93.515 88.011 Q93.515 95.1174 95.3206 98.6822 Q97.1493 102.224 100.76 102.224 Q104.395 102.224 106.2 98.6822 Q108.029 95.1174 108.029 88.011 Q108.029 80.8814 106.2 77.3398 Q104.395 73.775 100.76 73.775 M100.76 70.0713 Q106.571 70.0713 109.626 74.6777 Q112.705 79.261 112.705 88.011 Q112.705 96.7378 109.626 101.344 Q106.571 105.928 100.76 105.928 Q94.9502 105.928 91.8715 101.344 Q88.816 96.7378 88.816 88.011 Q88.816 79.261 91.8715 74.6777 Q94.9502 70.0713 100.76 70.0713 Z\" fill=\"#000000\" fill-rule=\"nonzero\" fill-opacity=\"1\" /><path clip-path=\"url(#clip800)\" d=\"M120.922 99.3767 L125.807 99.3767 L125.807 105.256 L120.922 105.256 L120.922 99.3767 Z\" fill=\"#000000\" fill-rule=\"nonzero\" fill-opacity=\"1\" /><path clip-path=\"url(#clip800)\" d=\"M145.992 73.775 Q142.381 73.775 140.552 77.3398 Q138.746 80.8814 138.746 88.011 Q138.746 95.1174 140.552 98.6822 Q142.381 102.224 145.992 102.224 Q149.626 102.224 151.431 98.6822 Q153.26 95.1174 153.26 88.011 Q153.26 80.8814 151.431 77.3398 Q149.626 73.775 145.992 73.775 M145.992 70.0713 Q151.802 70.0713 154.857 74.6777 Q157.936 79.261 157.936 88.011 Q157.936 96.7378 154.857 101.344 Q151.802 105.928 145.992 105.928 Q140.181 105.928 137.103 101.344 Q134.047 96.7378 134.047 88.011 Q134.047 79.261 137.103 74.6777 Q140.181 70.0713 145.992 70.0713 Z\" fill=\"#000000\" fill-rule=\"nonzero\" fill-opacity=\"1\" /><path clip-path=\"url(#clip800)\" d=\"M176.153 73.775 Q172.542 73.775 170.714 77.3398 Q168.908 80.8814 168.908 88.011 Q168.908 95.1174 170.714 98.6822 Q172.542 102.224 176.153 102.224 Q179.788 102.224 181.593 98.6822 Q183.422 95.1174 183.422 88.011 Q183.422 80.8814 181.593 77.3398 Q179.788 73.775 176.153 73.775 M176.153 70.0713 Q181.964 70.0713 185.019 74.6777 Q188.098 79.261 188.098 88.011 Q188.098 96.7378 185.019 101.344 Q181.964 105.928 176.153 105.928 Q170.343 105.928 167.265 101.344 Q164.209 96.7378 164.209 88.011 Q164.209 79.261 167.265 74.6777 Q170.343 70.0713 176.153 70.0713 Z\" fill=\"#000000\" fill-rule=\"nonzero\" fill-opacity=\"1\" /><polyline clip-path=\"url(#clip802)\" style=\"stroke:#009af9; stroke-linecap:round; stroke-linejoin:round; stroke-width:4; stroke-opacity:1; fill:none\" points=\"284.343,87.9763 304.425,196.68 324.506,457.017 344.588,774.983 364.67,1073.05 384.751,1297.94 404.833,1422.97 424.915,1445.72 444.996,1382.16 465.078,1259.15 485.16,1107 505.241,953.505 525.323,820.259 545.405,719.54 565.486,655.553 585.568,625.638 605.65,623.116 625.731,638.951 645.813,663.961 665.895,690.088 685.977,711.848 706.058,726.441 726.14,733.217 746.222,732.815 766.303,726.593 786.385,716.179 806.467,703.237 826.548,689.334 846.63,675.703 866.712,662.829 886.793,650.787 906.875,639.344 926.957,628.522 947.038,618.385 967.12,608.752 987.202,599.496 1007.28,590.737 1027.37,582.496 1047.45,574.543 1067.53,566.764 1087.61,559.239 1107.69,551.961 1127.77,544.841 1147.86,538.042 1167.94,531.63 1188.02,525.385 1208.1,519.134 1228.18,512.805 1248.26,506.471 1268.35,500.264 1288.43,494.283 1308.51,488.636 1328.59,483.325 1348.67,478.379 1368.75,473.807 1388.84,469.508 1408.92,465.378 1429,461.343 1449.08,457.346 1469.16,453.37 1489.24,449.422 1509.33,445.493 1529.41,441.587 1549.49,437.712 1569.57,433.924 1589.65,430.263 1609.73,426.76 1629.82,423.428 1649.9,420.251 1669.98,417.219 1690.06,414.339 1710.14,411.611 1730.22,409.01 1750.31,406.541 1770.39,404.179 1790.47,401.917 1810.55,399.737 1830.63,397.619 1850.71,395.533 1870.8,393.471 1890.88,391.474 1910.96,389.576 1931.04,387.785 1951.12,386.101 1971.2,384.511 1991.29,382.998 2011.37,381.566 2031.45,380.216 2051.53,378.943 2071.61,377.73 2091.69,376.562 2111.78,375.423 2131.86,374.305 2151.94,373.205 2172.02,372.128 2192.1,371.083 2212.18,370.077 2232.27,369.114 2252.35,368.199 2272.43,367.338 2292.51,366.532 \"/>\n",
       "<path clip-path=\"url(#clip800)\" d=\"M2016.5 1438.47 L2281.8 1438.47 L2281.8 1334.79 L2016.5 1334.79  Z\" fill=\"#ffffff\" fill-rule=\"evenodd\" fill-opacity=\"1\"/>\n",
       "<polyline clip-path=\"url(#clip800)\" style=\"stroke:#000000; stroke-linecap:round; stroke-linejoin:round; stroke-width:4; stroke-opacity:1; fill:none\" points=\"2016.5,1438.47 2281.8,1438.47 2281.8,1334.79 2016.5,1334.79 2016.5,1438.47 \"/>\n",
       "<polyline clip-path=\"url(#clip800)\" style=\"stroke:#009af9; stroke-linecap:round; stroke-linejoin:round; stroke-width:4; stroke-opacity:1; fill:none\" points=\"2040.16,1386.63 2182.07,1386.63 \"/>\n",
       "<path clip-path=\"url(#clip800)\" d=\"M2219.56 1406.32 Q2217.76 1410.95 2216.04 1412.36 Q2214.33 1413.78 2211.46 1413.78 L2208.06 1413.78 L2208.06 1410.21 L2210.56 1410.21 Q2212.32 1410.21 2213.29 1409.38 Q2214.26 1408.54 2215.44 1405.44 L2216.2 1403.5 L2205.72 1377.99 L2210.23 1377.99 L2218.33 1398.27 L2226.44 1377.99 L2230.95 1377.99 L2219.56 1406.32 Z\" fill=\"#000000\" fill-rule=\"nonzero\" fill-opacity=\"1\" /><path clip-path=\"url(#clip800)\" d=\"M2238.24 1399.98 L2245.88 1399.98 L2245.88 1373.61 L2237.57 1375.28 L2237.57 1371.02 L2245.83 1369.35 L2250.51 1369.35 L2250.51 1399.98 L2258.15 1399.98 L2258.15 1403.91 L2238.24 1403.91 L2238.24 1399.98 Z\" fill=\"#000000\" fill-rule=\"nonzero\" fill-opacity=\"1\" /></svg>\n"
      ]
     },
     "execution_count": 95,
     "metadata": {},
     "output_type": "execute_result"
    }
   ],
   "source": [
    "plot(times_array, JE_t)"
   ]
  },
  {
   "cell_type": "code",
   "execution_count": 82,
   "id": "be8941df-720f-48df-8208-98e624feed8e",
   "metadata": {},
   "outputs": [
    {
     "data": {
      "image/png": "[encoded data removed]",
      "image/svg+xml": [
       "<?xml version=\"1.0\" encoding=\"utf-8\"?>\n",
       "<svg xmlns=\"http://www.w3.org/2000/svg\" xmlns:xlink=\"http://www.w3.org/1999/xlink\" width=\"600\" height=\"400\" viewBox=\"0 0 2400 1600\">\n",
       "<defs>\n",
       "  <clipPath id=\"clip570\">\n",
       "    <rect x=\"0\" y=\"0\" width=\"2400\" height=\"1600\"/>\n",
       "  </clipPath>\n",
       "</defs>\n",
       "<path clip-path=\"url(#clip570)\" d=\"M0 1600 L2400 1600 L2400 0 L0 0  Z\" fill=\"#ffffff\" fill-rule=\"evenodd\" fill-opacity=\"1\"/>\n",
       "<defs>\n",
       "  <clipPath id=\"clip571\">\n",
       "    <rect x=\"480\" y=\"0\" width=\"1681\" height=\"1600\"/>\n",
       "  </clipPath>\n",
       "</defs>\n",
       "<path clip-path=\"url(#clip570)\" d=\"M224.26 1486.45 L2352.76 1486.45 L2352.76 47.2441 L224.26 47.2441  Z\" fill=\"#ffffff\" fill-rule=\"evenodd\" fill-opacity=\"1\"/>\n",
       "<defs>\n",
       "  <clipPath id=\"clip572\">\n",
       "    <rect x=\"224\" y=\"47\" width=\"2129\" height=\"1440\"/>\n",
       "  </clipPath>\n",
       "</defs>\n",
       "<polyline clip-path=\"url(#clip572)\" style=\"stroke:#000000; stroke-linecap:round; stroke-linejoin:round; stroke-width:2; stroke-opacity:0.1; fill:none\" points=\"284.5,1486.45 284.5,47.2441 \"/>\n",
       "<polyline clip-path=\"url(#clip572)\" style=\"stroke:#000000; stroke-linecap:round; stroke-linejoin:round; stroke-width:2; stroke-opacity:0.1; fill:none\" points=\"686.103,1486.45 686.103,47.2441 \"/>\n",
       "<polyline clip-path=\"url(#clip572)\" style=\"stroke:#000000; stroke-linecap:round; stroke-linejoin:round; stroke-width:2; stroke-opacity:0.1; fill:none\" points=\"1087.71,1486.45 1087.71,47.2441 \"/>\n",
       "<polyline clip-path=\"url(#clip572)\" style=\"stroke:#000000; stroke-linecap:round; stroke-linejoin:round; stroke-width:2; stroke-opacity:0.1; fill:none\" points=\"1489.31,1486.45 1489.31,47.2441 \"/>\n",
       "<polyline clip-path=\"url(#clip572)\" style=\"stroke:#000000; stroke-linecap:round; stroke-linejoin:round; stroke-width:2; stroke-opacity:0.1; fill:none\" points=\"1890.91,1486.45 1890.91,47.2441 \"/>\n",
       "<polyline clip-path=\"url(#clip572)\" style=\"stroke:#000000; stroke-linecap:round; stroke-linejoin:round; stroke-width:2; stroke-opacity:0.1; fill:none\" points=\"2292.52,1486.45 2292.52,47.2441 \"/>\n",
       "<polyline clip-path=\"url(#clip572)\" style=\"stroke:#000000; stroke-linecap:round; stroke-linejoin:round; stroke-width:2; stroke-opacity:0.1; fill:none\" points=\"224.26,1314.13 2352.76,1314.13 \"/>\n",
       "<polyline clip-path=\"url(#clip572)\" style=\"stroke:#000000; stroke-linecap:round; stroke-linejoin:round; stroke-width:2; stroke-opacity:0.1; fill:none\" points=\"224.26,1050.39 2352.76,1050.39 \"/>\n",
       "<polyline clip-path=\"url(#clip572)\" style=\"stroke:#000000; stroke-linecap:round; stroke-linejoin:round; stroke-width:2; stroke-opacity:0.1; fill:none\" points=\"224.26,786.653 2352.76,786.653 \"/>\n",
       "<polyline clip-path=\"url(#clip572)\" style=\"stroke:#000000; stroke-linecap:round; stroke-linejoin:round; stroke-width:2; stroke-opacity:0.1; fill:none\" points=\"224.26,522.912 2352.76,522.912 \"/>\n",
       "<polyline clip-path=\"url(#clip572)\" style=\"stroke:#000000; stroke-linecap:round; stroke-linejoin:round; stroke-width:2; stroke-opacity:0.1; fill:none\" points=\"224.26,259.171 2352.76,259.171 \"/>\n",
       "<polyline clip-path=\"url(#clip570)\" style=\"stroke:#000000; stroke-linecap:round; stroke-linejoin:round; stroke-width:4; stroke-opacity:1; fill:none\" points=\"224.26,1486.45 2352.76,1486.45 \"/>\n",
       "<polyline clip-path=\"url(#clip570)\" style=\"stroke:#000000; stroke-linecap:round; stroke-linejoin:round; stroke-width:4; stroke-opacity:1; fill:none\" points=\"284.5,1486.45 284.5,1467.55 \"/>\n",
       "<polyline clip-path=\"url(#clip570)\" style=\"stroke:#000000; stroke-linecap:round; stroke-linejoin:round; stroke-width:4; stroke-opacity:1; fill:none\" points=\"686.103,1486.45 686.103,1467.55 \"/>\n",
       "<polyline clip-path=\"url(#clip570)\" style=\"stroke:#000000; stroke-linecap:round; stroke-linejoin:round; stroke-width:4; stroke-opacity:1; fill:none\" points=\"1087.71,1486.45 1087.71,1467.55 \"/>\n",
       "<polyline clip-path=\"url(#clip570)\" style=\"stroke:#000000; stroke-linecap:round; stroke-linejoin:round; stroke-width:4; stroke-opacity:1; fill:none\" points=\"1489.31,1486.45 1489.31,1467.55 \"/>\n",
       "<polyline clip-path=\"url(#clip570)\" style=\"stroke:#000000; stroke-linecap:round; stroke-linejoin:round; stroke-width:4; stroke-opacity:1; fill:none\" points=\"1890.91,1486.45 1890.91,1467.55 \"/>\n",
       "<polyline clip-path=\"url(#clip570)\" style=\"stroke:#000000; stroke-linecap:round; stroke-linejoin:round; stroke-width:4; stroke-opacity:1; fill:none\" points=\"2292.52,1486.45 2292.52,1467.55 \"/>\n",
       "<path clip-path=\"url(#clip570)\" d=\"M284.5 1517.37 Q280.889 1517.37 279.061 1520.93 Q277.255 1524.47 277.255 1531.6 Q277.255 1538.71 279.061 1542.27 Q280.889 1545.82 284.5 1545.82 Q288.135 1545.82 289.94 1542.27 Q291.769 1538.71 291.769 1531.6 Q291.769 1524.47 289.94 1520.93 Q288.135 1517.37 284.5 1517.37 M284.5 1513.66 Q290.311 1513.66 293.366 1518.27 Q296.445 1522.85 296.445 1531.6 Q296.445 1540.33 293.366 1544.94 Q290.311 1549.52 284.5 1549.52 Q278.69 1549.52 275.612 1544.94 Q272.556 1540.33 272.556 1531.6 Q272.556 1522.85 275.612 1518.27 Q278.69 1513.66 284.5 1513.66 Z\" fill=\"#000000\" fill-rule=\"nonzero\" fill-opacity=\"1\" /><path clip-path=\"url(#clip570)\" d=\"M676.485 1544.91 L684.124 1544.91 L684.124 1518.55 L675.814 1520.21 L675.814 1515.95 L684.078 1514.29 L688.754 1514.29 L688.754 1544.91 L696.393 1544.91 L696.393 1548.85 L676.485 1548.85 L676.485 1544.91 Z\" fill=\"#000000\" fill-rule=\"nonzero\" fill-opacity=\"1\" /><path clip-path=\"url(#clip570)\" d=\"M1082.36 1544.91 L1098.68 1544.91 L1098.68 1548.85 L1076.73 1548.85 L1076.73 1544.91 Q1079.4 1542.16 1083.98 1537.53 Q1088.59 1532.88 1089.77 1531.53 Q1092.01 1529.01 1092.89 1527.27 Q1093.79 1525.51 1093.79 1523.82 Q1093.79 1521.07 1091.85 1519.33 Q1089.93 1517.6 1086.83 1517.6 Q1084.63 1517.6 1082.17 1518.36 Q1079.74 1519.13 1076.97 1520.68 L1076.97 1515.95 Q1079.79 1514.82 1082.24 1514.24 Q1084.7 1513.66 1086.73 1513.66 Q1092.1 1513.66 1095.3 1516.35 Q1098.49 1519.03 1098.49 1523.52 Q1098.49 1525.65 1097.68 1527.57 Q1096.9 1529.47 1094.79 1532.07 Q1094.21 1532.74 1091.11 1535.95 Q1088.01 1539.15 1082.36 1544.91 Z\" fill=\"#000000\" fill-rule=\"nonzero\" fill-opacity=\"1\" /><path clip-path=\"url(#clip570)\" d=\"M1493.56 1530.21 Q1496.91 1530.93 1498.79 1533.2 Q1500.69 1535.47 1500.69 1538.8 Q1500.69 1543.92 1497.17 1546.72 Q1493.65 1549.52 1487.17 1549.52 Q1484.99 1549.52 1482.68 1549.08 Q1480.39 1548.66 1477.93 1547.81 L1477.93 1543.29 Q1479.88 1544.43 1482.19 1545.01 Q1484.51 1545.58 1487.03 1545.58 Q1491.43 1545.58 1493.72 1543.85 Q1496.03 1542.11 1496.03 1538.8 Q1496.03 1535.75 1493.88 1534.03 Q1491.75 1532.3 1487.93 1532.3 L1483.9 1532.3 L1483.9 1528.45 L1488.12 1528.45 Q1491.57 1528.45 1493.4 1527.09 Q1495.22 1525.7 1495.22 1523.11 Q1495.22 1520.45 1493.33 1519.03 Q1491.45 1517.6 1487.93 1517.6 Q1486.01 1517.6 1483.81 1518.01 Q1481.61 1518.43 1478.97 1519.31 L1478.97 1515.14 Q1481.64 1514.4 1483.95 1514.03 Q1486.29 1513.66 1488.35 1513.66 Q1493.67 1513.66 1496.77 1516.09 Q1499.88 1518.5 1499.88 1522.62 Q1499.88 1525.49 1498.23 1527.48 Q1496.59 1529.45 1493.56 1530.21 Z\" fill=\"#000000\" fill-rule=\"nonzero\" fill-opacity=\"1\" /><path clip-path=\"url(#clip570)\" d=\"M1893.92 1518.36 L1882.12 1536.81 L1893.92 1536.81 L1893.92 1518.36 M1892.69 1514.29 L1898.57 1514.29 L1898.57 1536.81 L1903.5 1536.81 L1903.5 1540.7 L1898.57 1540.7 L1898.57 1548.85 L1893.92 1548.85 L1893.92 1540.7 L1878.32 1540.7 L1878.32 1536.19 L1892.69 1514.29 Z\" fill=\"#000000\" fill-rule=\"nonzero\" fill-opacity=\"1\" /><path clip-path=\"url(#clip570)\" d=\"M2282.79 1514.29 L2301.15 1514.29 L2301.15 1518.22 L2287.08 1518.22 L2287.08 1526.7 Q2288.09 1526.35 2289.11 1526.19 Q2290.13 1526 2291.15 1526 Q2296.94 1526 2300.32 1529.17 Q2303.7 1532.34 2303.7 1537.76 Q2303.7 1543.34 2300.22 1546.44 Q2296.75 1549.52 2290.43 1549.52 Q2288.26 1549.52 2285.99 1549.15 Q2283.74 1548.78 2281.33 1548.04 L2281.33 1543.34 Q2283.42 1544.47 2285.64 1545.03 Q2287.86 1545.58 2290.34 1545.58 Q2294.34 1545.58 2296.68 1543.48 Q2299.02 1541.37 2299.02 1537.76 Q2299.02 1534.15 2296.68 1532.04 Q2294.34 1529.94 2290.34 1529.94 Q2288.46 1529.94 2286.59 1530.35 Q2284.74 1530.77 2282.79 1531.65 L2282.79 1514.29 Z\" fill=\"#000000\" fill-rule=\"nonzero\" fill-opacity=\"1\" /><polyline clip-path=\"url(#clip570)\" style=\"stroke:#000000; stroke-linecap:round; stroke-linejoin:round; stroke-width:4; stroke-opacity:1; fill:none\" points=\"224.26,1486.45 224.26,47.2441 \"/>\n",
       "<polyline clip-path=\"url(#clip570)\" style=\"stroke:#000000; stroke-linecap:round; stroke-linejoin:round; stroke-width:4; stroke-opacity:1; fill:none\" points=\"224.26,1314.13 243.158,1314.13 \"/>\n",
       "<polyline clip-path=\"url(#clip570)\" style=\"stroke:#000000; stroke-linecap:round; stroke-linejoin:round; stroke-width:4; stroke-opacity:1; fill:none\" points=\"224.26,1050.39 243.158,1050.39 \"/>\n",
       "<polyline clip-path=\"url(#clip570)\" style=\"stroke:#000000; stroke-linecap:round; stroke-linejoin:round; stroke-width:4; stroke-opacity:1; fill:none\" points=\"224.26,786.653 243.158,786.653 \"/>\n",
       "<polyline clip-path=\"url(#clip570)\" style=\"stroke:#000000; stroke-linecap:round; stroke-linejoin:round; stroke-width:4; stroke-opacity:1; fill:none\" points=\"224.26,522.912 243.158,522.912 \"/>\n",
       "<polyline clip-path=\"url(#clip570)\" style=\"stroke:#000000; stroke-linecap:round; stroke-linejoin:round; stroke-width:4; stroke-opacity:1; fill:none\" points=\"224.26,259.171 243.158,259.171 \"/>\n",
       "<path clip-path=\"url(#clip570)\" d=\"M51.3393 1314.59 L81.0151 1314.59 L81.0151 1318.52 L51.3393 1318.52 L51.3393 1314.59 Z\" fill=\"#000000\" fill-rule=\"nonzero\" fill-opacity=\"1\" /><path clip-path=\"url(#clip570)\" d=\"M101.108 1299.93 Q97.4965 1299.93 95.6678 1303.5 Q93.8623 1307.04 93.8623 1314.17 Q93.8623 1321.28 95.6678 1324.84 Q97.4965 1328.38 101.108 1328.38 Q104.742 1328.38 106.547 1324.84 Q108.376 1321.28 108.376 1314.17 Q108.376 1307.04 106.547 1303.5 Q104.742 1299.93 101.108 1299.93 M101.108 1296.23 Q106.918 1296.23 109.973 1300.84 Q113.052 1305.42 113.052 1314.17 Q113.052 1322.9 109.973 1327.5 Q106.918 1332.09 101.108 1332.09 Q95.2974 1332.09 92.2188 1327.5 Q89.1632 1322.9 89.1632 1314.17 Q89.1632 1305.42 92.2188 1300.84 Q95.2974 1296.23 101.108 1296.23 Z\" fill=\"#000000\" fill-rule=\"nonzero\" fill-opacity=\"1\" /><path clip-path=\"url(#clip570)\" d=\"M121.27 1325.53 L126.154 1325.53 L126.154 1331.41 L121.27 1331.41 L121.27 1325.53 Z\" fill=\"#000000\" fill-rule=\"nonzero\" fill-opacity=\"1\" /><path clip-path=\"url(#clip570)\" d=\"M146.339 1299.93 Q142.728 1299.93 140.899 1303.5 Q139.094 1307.04 139.094 1314.17 Q139.094 1321.28 140.899 1324.84 Q142.728 1328.38 146.339 1328.38 Q149.973 1328.38 151.779 1324.84 Q153.607 1321.28 153.607 1314.17 Q153.607 1307.04 151.779 1303.5 Q149.973 1299.93 146.339 1299.93 M146.339 1296.23 Q152.149 1296.23 155.205 1300.84 Q158.283 1305.42 158.283 1314.17 Q158.283 1322.9 155.205 1327.5 Q152.149 1332.09 146.339 1332.09 Q140.529 1332.09 137.45 1327.5 Q134.394 1322.9 134.394 1314.17 Q134.394 1305.42 137.45 1300.84 Q140.529 1296.23 146.339 1296.23 Z\" fill=\"#000000\" fill-rule=\"nonzero\" fill-opacity=\"1\" /><path clip-path=\"url(#clip570)\" d=\"M166.64 1330.7 L166.64 1326.44 Q168.399 1327.27 170.204 1327.71 Q172.01 1328.15 173.746 1328.15 Q178.376 1328.15 180.806 1325.05 Q183.26 1321.92 183.607 1315.58 Q182.265 1317.57 180.204 1318.64 Q178.144 1319.7 175.644 1319.7 Q170.459 1319.7 167.427 1316.58 Q164.417 1313.43 164.417 1307.99 Q164.417 1302.66 167.566 1299.45 Q170.714 1296.23 175.945 1296.23 Q181.94 1296.23 185.089 1300.84 Q188.26 1305.42 188.26 1314.17 Q188.26 1322.34 184.371 1327.22 Q180.505 1332.09 173.954 1332.09 Q172.195 1332.09 170.39 1331.74 Q168.584 1331.39 166.64 1330.7 M175.945 1316.04 Q179.093 1316.04 180.922 1313.89 Q182.774 1311.74 182.774 1307.99 Q182.774 1304.26 180.922 1302.11 Q179.093 1299.93 175.945 1299.93 Q172.797 1299.93 170.945 1302.11 Q169.116 1304.26 169.116 1307.99 Q169.116 1311.74 170.945 1313.89 Q172.797 1316.04 175.945 1316.04 Z\" fill=\"#000000\" fill-rule=\"nonzero\" fill-opacity=\"1\" /><path clip-path=\"url(#clip570)\" d=\"M50.9921 1050.85 L80.6679 1050.85 L80.6679 1054.78 L50.9921 1054.78 L50.9921 1050.85 Z\" fill=\"#000000\" fill-rule=\"nonzero\" fill-opacity=\"1\" /><path clip-path=\"url(#clip570)\" d=\"M100.76 1036.19 Q97.1493 1036.19 95.3206 1039.76 Q93.515 1043.3 93.515 1050.43 Q93.515 1057.53 95.3206 1061.1 Q97.1493 1064.64 100.76 1064.64 Q104.395 1064.64 106.2 1061.1 Q108.029 1057.53 108.029 1050.43 Q108.029 1043.3 106.2 1039.76 Q104.395 1036.19 100.76 1036.19 M100.76 1032.49 Q106.571 1032.49 109.626 1037.1 Q112.705 1041.68 112.705 1050.43 Q112.705 1059.16 109.626 1063.76 Q106.571 1068.34 100.76 1068.34 Q94.9502 1068.34 91.8715 1063.76 Q88.816 1059.16 88.816 1050.43 Q88.816 1041.68 91.8715 1037.1 Q94.9502 1032.49 100.76 1032.49 Z\" fill=\"#000000\" fill-rule=\"nonzero\" fill-opacity=\"1\" /><path clip-path=\"url(#clip570)\" d=\"M120.922 1061.79 L125.807 1061.79 L125.807 1067.67 L120.922 1067.67 L120.922 1061.79 Z\" fill=\"#000000\" fill-rule=\"nonzero\" fill-opacity=\"1\" /><path clip-path=\"url(#clip570)\" d=\"M145.992 1036.19 Q142.381 1036.19 140.552 1039.76 Q138.746 1043.3 138.746 1050.43 Q138.746 1057.53 140.552 1061.1 Q142.381 1064.64 145.992 1064.64 Q149.626 1064.64 151.431 1061.1 Q153.26 1057.53 153.26 1050.43 Q153.26 1043.3 151.431 1039.76 Q149.626 1036.19 145.992 1036.19 M145.992 1032.49 Q151.802 1032.49 154.857 1037.1 Q157.936 1041.68 157.936 1050.43 Q157.936 1059.16 154.857 1063.76 Q151.802 1068.34 145.992 1068.34 Q140.181 1068.34 137.103 1063.76 Q134.047 1059.16 134.047 1050.43 Q134.047 1041.68 137.103 1037.1 Q140.181 1032.49 145.992 1032.49 Z\" fill=\"#000000\" fill-rule=\"nonzero\" fill-opacity=\"1\" /><path clip-path=\"url(#clip570)\" d=\"M176.732 1048.53 Q173.584 1048.53 171.732 1050.68 Q169.904 1052.84 169.904 1056.59 Q169.904 1060.31 171.732 1062.49 Q173.584 1064.64 176.732 1064.64 Q179.88 1064.64 181.709 1062.49 Q183.561 1060.31 183.561 1056.59 Q183.561 1052.84 181.709 1050.68 Q179.88 1048.53 176.732 1048.53 M186.015 1033.88 L186.015 1038.14 Q184.255 1037.3 182.45 1036.86 Q180.667 1036.42 178.908 1036.42 Q174.279 1036.42 171.825 1039.55 Q169.394 1042.67 169.047 1048.99 Q170.413 1046.98 172.473 1045.91 Q174.533 1044.83 177.01 1044.83 Q182.218 1044.83 185.228 1048 Q188.26 1051.15 188.26 1056.59 Q188.26 1061.91 185.112 1065.13 Q181.964 1068.34 176.732 1068.34 Q170.737 1068.34 167.566 1063.76 Q164.394 1059.16 164.394 1050.43 Q164.394 1042.23 168.283 1037.37 Q172.172 1032.49 178.723 1032.49 Q180.482 1032.49 182.265 1032.84 Q184.07 1033.18 186.015 1033.88 Z\" fill=\"#000000\" fill-rule=\"nonzero\" fill-opacity=\"1\" /><path clip-path=\"url(#clip570)\" d=\"M51.8023 787.104 L81.4781 787.104 L81.4781 791.039 L51.8023 791.039 L51.8023 787.104 Z\" fill=\"#000000\" fill-rule=\"nonzero\" fill-opacity=\"1\" /><path clip-path=\"url(#clip570)\" d=\"M101.571 772.452 Q97.9595 772.452 96.1308 776.016 Q94.3252 779.558 94.3252 786.688 Q94.3252 793.794 96.1308 797.359 Q97.9595 800.9 101.571 800.9 Q105.205 800.9 107.01 797.359 Q108.839 793.794 108.839 786.688 Q108.839 779.558 107.01 776.016 Q105.205 772.452 101.571 772.452 M101.571 768.748 Q107.381 768.748 110.436 773.354 Q113.515 777.938 113.515 786.688 Q113.515 795.414 110.436 800.021 Q107.381 804.604 101.571 804.604 Q95.7604 804.604 92.6817 800.021 Q89.6262 795.414 89.6262 786.688 Q89.6262 777.938 92.6817 773.354 Q95.7604 768.748 101.571 768.748 Z\" fill=\"#000000\" fill-rule=\"nonzero\" fill-opacity=\"1\" /><path clip-path=\"url(#clip570)\" d=\"M121.732 798.053 L126.617 798.053 L126.617 803.933 L121.732 803.933 L121.732 798.053 Z\" fill=\"#000000\" fill-rule=\"nonzero\" fill-opacity=\"1\" /><path clip-path=\"url(#clip570)\" d=\"M146.802 772.452 Q143.191 772.452 141.362 776.016 Q139.556 779.558 139.556 786.688 Q139.556 793.794 141.362 797.359 Q143.191 800.9 146.802 800.9 Q150.436 800.9 152.242 797.359 Q154.07 793.794 154.07 786.688 Q154.07 779.558 152.242 776.016 Q150.436 772.452 146.802 772.452 M146.802 768.748 Q152.612 768.748 155.667 773.354 Q158.746 777.938 158.746 786.688 Q158.746 795.414 155.667 800.021 Q152.612 804.604 146.802 804.604 Q140.992 804.604 137.913 800.021 Q134.857 795.414 134.857 786.688 Q134.857 777.938 137.913 773.354 Q140.992 768.748 146.802 768.748 Z\" fill=\"#000000\" fill-rule=\"nonzero\" fill-opacity=\"1\" /><path clip-path=\"url(#clip570)\" d=\"M181.13 785.299 Q184.487 786.016 186.362 788.285 Q188.26 790.553 188.26 793.887 Q188.26 799.002 184.741 801.803 Q181.223 804.604 174.741 804.604 Q172.566 804.604 170.251 804.164 Q167.959 803.748 165.505 802.891 L165.505 798.377 Q167.45 799.512 169.765 800.09 Q172.079 800.669 174.603 800.669 Q179.001 800.669 181.292 798.933 Q183.607 797.197 183.607 793.887 Q183.607 790.831 181.454 789.118 Q179.325 787.382 175.505 787.382 L171.478 787.382 L171.478 783.539 L175.691 783.539 Q179.14 783.539 180.968 782.174 Q182.797 780.785 182.797 778.192 Q182.797 775.53 180.899 774.118 Q179.024 772.683 175.505 772.683 Q173.584 772.683 171.385 773.1 Q169.186 773.516 166.547 774.396 L166.547 770.229 Q169.209 769.489 171.524 769.118 Q173.862 768.748 175.922 768.748 Q181.246 768.748 184.348 771.178 Q187.45 773.586 187.45 777.706 Q187.45 780.576 185.806 782.567 Q184.163 784.535 181.13 785.299 Z\" fill=\"#000000\" fill-rule=\"nonzero\" fill-opacity=\"1\" /><path clip-path=\"url(#clip570)\" d=\"M100.922 508.711 Q97.3113 508.711 95.4826 512.275 Q93.6771 515.817 93.6771 522.947 Q93.6771 530.053 95.4826 533.618 Q97.3113 537.16 100.922 537.16 Q104.557 537.16 106.362 533.618 Q108.191 530.053 108.191 522.947 Q108.191 515.817 106.362 512.275 Q104.557 508.711 100.922 508.711 M100.922 505.007 Q106.733 505.007 109.788 509.613 Q112.867 514.197 112.867 522.947 Q112.867 531.673 109.788 536.28 Q106.733 540.863 100.922 540.863 Q95.1123 540.863 92.0336 536.28 Q88.978 531.673 88.978 522.947 Q88.978 514.197 92.0336 509.613 Q95.1123 505.007 100.922 505.007 Z\" fill=\"#000000\" fill-rule=\"nonzero\" fill-opacity=\"1\" /><path clip-path=\"url(#clip570)\" d=\"M121.084 534.312 L125.969 534.312 L125.969 540.192 L121.084 540.192 L121.084 534.312 Z\" fill=\"#000000\" fill-rule=\"nonzero\" fill-opacity=\"1\" /><path clip-path=\"url(#clip570)\" d=\"M146.154 508.711 Q142.543 508.711 140.714 512.275 Q138.908 515.817 138.908 522.947 Q138.908 530.053 140.714 533.618 Q142.543 537.16 146.154 537.16 Q149.788 537.16 151.593 533.618 Q153.422 530.053 153.422 522.947 Q153.422 515.817 151.593 512.275 Q149.788 508.711 146.154 508.711 M146.154 505.007 Q151.964 505.007 155.019 509.613 Q158.098 514.197 158.098 522.947 Q158.098 531.673 155.019 536.28 Q151.964 540.863 146.154 540.863 Q140.343 540.863 137.265 536.28 Q134.209 531.673 134.209 522.947 Q134.209 514.197 137.265 509.613 Q140.343 505.007 146.154 505.007 Z\" fill=\"#000000\" fill-rule=\"nonzero\" fill-opacity=\"1\" /><path clip-path=\"url(#clip570)\" d=\"M176.316 508.711 Q172.704 508.711 170.876 512.275 Q169.07 515.817 169.07 522.947 Q169.07 530.053 170.876 533.618 Q172.704 537.16 176.316 537.16 Q179.95 537.16 181.755 533.618 Q183.584 530.053 183.584 522.947 Q183.584 515.817 181.755 512.275 Q179.95 508.711 176.316 508.711 M176.316 505.007 Q182.126 505.007 185.181 509.613 Q188.26 514.197 188.26 522.947 Q188.26 531.673 185.181 536.28 Q182.126 540.863 176.316 540.863 Q170.505 540.863 167.427 536.28 Q164.371 531.673 164.371 522.947 Q164.371 514.197 167.427 509.613 Q170.505 505.007 176.316 505.007 Z\" fill=\"#000000\" fill-rule=\"nonzero\" fill-opacity=\"1\" /><path clip-path=\"url(#clip570)\" d=\"M101.571 244.97 Q97.9595 244.97 96.1308 248.535 Q94.3252 252.076 94.3252 259.206 Q94.3252 266.312 96.1308 269.877 Q97.9595 273.419 101.571 273.419 Q105.205 273.419 107.01 269.877 Q108.839 266.312 108.839 259.206 Q108.839 252.076 107.01 248.535 Q105.205 244.97 101.571 244.97 M101.571 241.266 Q107.381 241.266 110.436 245.873 Q113.515 250.456 113.515 259.206 Q113.515 267.933 110.436 272.539 Q107.381 277.122 101.571 277.122 Q95.7604 277.122 92.6817 272.539 Q89.6262 267.933 89.6262 259.206 Q89.6262 250.456 92.6817 245.873 Q95.7604 241.266 101.571 241.266 Z\" fill=\"#000000\" fill-rule=\"nonzero\" fill-opacity=\"1\" /><path clip-path=\"url(#clip570)\" d=\"M121.732 270.572 L126.617 270.572 L126.617 276.451 L121.732 276.451 L121.732 270.572 Z\" fill=\"#000000\" fill-rule=\"nonzero\" fill-opacity=\"1\" /><path clip-path=\"url(#clip570)\" d=\"M146.802 244.97 Q143.191 244.97 141.362 248.535 Q139.556 252.076 139.556 259.206 Q139.556 266.312 141.362 269.877 Q143.191 273.419 146.802 273.419 Q150.436 273.419 152.242 269.877 Q154.07 266.312 154.07 259.206 Q154.07 252.076 152.242 248.535 Q150.436 244.97 146.802 244.97 M146.802 241.266 Q152.612 241.266 155.667 245.873 Q158.746 250.456 158.746 259.206 Q158.746 267.933 155.667 272.539 Q152.612 277.122 146.802 277.122 Q140.992 277.122 137.913 272.539 Q134.857 267.933 134.857 259.206 Q134.857 250.456 137.913 245.873 Q140.992 241.266 146.802 241.266 Z\" fill=\"#000000\" fill-rule=\"nonzero\" fill-opacity=\"1\" /><path clip-path=\"url(#clip570)\" d=\"M181.13 257.817 Q184.487 258.535 186.362 260.803 Q188.26 263.072 188.26 266.405 Q188.26 271.521 184.741 274.321 Q181.223 277.122 174.741 277.122 Q172.566 277.122 170.251 276.683 Q167.959 276.266 165.505 275.409 L165.505 270.896 Q167.45 272.03 169.765 272.609 Q172.079 273.187 174.603 273.187 Q179.001 273.187 181.292 271.451 Q183.607 269.715 183.607 266.405 Q183.607 263.349 181.454 261.636 Q179.325 259.9 175.505 259.9 L171.478 259.9 L171.478 256.058 L175.691 256.058 Q179.14 256.058 180.968 254.692 Q182.797 253.303 182.797 250.71 Q182.797 248.048 180.899 246.636 Q179.024 245.201 175.505 245.201 Q173.584 245.201 171.385 245.618 Q169.186 246.035 166.547 246.914 L166.547 242.748 Q169.209 242.007 171.524 241.636 Q173.862 241.266 175.922 241.266 Q181.246 241.266 184.348 243.697 Q187.45 246.104 187.45 250.224 Q187.45 253.095 185.806 255.085 Q184.163 257.053 181.13 257.817 Z\" fill=\"#000000\" fill-rule=\"nonzero\" fill-opacity=\"1\" /><polyline clip-path=\"url(#clip572)\" style=\"stroke:#009af9; stroke-linecap:round; stroke-linejoin:round; stroke-width:4; stroke-opacity:1; fill:none\" points=\"284.5,522.912 304.581,599.673 324.661,782.819 344.741,1005.09 364.821,1211.12 384.901,1362.93 404.981,1441.65 425.061,1445.72 445.142,1386.77 465.222,1284.32 485.302,1160.39 505.382,1035.16 525.462,924.003 545.542,836.276 565.622,775.223 585.703,739.384 605.783,724.008 625.863,722.618 645.943,728.745 666.023,736.827 686.103,742.812 706.184,744.315 726.264,740.448 746.344,731.519 766.424,718.402 786.504,702.182 806.584,683.952 826.664,664.594 846.745,644.977 866.825,625.508 886.905,606.291 906.985,587.365 927.065,568.725 947.145,550.404 967.225,532.496 987.306,515.094 1007.39,498.307 1027.47,482.242 1047.55,466.941 1067.63,452.357 1087.71,438.402 1107.79,425.016 1127.87,412.123 1147.95,399.685 1168.03,387.674 1188.11,376.039 1208.19,364.768 1228.27,353.798 1248.35,343.103 1268.43,332.678 1288.51,322.505 1308.59,312.601 1328.67,303.03 1348.75,293.786 1368.83,284.851 1388.91,276.22 1408.99,267.879 1429.07,259.809 1449.15,251.993 1469.23,244.431 1489.31,237.127 1509.39,230.076 1529.47,223.274 1549.55,216.719 1569.63,210.41 1589.71,204.34 1609.79,198.538 1629.87,193.044 1649.95,187.83 1670.03,182.825 1690.11,177.998 1710.19,173.355 1730.27,168.934 1750.35,164.701 1770.43,160.612 1790.51,156.615 1810.59,152.691 1830.67,148.843 1850.75,145.081 1870.83,141.414 1890.91,137.842 1910.99,134.355 1931.07,130.948 1951.15,127.627 1971.23,124.405 1991.31,121.298 2011.39,118.324 2031.47,115.495 2051.55,112.803 2071.63,110.226 2091.71,107.794 2111.79,105.502 2131.87,103.319 2151.95,101.219 2172.03,99.1838 2192.11,97.2042 2212.19,95.2721 2232.28,93.3823 2252.36,91.5346 2272.44,89.7315 2292.52,87.9763 \"/>\n",
       "<path clip-path=\"url(#clip570)\" d=\"M295.21 198.898 L560.49 198.898 L560.49 95.2176 L295.21 95.2176  Z\" fill=\"#ffffff\" fill-rule=\"evenodd\" fill-opacity=\"1\"/>\n",
       "<polyline clip-path=\"url(#clip570)\" style=\"stroke:#000000; stroke-linecap:round; stroke-linejoin:round; stroke-width:4; stroke-opacity:1; fill:none\" points=\"295.21,198.898 560.49,198.898 560.49,95.2176 295.21,95.2176 295.21,198.898 \"/>\n",
       "<polyline clip-path=\"url(#clip570)\" style=\"stroke:#009af9; stroke-linecap:round; stroke-linejoin:round; stroke-width:4; stroke-opacity:1; fill:none\" points=\"318.86,147.058 460.759,147.058 \"/>\n",
       "<path clip-path=\"url(#clip570)\" d=\"M498.252 166.745 Q496.446 171.375 494.733 172.787 Q493.02 174.199 490.15 174.199 L486.747 174.199 L486.747 170.634 L489.247 170.634 Q491.007 170.634 491.979 169.8 Q492.951 168.967 494.132 165.865 L494.895 163.921 L484.409 138.412 L488.923 138.412 L497.025 158.689 L505.127 138.412 L509.641 138.412 L498.252 166.745 Z\" fill=\"#000000\" fill-rule=\"nonzero\" fill-opacity=\"1\" /><path clip-path=\"url(#clip570)\" d=\"M516.932 160.402 L524.571 160.402 L524.571 134.037 L516.261 135.703 L516.261 131.444 L524.525 129.778 L529.201 129.778 L529.201 160.402 L536.84 160.402 L536.84 164.338 L516.932 164.338 L516.932 160.402 Z\" fill=\"#000000\" fill-rule=\"nonzero\" fill-opacity=\"1\" /></svg>\n"
      ],
      "text/html": [
       "<?xml version=\"1.0\" encoding=\"utf-8\"?>\n",
       "<svg xmlns=\"http://www.w3.org/2000/svg\" xmlns:xlink=\"http://www.w3.org/1999/xlink\" width=\"600\" height=\"400\" viewBox=\"0 0 2400 1600\">\n",
       "<defs>\n",
       "  <clipPath id=\"clip620\">\n",
       "    <rect x=\"0\" y=\"0\" width=\"2400\" height=\"1600\"/>\n",
       "  </clipPath>\n",
       "</defs>\n",
       "<path clip-path=\"url(#clip620)\" d=\"M0 1600 L2400 1600 L2400 0 L0 0  Z\" fill=\"#ffffff\" fill-rule=\"evenodd\" fill-opacity=\"1\"/>\n",
       "<defs>\n",
       "  <clipPath id=\"clip621\">\n",
       "    <rect x=\"480\" y=\"0\" width=\"1681\" height=\"1600\"/>\n",
       "  </clipPath>\n",
       "</defs>\n",
       "<path clip-path=\"url(#clip620)\" d=\"M224.26 1486.45 L2352.76 1486.45 L2352.76 47.2441 L224.26 47.2441  Z\" fill=\"#ffffff\" fill-rule=\"evenodd\" fill-opacity=\"1\"/>\n",
       "<defs>\n",
       "  <clipPath id=\"clip622\">\n",
       "    <rect x=\"224\" y=\"47\" width=\"2129\" height=\"1440\"/>\n",
       "  </clipPath>\n",
       "</defs>\n",
       "<polyline clip-path=\"url(#clip622)\" style=\"stroke:#000000; stroke-linecap:round; stroke-linejoin:round; stroke-width:2; stroke-opacity:0.1; fill:none\" points=\"284.5,1486.45 284.5,47.2441 \"/>\n",
       "<polyline clip-path=\"url(#clip622)\" style=\"stroke:#000000; stroke-linecap:round; stroke-linejoin:round; stroke-width:2; stroke-opacity:0.1; fill:none\" points=\"686.103,1486.45 686.103,47.2441 \"/>\n",
       "<polyline clip-path=\"url(#clip622)\" style=\"stroke:#000000; stroke-linecap:round; stroke-linejoin:round; stroke-width:2; stroke-opacity:0.1; fill:none\" points=\"1087.71,1486.45 1087.71,47.2441 \"/>\n",
       "<polyline clip-path=\"url(#clip622)\" style=\"stroke:#000000; stroke-linecap:round; stroke-linejoin:round; stroke-width:2; stroke-opacity:0.1; fill:none\" points=\"1489.31,1486.45 1489.31,47.2441 \"/>\n",
       "<polyline clip-path=\"url(#clip622)\" style=\"stroke:#000000; stroke-linecap:round; stroke-linejoin:round; stroke-width:2; stroke-opacity:0.1; fill:none\" points=\"1890.91,1486.45 1890.91,47.2441 \"/>\n",
       "<polyline clip-path=\"url(#clip622)\" style=\"stroke:#000000; stroke-linecap:round; stroke-linejoin:round; stroke-width:2; stroke-opacity:0.1; fill:none\" points=\"2292.52,1486.45 2292.52,47.2441 \"/>\n",
       "<polyline clip-path=\"url(#clip622)\" style=\"stroke:#000000; stroke-linecap:round; stroke-linejoin:round; stroke-width:2; stroke-opacity:0.1; fill:none\" points=\"224.26,1314.13 2352.76,1314.13 \"/>\n",
       "<polyline clip-path=\"url(#clip622)\" style=\"stroke:#000000; stroke-linecap:round; stroke-linejoin:round; stroke-width:2; stroke-opacity:0.1; fill:none\" points=\"224.26,1050.39 2352.76,1050.39 \"/>\n",
       "<polyline clip-path=\"url(#clip622)\" style=\"stroke:#000000; stroke-linecap:round; stroke-linejoin:round; stroke-width:2; stroke-opacity:0.1; fill:none\" points=\"224.26,786.653 2352.76,786.653 \"/>\n",
       "<polyline clip-path=\"url(#clip622)\" style=\"stroke:#000000; stroke-linecap:round; stroke-linejoin:round; stroke-width:2; stroke-opacity:0.1; fill:none\" points=\"224.26,522.912 2352.76,522.912 \"/>\n",
       "<polyline clip-path=\"url(#clip622)\" style=\"stroke:#000000; stroke-linecap:round; stroke-linejoin:round; stroke-width:2; stroke-opacity:0.1; fill:none\" points=\"224.26,259.171 2352.76,259.171 \"/>\n",
       "<polyline clip-path=\"url(#clip620)\" style=\"stroke:#000000; stroke-linecap:round; stroke-linejoin:round; stroke-width:4; stroke-opacity:1; fill:none\" points=\"224.26,1486.45 2352.76,1486.45 \"/>\n",
       "<polyline clip-path=\"url(#clip620)\" style=\"stroke:#000000; stroke-linecap:round; stroke-linejoin:round; stroke-width:4; stroke-opacity:1; fill:none\" points=\"284.5,1486.45 284.5,1467.55 \"/>\n",
       "<polyline clip-path=\"url(#clip620)\" style=\"stroke:#000000; stroke-linecap:round; stroke-linejoin:round; stroke-width:4; stroke-opacity:1; fill:none\" points=\"686.103,1486.45 686.103,1467.55 \"/>\n",
       "<polyline clip-path=\"url(#clip620)\" style=\"stroke:#000000; stroke-linecap:round; stroke-linejoin:round; stroke-width:4; stroke-opacity:1; fill:none\" points=\"1087.71,1486.45 1087.71,1467.55 \"/>\n",
       "<polyline clip-path=\"url(#clip620)\" style=\"stroke:#000000; stroke-linecap:round; stroke-linejoin:round; stroke-width:4; stroke-opacity:1; fill:none\" points=\"1489.31,1486.45 1489.31,1467.55 \"/>\n",
       "<polyline clip-path=\"url(#clip620)\" style=\"stroke:#000000; stroke-linecap:round; stroke-linejoin:round; stroke-width:4; stroke-opacity:1; fill:none\" points=\"1890.91,1486.45 1890.91,1467.55 \"/>\n",
       "<polyline clip-path=\"url(#clip620)\" style=\"stroke:#000000; stroke-linecap:round; stroke-linejoin:round; stroke-width:4; stroke-opacity:1; fill:none\" points=\"2292.52,1486.45 2292.52,1467.55 \"/>\n",
       "<path clip-path=\"url(#clip620)\" d=\"M284.5 1517.37 Q280.889 1517.37 279.061 1520.93 Q277.255 1524.47 277.255 1531.6 Q277.255 1538.71 279.061 1542.27 Q280.889 1545.82 284.5 1545.82 Q288.135 1545.82 289.94 1542.27 Q291.769 1538.71 291.769 1531.6 Q291.769 1524.47 289.94 1520.93 Q288.135 1517.37 284.5 1517.37 M284.5 1513.66 Q290.311 1513.66 293.366 1518.27 Q296.445 1522.85 296.445 1531.6 Q296.445 1540.33 293.366 1544.94 Q290.311 1549.52 284.5 1549.52 Q278.69 1549.52 275.612 1544.94 Q272.556 1540.33 272.556 1531.6 Q272.556 1522.85 275.612 1518.27 Q278.69 1513.66 284.5 1513.66 Z\" fill=\"#000000\" fill-rule=\"nonzero\" fill-opacity=\"1\" /><path clip-path=\"url(#clip620)\" d=\"M676.485 1544.91 L684.124 1544.91 L684.124 1518.55 L675.814 1520.21 L675.814 1515.95 L684.078 1514.29 L688.754 1514.29 L688.754 1544.91 L696.393 1544.91 L696.393 1548.85 L676.485 1548.85 L676.485 1544.91 Z\" fill=\"#000000\" fill-rule=\"nonzero\" fill-opacity=\"1\" /><path clip-path=\"url(#clip620)\" d=\"M1082.36 1544.91 L1098.68 1544.91 L1098.68 1548.85 L1076.73 1548.85 L1076.73 1544.91 Q1079.4 1542.16 1083.98 1537.53 Q1088.59 1532.88 1089.77 1531.53 Q1092.01 1529.01 1092.89 1527.27 Q1093.79 1525.51 1093.79 1523.82 Q1093.79 1521.07 1091.85 1519.33 Q1089.93 1517.6 1086.83 1517.6 Q1084.63 1517.6 1082.17 1518.36 Q1079.74 1519.13 1076.97 1520.68 L1076.97 1515.95 Q1079.79 1514.82 1082.24 1514.24 Q1084.7 1513.66 1086.73 1513.66 Q1092.1 1513.66 1095.3 1516.35 Q1098.49 1519.03 1098.49 1523.52 Q1098.49 1525.65 1097.68 1527.57 Q1096.9 1529.47 1094.79 1532.07 Q1094.21 1532.74 1091.11 1535.95 Q1088.01 1539.15 1082.36 1544.91 Z\" fill=\"#000000\" fill-rule=\"nonzero\" fill-opacity=\"1\" /><path clip-path=\"url(#clip620)\" d=\"M1493.56 1530.21 Q1496.91 1530.93 1498.79 1533.2 Q1500.69 1535.47 1500.69 1538.8 Q1500.69 1543.92 1497.17 1546.72 Q1493.65 1549.52 1487.17 1549.52 Q1484.99 1549.52 1482.68 1549.08 Q1480.39 1548.66 1477.93 1547.81 L1477.93 1543.29 Q1479.88 1544.43 1482.19 1545.01 Q1484.51 1545.58 1487.03 1545.58 Q1491.43 1545.58 1493.72 1543.85 Q1496.03 1542.11 1496.03 1538.8 Q1496.03 1535.75 1493.88 1534.03 Q1491.75 1532.3 1487.93 1532.3 L1483.9 1532.3 L1483.9 1528.45 L1488.12 1528.45 Q1491.57 1528.45 1493.4 1527.09 Q1495.22 1525.7 1495.22 1523.11 Q1495.22 1520.45 1493.33 1519.03 Q1491.45 1517.6 1487.93 1517.6 Q1486.01 1517.6 1483.81 1518.01 Q1481.61 1518.43 1478.97 1519.31 L1478.97 1515.14 Q1481.64 1514.4 1483.95 1514.03 Q1486.29 1513.66 1488.35 1513.66 Q1493.67 1513.66 1496.77 1516.09 Q1499.88 1518.5 1499.88 1522.62 Q1499.88 1525.49 1498.23 1527.48 Q1496.59 1529.45 1493.56 1530.21 Z\" fill=\"#000000\" fill-rule=\"nonzero\" fill-opacity=\"1\" /><path clip-path=\"url(#clip620)\" d=\"M1893.92 1518.36 L1882.12 1536.81 L1893.92 1536.81 L1893.92 1518.36 M1892.69 1514.29 L1898.57 1514.29 L1898.57 1536.81 L1903.5 1536.81 L1903.5 1540.7 L1898.57 1540.7 L1898.57 1548.85 L1893.92 1548.85 L1893.92 1540.7 L1878.32 1540.7 L1878.32 1536.19 L1892.69 1514.29 Z\" fill=\"#000000\" fill-rule=\"nonzero\" fill-opacity=\"1\" /><path clip-path=\"url(#clip620)\" d=\"M2282.79 1514.29 L2301.15 1514.29 L2301.15 1518.22 L2287.08 1518.22 L2287.08 1526.7 Q2288.09 1526.35 2289.11 1526.19 Q2290.13 1526 2291.15 1526 Q2296.94 1526 2300.32 1529.17 Q2303.7 1532.34 2303.7 1537.76 Q2303.7 1543.34 2300.22 1546.44 Q2296.75 1549.52 2290.43 1549.52 Q2288.26 1549.52 2285.99 1549.15 Q2283.74 1548.78 2281.33 1548.04 L2281.33 1543.34 Q2283.42 1544.47 2285.64 1545.03 Q2287.86 1545.58 2290.34 1545.58 Q2294.34 1545.58 2296.68 1543.48 Q2299.02 1541.37 2299.02 1537.76 Q2299.02 1534.15 2296.68 1532.04 Q2294.34 1529.94 2290.34 1529.94 Q2288.46 1529.94 2286.59 1530.35 Q2284.74 1530.77 2282.79 1531.65 L2282.79 1514.29 Z\" fill=\"#000000\" fill-rule=\"nonzero\" fill-opacity=\"1\" /><polyline clip-path=\"url(#clip620)\" style=\"stroke:#000000; stroke-linecap:round; stroke-linejoin:round; stroke-width:4; stroke-opacity:1; fill:none\" points=\"224.26,1486.45 224.26,47.2441 \"/>\n",
       "<polyline clip-path=\"url(#clip620)\" style=\"stroke:#000000; stroke-linecap:round; stroke-linejoin:round; stroke-width:4; stroke-opacity:1; fill:none\" points=\"224.26,1314.13 243.158,1314.13 \"/>\n",
       "<polyline clip-path=\"url(#clip620)\" style=\"stroke:#000000; stroke-linecap:round; stroke-linejoin:round; stroke-width:4; stroke-opacity:1; fill:none\" points=\"224.26,1050.39 243.158,1050.39 \"/>\n",
       "<polyline clip-path=\"url(#clip620)\" style=\"stroke:#000000; stroke-linecap:round; stroke-linejoin:round; stroke-width:4; stroke-opacity:1; fill:none\" points=\"224.26,786.653 243.158,786.653 \"/>\n",
       "<polyline clip-path=\"url(#clip620)\" style=\"stroke:#000000; stroke-linecap:round; stroke-linejoin:round; stroke-width:4; stroke-opacity:1; fill:none\" points=\"224.26,522.912 243.158,522.912 \"/>\n",
       "<polyline clip-path=\"url(#clip620)\" style=\"stroke:#000000; stroke-linecap:round; stroke-linejoin:round; stroke-width:4; stroke-opacity:1; fill:none\" points=\"224.26,259.171 243.158,259.171 \"/>\n",
       "<path clip-path=\"url(#clip620)\" d=\"M51.3393 1314.59 L81.0151 1314.59 L81.0151 1318.52 L51.3393 1318.52 L51.3393 1314.59 Z\" fill=\"#000000\" fill-rule=\"nonzero\" fill-opacity=\"1\" /><path clip-path=\"url(#clip620)\" d=\"M101.108 1299.93 Q97.4965 1299.93 95.6678 1303.5 Q93.8623 1307.04 93.8623 1314.17 Q93.8623 1321.28 95.6678 1324.84 Q97.4965 1328.38 101.108 1328.38 Q104.742 1328.38 106.547 1324.84 Q108.376 1321.28 108.376 1314.17 Q108.376 1307.04 106.547 1303.5 Q104.742 1299.93 101.108 1299.93 M101.108 1296.23 Q106.918 1296.23 109.973 1300.84 Q113.052 1305.42 113.052 1314.17 Q113.052 1322.9 109.973 1327.5 Q106.918 1332.09 101.108 1332.09 Q95.2974 1332.09 92.2188 1327.5 Q89.1632 1322.9 89.1632 1314.17 Q89.1632 1305.42 92.2188 1300.84 Q95.2974 1296.23 101.108 1296.23 Z\" fill=\"#000000\" fill-rule=\"nonzero\" fill-opacity=\"1\" /><path clip-path=\"url(#clip620)\" d=\"M121.27 1325.53 L126.154 1325.53 L126.154 1331.41 L121.27 1331.41 L121.27 1325.53 Z\" fill=\"#000000\" fill-rule=\"nonzero\" fill-opacity=\"1\" /><path clip-path=\"url(#clip620)\" d=\"M146.339 1299.93 Q142.728 1299.93 140.899 1303.5 Q139.094 1307.04 139.094 1314.17 Q139.094 1321.28 140.899 1324.84 Q142.728 1328.38 146.339 1328.38 Q149.973 1328.38 151.779 1324.84 Q153.607 1321.28 153.607 1314.17 Q153.607 1307.04 151.779 1303.5 Q149.973 1299.93 146.339 1299.93 M146.339 1296.23 Q152.149 1296.23 155.205 1300.84 Q158.283 1305.42 158.283 1314.17 Q158.283 1322.9 155.205 1327.5 Q152.149 1332.09 146.339 1332.09 Q140.529 1332.09 137.45 1327.5 Q134.394 1322.9 134.394 1314.17 Q134.394 1305.42 137.45 1300.84 Q140.529 1296.23 146.339 1296.23 Z\" fill=\"#000000\" fill-rule=\"nonzero\" fill-opacity=\"1\" /><path clip-path=\"url(#clip620)\" d=\"M166.64 1330.7 L166.64 1326.44 Q168.399 1327.27 170.204 1327.71 Q172.01 1328.15 173.746 1328.15 Q178.376 1328.15 180.806 1325.05 Q183.26 1321.92 183.607 1315.58 Q182.265 1317.57 180.204 1318.64 Q178.144 1319.7 175.644 1319.7 Q170.459 1319.7 167.427 1316.58 Q164.417 1313.43 164.417 1307.99 Q164.417 1302.66 167.566 1299.45 Q170.714 1296.23 175.945 1296.23 Q181.94 1296.23 185.089 1300.84 Q188.26 1305.42 188.26 1314.17 Q188.26 1322.34 184.371 1327.22 Q180.505 1332.09 173.954 1332.09 Q172.195 1332.09 170.39 1331.74 Q168.584 1331.39 166.64 1330.7 M175.945 1316.04 Q179.093 1316.04 180.922 1313.89 Q182.774 1311.74 182.774 1307.99 Q182.774 1304.26 180.922 1302.11 Q179.093 1299.93 175.945 1299.93 Q172.797 1299.93 170.945 1302.11 Q169.116 1304.26 169.116 1307.99 Q169.116 1311.74 170.945 1313.89 Q172.797 1316.04 175.945 1316.04 Z\" fill=\"#000000\" fill-rule=\"nonzero\" fill-opacity=\"1\" /><path clip-path=\"url(#clip620)\" d=\"M50.9921 1050.85 L80.6679 1050.85 L80.6679 1054.78 L50.9921 1054.78 L50.9921 1050.85 Z\" fill=\"#000000\" fill-rule=\"nonzero\" fill-opacity=\"1\" /><path clip-path=\"url(#clip620)\" d=\"M100.76 1036.19 Q97.1493 1036.19 95.3206 1039.76 Q93.515 1043.3 93.515 1050.43 Q93.515 1057.53 95.3206 1061.1 Q97.1493 1064.64 100.76 1064.64 Q104.395 1064.64 106.2 1061.1 Q108.029 1057.53 108.029 1050.43 Q108.029 1043.3 106.2 1039.76 Q104.395 1036.19 100.76 1036.19 M100.76 1032.49 Q106.571 1032.49 109.626 1037.1 Q112.705 1041.68 112.705 1050.43 Q112.705 1059.16 109.626 1063.76 Q106.571 1068.34 100.76 1068.34 Q94.9502 1068.34 91.8715 1063.76 Q88.816 1059.16 88.816 1050.43 Q88.816 1041.68 91.8715 1037.1 Q94.9502 1032.49 100.76 1032.49 Z\" fill=\"#000000\" fill-rule=\"nonzero\" fill-opacity=\"1\" /><path clip-path=\"url(#clip620)\" d=\"M120.922 1061.79 L125.807 1061.79 L125.807 1067.67 L120.922 1067.67 L120.922 1061.79 Z\" fill=\"#000000\" fill-rule=\"nonzero\" fill-opacity=\"1\" /><path clip-path=\"url(#clip620)\" d=\"M145.992 1036.19 Q142.381 1036.19 140.552 1039.76 Q138.746 1043.3 138.746 1050.43 Q138.746 1057.53 140.552 1061.1 Q142.381 1064.64 145.992 1064.64 Q149.626 1064.64 151.431 1061.1 Q153.26 1057.53 153.26 1050.43 Q153.26 1043.3 151.431 1039.76 Q149.626 1036.19 145.992 1036.19 M145.992 1032.49 Q151.802 1032.49 154.857 1037.1 Q157.936 1041.68 157.936 1050.43 Q157.936 1059.16 154.857 1063.76 Q151.802 1068.34 145.992 1068.34 Q140.181 1068.34 137.103 1063.76 Q134.047 1059.16 134.047 1050.43 Q134.047 1041.68 137.103 1037.1 Q140.181 1032.49 145.992 1032.49 Z\" fill=\"#000000\" fill-rule=\"nonzero\" fill-opacity=\"1\" /><path clip-path=\"url(#clip620)\" d=\"M176.732 1048.53 Q173.584 1048.53 171.732 1050.68 Q169.904 1052.84 169.904 1056.59 Q169.904 1060.31 171.732 1062.49 Q173.584 1064.64 176.732 1064.64 Q179.88 1064.64 181.709 1062.49 Q183.561 1060.31 183.561 1056.59 Q183.561 1052.84 181.709 1050.68 Q179.88 1048.53 176.732 1048.53 M186.015 1033.88 L186.015 1038.14 Q184.255 1037.3 182.45 1036.86 Q180.667 1036.42 178.908 1036.42 Q174.279 1036.42 171.825 1039.55 Q169.394 1042.67 169.047 1048.99 Q170.413 1046.98 172.473 1045.91 Q174.533 1044.83 177.01 1044.83 Q182.218 1044.83 185.228 1048 Q188.26 1051.15 188.26 1056.59 Q188.26 1061.91 185.112 1065.13 Q181.964 1068.34 176.732 1068.34 Q170.737 1068.34 167.566 1063.76 Q164.394 1059.16 164.394 1050.43 Q164.394 1042.23 168.283 1037.37 Q172.172 1032.49 178.723 1032.49 Q180.482 1032.49 182.265 1032.84 Q184.07 1033.18 186.015 1033.88 Z\" fill=\"#000000\" fill-rule=\"nonzero\" fill-opacity=\"1\" /><path clip-path=\"url(#clip620)\" d=\"M51.8023 787.104 L81.4781 787.104 L81.4781 791.039 L51.8023 791.039 L51.8023 787.104 Z\" fill=\"#000000\" fill-rule=\"nonzero\" fill-opacity=\"1\" /><path clip-path=\"url(#clip620)\" d=\"M101.571 772.452 Q97.9595 772.452 96.1308 776.016 Q94.3252 779.558 94.3252 786.688 Q94.3252 793.794 96.1308 797.359 Q97.9595 800.9 101.571 800.9 Q105.205 800.9 107.01 797.359 Q108.839 793.794 108.839 786.688 Q108.839 779.558 107.01 776.016 Q105.205 772.452 101.571 772.452 M101.571 768.748 Q107.381 768.748 110.436 773.354 Q113.515 777.938 113.515 786.688 Q113.515 795.414 110.436 800.021 Q107.381 804.604 101.571 804.604 Q95.7604 804.604 92.6817 800.021 Q89.6262 795.414 89.6262 786.688 Q89.6262 777.938 92.6817 773.354 Q95.7604 768.748 101.571 768.748 Z\" fill=\"#000000\" fill-rule=\"nonzero\" fill-opacity=\"1\" /><path clip-path=\"url(#clip620)\" d=\"M121.732 798.053 L126.617 798.053 L126.617 803.933 L121.732 803.933 L121.732 798.053 Z\" fill=\"#000000\" fill-rule=\"nonzero\" fill-opacity=\"1\" /><path clip-path=\"url(#clip620)\" d=\"M146.802 772.452 Q143.191 772.452 141.362 776.016 Q139.556 779.558 139.556 786.688 Q139.556 793.794 141.362 797.359 Q143.191 800.9 146.802 800.9 Q150.436 800.9 152.242 797.359 Q154.07 793.794 154.07 786.688 Q154.07 779.558 152.242 776.016 Q150.436 772.452 146.802 772.452 M146.802 768.748 Q152.612 768.748 155.667 773.354 Q158.746 777.938 158.746 786.688 Q158.746 795.414 155.667 800.021 Q152.612 804.604 146.802 804.604 Q140.992 804.604 137.913 800.021 Q134.857 795.414 134.857 786.688 Q134.857 777.938 137.913 773.354 Q140.992 768.748 146.802 768.748 Z\" fill=\"#000000\" fill-rule=\"nonzero\" fill-opacity=\"1\" /><path clip-path=\"url(#clip620)\" d=\"M181.13 785.299 Q184.487 786.016 186.362 788.285 Q188.26 790.553 188.26 793.887 Q188.26 799.002 184.741 801.803 Q181.223 804.604 174.741 804.604 Q172.566 804.604 170.251 804.164 Q167.959 803.748 165.505 802.891 L165.505 798.377 Q167.45 799.512 169.765 800.09 Q172.079 800.669 174.603 800.669 Q179.001 800.669 181.292 798.933 Q183.607 797.197 183.607 793.887 Q183.607 790.831 181.454 789.118 Q179.325 787.382 175.505 787.382 L171.478 787.382 L171.478 783.539 L175.691 783.539 Q179.14 783.539 180.968 782.174 Q182.797 780.785 182.797 778.192 Q182.797 775.53 180.899 774.118 Q179.024 772.683 175.505 772.683 Q173.584 772.683 171.385 773.1 Q169.186 773.516 166.547 774.396 L166.547 770.229 Q169.209 769.489 171.524 769.118 Q173.862 768.748 175.922 768.748 Q181.246 768.748 184.348 771.178 Q187.45 773.586 187.45 777.706 Q187.45 780.576 185.806 782.567 Q184.163 784.535 181.13 785.299 Z\" fill=\"#000000\" fill-rule=\"nonzero\" fill-opacity=\"1\" /><path clip-path=\"url(#clip620)\" d=\"M100.922 508.711 Q97.3113 508.711 95.4826 512.275 Q93.6771 515.817 93.6771 522.947 Q93.6771 530.053 95.4826 533.618 Q97.3113 537.16 100.922 537.16 Q104.557 537.16 106.362 533.618 Q108.191 530.053 108.191 522.947 Q108.191 515.817 106.362 512.275 Q104.557 508.711 100.922 508.711 M100.922 505.007 Q106.733 505.007 109.788 509.613 Q112.867 514.197 112.867 522.947 Q112.867 531.673 109.788 536.28 Q106.733 540.863 100.922 540.863 Q95.1123 540.863 92.0336 536.28 Q88.978 531.673 88.978 522.947 Q88.978 514.197 92.0336 509.613 Q95.1123 505.007 100.922 505.007 Z\" fill=\"#000000\" fill-rule=\"nonzero\" fill-opacity=\"1\" /><path clip-path=\"url(#clip620)\" d=\"M121.084 534.312 L125.969 534.312 L125.969 540.192 L121.084 540.192 L121.084 534.312 Z\" fill=\"#000000\" fill-rule=\"nonzero\" fill-opacity=\"1\" /><path clip-path=\"url(#clip620)\" d=\"M146.154 508.711 Q142.543 508.711 140.714 512.275 Q138.908 515.817 138.908 522.947 Q138.908 530.053 140.714 533.618 Q142.543 537.16 146.154 537.16 Q149.788 537.16 151.593 533.618 Q153.422 530.053 153.422 522.947 Q153.422 515.817 151.593 512.275 Q149.788 508.711 146.154 508.711 M146.154 505.007 Q151.964 505.007 155.019 509.613 Q158.098 514.197 158.098 522.947 Q158.098 531.673 155.019 536.28 Q151.964 540.863 146.154 540.863 Q140.343 540.863 137.265 536.28 Q134.209 531.673 134.209 522.947 Q134.209 514.197 137.265 509.613 Q140.343 505.007 146.154 505.007 Z\" fill=\"#000000\" fill-rule=\"nonzero\" fill-opacity=\"1\" /><path clip-path=\"url(#clip620)\" d=\"M176.316 508.711 Q172.704 508.711 170.876 512.275 Q169.07 515.817 169.07 522.947 Q169.07 530.053 170.876 533.618 Q172.704 537.16 176.316 537.16 Q179.95 537.16 181.755 533.618 Q183.584 530.053 183.584 522.947 Q183.584 515.817 181.755 512.275 Q179.95 508.711 176.316 508.711 M176.316 505.007 Q182.126 505.007 185.181 509.613 Q188.26 514.197 188.26 522.947 Q188.26 531.673 185.181 536.28 Q182.126 540.863 176.316 540.863 Q170.505 540.863 167.427 536.28 Q164.371 531.673 164.371 522.947 Q164.371 514.197 167.427 509.613 Q170.505 505.007 176.316 505.007 Z\" fill=\"#000000\" fill-rule=\"nonzero\" fill-opacity=\"1\" /><path clip-path=\"url(#clip620)\" d=\"M101.571 244.97 Q97.9595 244.97 96.1308 248.535 Q94.3252 252.076 94.3252 259.206 Q94.3252 266.312 96.1308 269.877 Q97.9595 273.419 101.571 273.419 Q105.205 273.419 107.01 269.877 Q108.839 266.312 108.839 259.206 Q108.839 252.076 107.01 248.535 Q105.205 244.97 101.571 244.97 M101.571 241.266 Q107.381 241.266 110.436 245.873 Q113.515 250.456 113.515 259.206 Q113.515 267.933 110.436 272.539 Q107.381 277.122 101.571 277.122 Q95.7604 277.122 92.6817 272.539 Q89.6262 267.933 89.6262 259.206 Q89.6262 250.456 92.6817 245.873 Q95.7604 241.266 101.571 241.266 Z\" fill=\"#000000\" fill-rule=\"nonzero\" fill-opacity=\"1\" /><path clip-path=\"url(#clip620)\" d=\"M121.732 270.572 L126.617 270.572 L126.617 276.451 L121.732 276.451 L121.732 270.572 Z\" fill=\"#000000\" fill-rule=\"nonzero\" fill-opacity=\"1\" /><path clip-path=\"url(#clip620)\" d=\"M146.802 244.97 Q143.191 244.97 141.362 248.535 Q139.556 252.076 139.556 259.206 Q139.556 266.312 141.362 269.877 Q143.191 273.419 146.802 273.419 Q150.436 273.419 152.242 269.877 Q154.07 266.312 154.07 259.206 Q154.07 252.076 152.242 248.535 Q150.436 244.97 146.802 244.97 M146.802 241.266 Q152.612 241.266 155.667 245.873 Q158.746 250.456 158.746 259.206 Q158.746 267.933 155.667 272.539 Q152.612 277.122 146.802 277.122 Q140.992 277.122 137.913 272.539 Q134.857 267.933 134.857 259.206 Q134.857 250.456 137.913 245.873 Q140.992 241.266 146.802 241.266 Z\" fill=\"#000000\" fill-rule=\"nonzero\" fill-opacity=\"1\" /><path clip-path=\"url(#clip620)\" d=\"M181.13 257.817 Q184.487 258.535 186.362 260.803 Q188.26 263.072 188.26 266.405 Q188.26 271.521 184.741 274.321 Q181.223 277.122 174.741 277.122 Q172.566 277.122 170.251 276.683 Q167.959 276.266 165.505 275.409 L165.505 270.896 Q167.45 272.03 169.765 272.609 Q172.079 273.187 174.603 273.187 Q179.001 273.187 181.292 271.451 Q183.607 269.715 183.607 266.405 Q183.607 263.349 181.454 261.636 Q179.325 259.9 175.505 259.9 L171.478 259.9 L171.478 256.058 L175.691 256.058 Q179.14 256.058 180.968 254.692 Q182.797 253.303 182.797 250.71 Q182.797 248.048 180.899 246.636 Q179.024 245.201 175.505 245.201 Q173.584 245.201 171.385 245.618 Q169.186 246.035 166.547 246.914 L166.547 242.748 Q169.209 242.007 171.524 241.636 Q173.862 241.266 175.922 241.266 Q181.246 241.266 184.348 243.697 Q187.45 246.104 187.45 250.224 Q187.45 253.095 185.806 255.085 Q184.163 257.053 181.13 257.817 Z\" fill=\"#000000\" fill-rule=\"nonzero\" fill-opacity=\"1\" /><polyline clip-path=\"url(#clip622)\" style=\"stroke:#009af9; stroke-linecap:round; stroke-linejoin:round; stroke-width:4; stroke-opacity:1; fill:none\" points=\"284.5,522.912 304.581,599.673 324.661,782.819 344.741,1005.09 364.821,1211.12 384.901,1362.93 404.981,1441.65 425.061,1445.72 445.142,1386.77 465.222,1284.32 485.302,1160.39 505.382,1035.16 525.462,924.003 545.542,836.276 565.622,775.223 585.703,739.384 605.783,724.008 625.863,722.618 645.943,728.745 666.023,736.827 686.103,742.812 706.184,744.315 726.264,740.448 746.344,731.519 766.424,718.402 786.504,702.182 806.584,683.952 826.664,664.594 846.745,644.977 866.825,625.508 886.905,606.291 906.985,587.365 927.065,568.725 947.145,550.404 967.225,532.496 987.306,515.094 1007.39,498.307 1027.47,482.242 1047.55,466.941 1067.63,452.357 1087.71,438.402 1107.79,425.016 1127.87,412.123 1147.95,399.685 1168.03,387.674 1188.11,376.039 1208.19,364.768 1228.27,353.798 1248.35,343.103 1268.43,332.678 1288.51,322.505 1308.59,312.601 1328.67,303.03 1348.75,293.786 1368.83,284.851 1388.91,276.22 1408.99,267.879 1429.07,259.809 1449.15,251.993 1469.23,244.431 1489.31,237.127 1509.39,230.076 1529.47,223.274 1549.55,216.719 1569.63,210.41 1589.71,204.34 1609.79,198.538 1629.87,193.044 1649.95,187.83 1670.03,182.825 1690.11,177.998 1710.19,173.355 1730.27,168.934 1750.35,164.701 1770.43,160.612 1790.51,156.615 1810.59,152.691 1830.67,148.843 1850.75,145.081 1870.83,141.414 1890.91,137.842 1910.99,134.355 1931.07,130.948 1951.15,127.627 1971.23,124.405 1991.31,121.298 2011.39,118.324 2031.47,115.495 2051.55,112.803 2071.63,110.226 2091.71,107.794 2111.79,105.502 2131.87,103.319 2151.95,101.219 2172.03,99.1838 2192.11,97.2042 2212.19,95.2721 2232.28,93.3823 2252.36,91.5346 2272.44,89.7315 2292.52,87.9763 \"/>\n",
       "<path clip-path=\"url(#clip620)\" d=\"M295.21 198.898 L560.49 198.898 L560.49 95.2176 L295.21 95.2176  Z\" fill=\"#ffffff\" fill-rule=\"evenodd\" fill-opacity=\"1\"/>\n",
       "<polyline clip-path=\"url(#clip620)\" style=\"stroke:#000000; stroke-linecap:round; stroke-linejoin:round; stroke-width:4; stroke-opacity:1; fill:none\" points=\"295.21,198.898 560.49,198.898 560.49,95.2176 295.21,95.2176 295.21,198.898 \"/>\n",
       "<polyline clip-path=\"url(#clip620)\" style=\"stroke:#009af9; stroke-linecap:round; stroke-linejoin:round; stroke-width:4; stroke-opacity:1; fill:none\" points=\"318.86,147.058 460.759,147.058 \"/>\n",
       "<path clip-path=\"url(#clip620)\" d=\"M498.252 166.745 Q496.446 171.375 494.733 172.787 Q493.02 174.199 490.15 174.199 L486.747 174.199 L486.747 170.634 L489.247 170.634 Q491.007 170.634 491.979 169.8 Q492.951 168.967 494.132 165.865 L494.895 163.921 L484.409 138.412 L488.923 138.412 L497.025 158.689 L505.127 138.412 L509.641 138.412 L498.252 166.745 Z\" fill=\"#000000\" fill-rule=\"nonzero\" fill-opacity=\"1\" /><path clip-path=\"url(#clip620)\" d=\"M516.932 160.402 L524.571 160.402 L524.571 134.037 L516.261 135.703 L516.261 131.444 L524.525 129.778 L529.201 129.778 L529.201 160.402 L536.84 160.402 L536.84 164.338 L516.932 164.338 L516.932 160.402 Z\" fill=\"#000000\" fill-rule=\"nonzero\" fill-opacity=\"1\" /></svg>\n"
      ]
     },
     "execution_count": 82,
     "metadata": {},
     "output_type": "execute_result"
    }
   ],
   "source": [
    "plot(times_array, JE_t)"
   ]
  },
  {
   "cell_type": "code",
   "execution_count": null,
   "id": "aa689c28-7e22-4b8f-a3f9-72ff3042e060",
   "metadata": {},
   "outputs": [],
   "source": []
  },
  {
   "cell_type": "code",
   "execution_count": 80,
   "id": "4378623b-aa7e-44ba-a204-0920aa714cbe",
   "metadata": {},
   "outputs": [],
   "source": [
    "#approximately 4.7 seconds per step in the TEBD. => "
   ]
  },
  {
   "cell_type": "code",
   "execution_count": 81,
   "id": "329a3822-9514-4d49-812f-d5fc8397facf",
   "metadata": {},
   "outputs": [
    {
     "name": "stdout",
     "output_type": "stream",
     "text": [
      "Effective GPU memory usage: 12.64% (4.012 GiB/31.739 GiB)\n",
      "Memory pool usage: 540.228 MiB (3.625 GiB reserved)\n"
     ]
    }
   ],
   "source": [
    "CUDA.memory_status()#We are not using almost memory, maybe I can run this locally. Let's play a little bit more"
   ]
  },
  {
   "cell_type": "code",
   "execution_count": null,
   "id": "ddb7bc76-461b-4b9f-9bea-a8d1bf2e7e2f",
   "metadata": {},
   "outputs": [],
   "source": []
  },
  {
   "cell_type": "markdown",
   "id": "42251a6e-ab31-4ce9-8724-9a21143a863a",
   "metadata": {},
   "source": [
    "**runtime test:**"
   ]
  },
  {
   "cell_type": "code",
   "execution_count": 57,
   "id": "305046ba-5718-4eb5-ba5d-99bde955a17b",
   "metadata": {},
   "outputs": [],
   "source": [
    "initial_state = gpu(randomMPS(sites, maxdim));"
   ]
  },
  {
   "cell_type": "code",
   "execution_count": 59,
   "id": "796c0e85-f04c-4585-a120-4bda0ca2ecf2",
   "metadata": {},
   "outputs": [
    {
     "name": "stdout",
     "output_type": "stream",
     "text": [
      "10.0 % Completed.\n",
      "20.0 % Completed.\n",
      "30.0 % Completed.\n",
      "40.0 % Completed.\n",
      "50.0 % Completed.\n",
      "60.0 % Completed.\n",
      "70.0 % Completed.\n",
      "80.0 % Completed.\n",
      "90.0 % Completed.\n",
      "100.0 % Completed.\n",
      " 46.314371 seconds (14.11 M allocations: 2.025 GiB, 0.83% gc time)\n"
     ]
    }
   ],
   "source": [
    "NumSteps = 10\n",
    "@time NESS, Occupation_Matrix_t = Apply_TEBD(initial_state, I_vec, Swap_Gates, TEBD_Gates, NumSteps, maxdim); #maxdim = 40 by default"
   ]
  },
  {
   "cell_type": "code",
   "execution_count": 63,
   "id": "05d96c52-6c20-46bd-aedf-86380f554f86",
   "metadata": {},
   "outputs": [
    {
     "name": "stdout",
     "output_type": "stream",
     "text": [
      "10.0 % Completed.\n",
      "20.0 % Completed.\n",
      "30.0 % Completed.\n",
      "40.0 % Completed.\n",
      "50.0 % Completed.\n",
      "60.0 % Completed.\n",
      "70.0 % Completed.\n",
      "80.0 % Completed.\n",
      "90.0 % Completed.\n",
      "100.0 % Completed.\n",
      " 47.454436 seconds (16.31 M allocations: 2.449 GiB, 0.94% gc time)\n"
     ]
    }
   ],
   "source": [
    "NumSteps = 10\n",
    "@time NESS, Occupation_Matrix_t, JE_t, times_array = Apply_TEBD_MODIFIED(initial_state, I_vec, Swap_Gates, TEBD_Gates, NumSteps, maxdim); #maxdim = 40 by default"
   ]
  }
 ],
 "metadata": {
  "kernelspec": {
   "display_name": "Julia 1.10.3",
   "language": "julia",
   "name": "julia-1.10"
  },
  "language_info": {
   "file_extension": ".jl",
   "mimetype": "application/julia",
   "name": "julia",
   "version": "1.10.3"
  }
 },
 "nbformat": 4,
 "nbformat_minor": 5
}

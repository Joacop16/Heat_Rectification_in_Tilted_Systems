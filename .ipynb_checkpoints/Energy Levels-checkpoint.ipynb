{
 "cells": [
  {
   "cell_type": "code",
   "execution_count": 1,
   "id": "a7b35f82-e1c1-4fd7-abcb-064487f4ad3e",
   "metadata": {},
   "outputs": [],
   "source": [
    "using LinearAlgebra\n",
    "using Statistics\n",
    "using Plots\n",
    "using LaTeXStrings"
   ]
  },
  {
   "cell_type": "code",
   "execution_count": 35,
   "id": "7c5256d4-0fd7-4552-825e-4f72abd7daf5",
   "metadata": {},
   "outputs": [
    {
     "data": {
      "text/plain": [
       "fermi_dirac_distribution (generic function with 2 methods)"
      ]
     },
     "execution_count": 35,
     "metadata": {},
     "output_type": "execute_result"
    }
   ],
   "source": [
    "include(\"ED_functions_spinless_fermions.jl\")"
   ]
  },
  {
   "cell_type": "markdown",
   "id": "5dee5f3b-10a4-44f1-9f25-a279e06dc581",
   "metadata": {},
   "source": [
    "The purpose of this file is to study if we should change the interaction of the mesoscopic method or not.\n",
    "\n",
    "In the Giant Rectification article we have:\n",
    "\n",
    "$$\\Delta \\sum_{j=1}^{N-1}\\left( \\hat{n}_{j} - \\frac{1}{2}\\right) \\left( \\hat{n}_{j+1} - \\frac{1}{2}\\right) = \\sum_{j=1}^{N-1} \\Delta \\hat{n}_{j}\\hat{n}_{j+1} - \\sum_{j=2}^{N-1} \\Delta \\hat{n}_{j} -\\frac{\\Delta}{2} (\\hat{n}_{1} + \\hat{n}_{N}) + \\frac{\\Delta}{4} (N-1)$$"
   ]
  },
  {
   "cell_type": "code",
   "execution_count": 36,
   "id": "18ad8d8d-e76f-4e95-8138-11506657648f",
   "metadata": {},
   "outputs": [],
   "source": [
    "function Build_H_Giant_Rectification(N, Δ, μ, E, J = 1.0)\n",
    "    #J: Hopping amplitude.\n",
    "    #Δ: Nearest-neighbor density-density interaction.\n",
    "    #μ: Chemical potential of the diode.\n",
    "    #E: Tilt strength.\n",
    "\n",
    "    H = zeros(2^N, 2^N)\n",
    "    \n",
    "    for i=1:N-1 #H_S\n",
    "        H += 0.5*J*Build_C_dagi_Cj_Matrix(N, i, i+1)\n",
    "        H += 0.5*J*Build_C_dagi_Cj_Matrix(N, i+1, i)\n",
    "        H += Δ*(Build_C_dagi_Cj_Matrix(N, i, i)-0.5*Enlarge_Matrix_site_j(N, 1, Identity))*(Build_C_dagi_Cj_Matrix(N, i+1, i+1)-0.5*Enlarge_Matrix_site_j(N, 1, Identity)) #Interaction 1 (original from paper)\n",
    "    end\n",
    "\n",
    "    for i=1:N\n",
    "        H += (μ + 0.5*E*i)*(Build_C_dagi_Cj_Matrix(N, i, i)-0.5*Enlarge_Matrix_site_j(N, 1, Identity))\n",
    "    end\n",
    "        \n",
    "    return H\n",
    "end\n",
    "\n",
    "function Build_H_wMesoscopicInteraction(N, Δ, μ, E, J = 1.0)\n",
    "    #J: Hopping amplitude.\n",
    "    #Δ: Nearest-neighbor density-density interaction.\n",
    "    #μ: Chemical potential of the diode.\n",
    "    #E: Tilt strength.\n",
    "\n",
    "    H = zeros(2^N, 2^N)\n",
    "    \n",
    "    for i=1:N-1 #H_S\n",
    "        H += 0.5*J*Build_C_dagi_Cj_Matrix(N, i, i+1)\n",
    "        H += 0.5*J*Build_C_dagi_Cj_Matrix(N, i+1, i)\n",
    "        H += Δ*Build_C_dagi_Cj_Matrix(N, i, i)*Build_C_dagi_Cj_Matrix(N, i+1, i+1) #Interaction 2 (the one used in the mesoscopic method)\n",
    "    end\n",
    "\n",
    "    for i=1:N\n",
    "        H += (μ + 0.5*E*i)*(Build_C_dagi_Cj_Matrix(N, i, i)-0.5*Enlarge_Matrix_site_j(N, 1, Identity))\n",
    "    end\n",
    "        \n",
    "    return H\n",
    "end\n",
    "\n",
    "zero = [1; 0]\n",
    "one = [0; 1];"
   ]
  },
  {
   "cell_type": "code",
   "execution_count": 37,
   "id": "040aa808-4457-4c2a-974a-e7c7de1312e0",
   "metadata": {},
   "outputs": [],
   "source": [
    "N = 4\n",
    "Δ = 5\n",
    "\n",
    "ψ_s1 = kron(one, zero, zero, zero)\n",
    "ψ_s2 = kron(zero, one, zero, zero)\n",
    "ψ_s3 = kron(zero, zero, one, zero)\n",
    "ψ_s4 = kron(zero, zero, zero, one)\n",
    "\n",
    "E_values = LinRange(0, 12, 200)\n",
    "\n",
    "Energy_levels_H0 = Dict()\n",
    "Energy_levels_H1 = Dict()\n",
    "Energy_levels_H2 = Dict()\n",
    "\n",
    "for E = E_values\n",
    "    μ = -E*(N+1)/4\n",
    "    H0 = Build_H_Giant_Rectification(N, 0.0, μ, E);\n",
    "    H1 = Build_H_Giant_Rectification(N, Δ, μ, E);\n",
    "    H2 = Build_H_wMesoscopicInteraction(N, Δ, μ, E);\n",
    "    \n",
    "    Energy_levels_H0[E] = real([adjoint(ψ)*H0*ψ for ψ=[ψ_s1, ψ_s2, ψ_s3, ψ_s4]])\n",
    "    Energy_levels_H1[E] = real([adjoint(ψ)*H1*ψ for ψ=[ψ_s1, ψ_s2, ψ_s3, ψ_s4]])\n",
    "    Energy_levels_H2[E] = real([adjoint(ψ)*H2*ψ for ψ=[ψ_s1, ψ_s2, ψ_s3, ψ_s4]])   \n",
    "end"
   ]
  },
  {
   "cell_type": "code",
   "execution_count": 59,
   "id": "e39ea599-d397-4623-aa6a-9cc691d3d584",
   "metadata": {
    "scrolled": true
   },
   "outputs": [],
   "source": [
    "for E = E_values\n",
    "    μ = -E*(N+1)/4\n",
    "    E_value = round(E; digits = 3)\n",
    "    scatter(1:1:N, real(Energy_levels_H0[E]), label = L\"H_{int} = 0\", m = :hexagon, alpha = 0.6, markersize = 8)\n",
    "    scatter!(1:1:N, Energy_levels_H1[E], label = L\"H_{int} = \\Delta (n_{j} -0.5)(n_{j+1} -0.5)\", m = :diamond, alpha = 0.6, markersize = 8)\n",
    "    scatter!(1:1:N, Energy_levels_H2[E], label = L\"H_{int} = \\Delta n_{j}n_{j+1}\", m = :star5, alpha = 0.8, markersize = 6)\n",
    "    \n",
    "    plot!(xlabel = \"site j\", ylabel = L\"\\langle j | H | j \\rangle\", title  = \"E = $E_value\", legend=:outertopleft, size = (1000, 500), margin=5Plots.mm)\n",
    "    hline!([0.5, -0.5], color = \"black\", linestyle = :dash, label = false)\n",
    "\n",
    "    savefig(\"Results E = $E_value.pdf\")\n",
    "    # sleep(1)    \n",
    "end"
   ]
  },
  {
   "cell_type": "markdown",
   "id": "7743c2d5-3e03-4d36-afc6-b04e9efd8388",
   "metadata": {},
   "source": [
    "Now let's plot the energy levels that I have been using until now for the mesoscopic approach."
   ]
  },
  {
   "cell_type": "code",
   "execution_count": 19,
   "id": "6c592ee9-bb5e-4860-a03e-2f6e2a9d2834",
   "metadata": {},
   "outputs": [
    {
     "name": "stdout",
     "output_type": "stream",
     "text": [
      "This package is totally compatible with gpu. If you want to use GPU, just define GPU = true as a global variable in your code.\n"
     ]
    },
    {
     "data": {
      "text/plain": [
       "fk_arrays (generic function with 1 method)"
      ]
     },
     "execution_count": 19,
     "metadata": {},
     "output_type": "execute_result"
    }
   ],
   "source": [
    "include(\"TN_Superfermionic_Mesoscopic_Leads/Code/Interacting_functions.jl\")\n",
    "using FlexiMaps\n",
    "\n",
    "W = 8.0\n",
    "Γ = W/8\n",
    "J(ω) = abs(ω) <= abs(W) ? Γ : 0 #Spectral density Γ = W/8 in this case\n",
    "\n",
    "function Logarithmic_linear_arrays(L, J)\n",
    "    #L: lead size\n",
    "    #J: Spectral density    \n",
    "    \n",
    "    #We need to define εk for the lead. In particular, we use the logarithmic-linear discretization of the paper. As this is just for the article, it is not worthy to put it with the other functions in NonInteacting_functions.jl\n",
    "    \n",
    "    W_log = W #W\n",
    "    W_lin = W_log/2 #W* = W/2\n",
    "    \n",
    "    L_log = L*0.2\n",
    "    L_lin = L - L_log\n",
    "    \n",
    "    Lin_Window = LinRange(-W_lin, W_lin, Int(L_lin))\n",
    "    Log_Window = maprange(log, W_lin, W_log, length=Int(L_log/2 + 1))\n",
    "    \n",
    "    εk = Float64[]\n",
    "    append!(εk, -reverse( Log_Window[2:length(Log_Window)]), Lin_Window, Log_Window[2:length(Log_Window)])\n",
    "    \n",
    "    γk = [εk[k+1] - εk[k] for k=1:Int(L/2)]\n",
    "    append!(γk, reverse(γk))\n",
    "\n",
    "    κkp = ComplexF64[sqrt(J(εk[k])*γk[k]/(2.0*pi)) for k=1:L] #Kp = sqrt(J(e)*γ/(2*pi))\n",
    "\n",
    "    return εk, γk,  κkp\n",
    "end\n",
    "\n",
    "#Global variables by default\n",
    "μ_L, μ_R = 0.0, 0.0 #As we want to focus in Heat rectification, we should not have gradient of chemical potential.\n",
    "ts = (W/8)\n",
    "\n",
    "function fk_arrays(εk_array_L, εk_array_R)\n",
    "    \n",
    "    fk_array_L = [fermi_dirac_distribution(ε, μ_L, β_L) for ε = εk_array_L]\n",
    "    fk_array_R = [fermi_dirac_distribution(ε, μ_R, β_R) for ε = εk_array_R]\n",
    "    \n",
    "    return fk_array_L, fk_array_R\n",
    "end"
   ]
  },
  {
   "cell_type": "code",
   "execution_count": 30,
   "id": "15b65243-141c-4e36-8070-a2862f6cd52d",
   "metadata": {},
   "outputs": [
    {
     "data": {
      "text/plain": [
       "2.5"
      ]
     },
     "execution_count": 30,
     "metadata": {},
     "output_type": "execute_result"
    }
   ],
   "source": [
    "# β_L, β_R = 1/(1000*ts), 1/(1*ts) #Forward Bias: TL > TR\n",
    "β_L, β_R = 1/(1*ts), 1/(1000*ts) #Reverse Bias: TL < TR\n",
    "\n",
    "#Lead Parameters\n",
    "L, R = 10, 10\n",
    "εk, γk, κp = Logarithmic_linear_arrays(L, J)\n",
    "fk_L, fk_R = fk_arrays(εk, εk);\n",
    "\n",
    "#System Parameters\n",
    "D = 4\n",
    "U = 2.5*ts"
   ]
  },
  {
   "cell_type": "code",
   "execution_count": 31,
   "id": "ad7de996-b592-4b13-91e9-7cdcf081f94e",
   "metadata": {},
   "outputs": [
    {
     "name": "stdout",
     "output_type": "stream",
     "text": [
      "ε_system = [μ + (0.5 * E) * j for j = 1:D] = [0.0, 0.0, 0.0, 0.0]\n",
      "ε_system = [μ + (0.5 * E) * j for j = 1:D] = [-0.15, -0.04999999999999999, 0.050000000000000044, 0.15000000000000002]\n",
      "ε_system = [μ + (0.5 * E) * j for j = 1:D] = [-0.3, -0.09999999999999998, 0.10000000000000009, 0.30000000000000004]\n",
      "ε_system = [μ + (0.5 * E) * j for j = 1:D] = [-0.45, -0.15000000000000002, 0.1499999999999999, 0.44999999999999996]\n",
      "ε_system = [μ + (0.5 * E) * j for j = 1:D] = [-0.6, -0.19999999999999996, 0.20000000000000018, 0.6000000000000001]\n",
      "ε_system = [μ + (0.5 * E) * j for j = 1:D] = [-0.75, -0.25, 0.25, 0.75]\n",
      "ε_system = [μ + (0.5 * E) * j for j = 1:D] = [-0.9, -0.30000000000000004, 0.2999999999999998, 0.8999999999999999]\n",
      "ε_system = [μ + (0.5 * E) * j for j = 1:D] = [-1.05, -0.3500000000000001, 0.34999999999999964, 1.0499999999999998]\n",
      "ε_system = [μ + (0.5 * E) * j for j = 1:D] = [-1.2, -0.3999999999999999, 0.40000000000000036, 1.2000000000000002]\n",
      "ε_system = [μ + (0.5 * E) * j for j = 1:D] = [-1.35, -0.44999999999999996, 0.4500000000000002, 1.35]\n",
      "ε_system = [μ + (0.5 * E) * j for j = 1:D] = [-1.5, -0.5, 0.5, 1.5]\n",
      "ε_system = [μ + (0.5 * E) * j for j = 1:D] = [-1.65, -0.5499999999999998, 0.5500000000000003, 1.6500000000000004]\n",
      "ε_system = [μ + (0.5 * E) * j for j = 1:D] = [-1.8, -0.6000000000000001, 0.5999999999999996, 1.7999999999999998]\n",
      "ε_system = [μ + (0.5 * E) * j for j = 1:D] = [-1.95, -0.6499999999999999, 0.6500000000000004, 1.9500000000000002]\n",
      "ε_system = [μ + (0.5 * E) * j for j = 1:D] = [-2.1, -0.7000000000000002, 0.6999999999999993, 2.0999999999999996]\n",
      "ε_system = [μ + (0.5 * E) * j for j = 1:D] = [-2.25, -0.75, 0.75, 2.25]\n",
      "ε_system = [μ + (0.5 * E) * j for j = 1:D] = [-2.4, -0.7999999999999998, 0.8000000000000007, 2.4000000000000004]\n",
      "ε_system = [μ + (0.5 * E) * j for j = 1:D] = [-2.55, -0.8500000000000001, 0.8499999999999996, 2.55]\n",
      "ε_system = [μ + (0.5 * E) * j for j = 1:D] = [-2.7, -0.8999999999999999, 0.9000000000000004, 2.7]\n",
      "ε_system = [μ + (0.5 * E) * j for j = 1:D] = [-2.85, -0.9500000000000002, 0.9499999999999993, 2.8499999999999996]\n",
      "ε_system = [μ + (0.5 * E) * j for j = 1:D] = [-3.0, -1.0, 1.0, 3.0]\n",
      "ε_system = [μ + (0.5 * E) * j for j = 1:D] = [-3.15, -1.0499999999999998, 1.0500000000000007, 3.1500000000000004]\n",
      "ε_system = [μ + (0.5 * E) * j for j = 1:D] = [-3.3, -1.0999999999999996, 1.1000000000000005, 3.3000000000000007]\n",
      "ε_system = [μ + (0.5 * E) * j for j = 1:D] = [-3.45, -1.1500000000000004, 1.1499999999999995, 3.4499999999999993]\n",
      "ε_system = [μ + (0.5 * E) * j for j = 1:D] = [-3.6, -1.2000000000000002, 1.1999999999999993, 3.5999999999999996]\n"
     ]
    }
   ],
   "source": [
    "for E = 0:0.2:4.8\n",
    "    μ = -E*(D+1)/4\n",
    "    @show ε_system = [(μ+0.5E*j) for j =1:D]; #Tilted system energies\n",
    "\n",
    "    scatter(1:1:L, εk, label = \"L\")\n",
    "    scatter!(L+1:1:L+D, ε_system, label = \"S\")\n",
    "    scatter!(L+D+1:1:L+D+L, εk, label = \"R\")\n",
    "\n",
    "    ylabel!(L\"\\langle j | H | j \\rangle\")\n",
    "    xlabel!(\"site j\")\n",
    "    title!(\"E = $E\")\n",
    "    \n",
    "    savefig(\"Mesoscopic_levels E = $E.pdf\")\n",
    "\n",
    "end"
   ]
  },
  {
   "cell_type": "code",
   "execution_count": null,
   "id": "4ac51b6e-8064-4506-8391-c6bbde494ab3",
   "metadata": {},
   "outputs": [],
   "source": []
  },
  {
   "cell_type": "code",
   "execution_count": null,
   "id": "29b500ee-397f-4578-ab8f-fa77712b14ae",
   "metadata": {},
   "outputs": [],
   "source": []
  }
 ],
 "metadata": {
  "kernelspec": {
   "display_name": "Julia 1.10.3",
   "language": "julia",
   "name": "julia-1.10"
  },
  "language_info": {
   "file_extension": ".jl",
   "mimetype": "application/julia",
   "name": "julia",
   "version": "1.10.3"
  }
 },
 "nbformat": 4,
 "nbformat_minor": 5
}

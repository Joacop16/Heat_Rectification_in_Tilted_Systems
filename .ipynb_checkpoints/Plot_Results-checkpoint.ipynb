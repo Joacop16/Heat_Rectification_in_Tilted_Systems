{
 "cells": [
  {
   "cell_type": "code",
   "execution_count": 1,
   "id": "87f97bee-337f-4774-b500-0da5644b1d43",
   "metadata": {
    "tags": []
   },
   "outputs": [
    {
     "name": "stdout",
     "output_type": "stream",
     "text": [
      "This package is totally compatible with gpu. If you want to use GPU, just define GPU = true as a global variable in your code.\n"
     ]
    },
    {
     "data": {
      "text/plain": [
       "Energy_Current_HS_time_dependent"
      ]
     },
     "execution_count": 1,
     "metadata": {},
     "output_type": "execute_result"
    }
   ],
   "source": [
    "using Plots\n",
    "using DelimitedFiles\n",
    "using LaTeXStrings\n",
    "\n",
    "include(\"TN_Superfermionic_Mesoscopic_Leads/Code/Interacting_functions.jl\")"
   ]
  },
  {
   "cell_type": "code",
   "execution_count": 2,
   "id": "9a971c38-f2a7-4b47-ad7c-d8a554f5775d",
   "metadata": {},
   "outputs": [
    {
     "name": "stdout",
     "output_type": "stream",
     "text": [
      "The package has been precompiled for GPU = false.\n",
      " 63.259315 seconds (154.81 M allocations: 12.818 GiB, 5.40% gc time, 97.40% compilation time: 3% of which was recompilation)\n"
     ]
    }
   ],
   "source": [
    "precompile_package(\"TN_Superfermionic_Mesoscopic_Leads\", false)"
   ]
  },
  {
   "cell_type": "code",
   "execution_count": 8,
   "id": "60bfc166-5550-4393-aee0-2b7a89df7448",
   "metadata": {},
   "outputs": [],
   "source": [
    "L = 10\n",
    "D = 4\n",
    "R_dict = Dict()\n",
    "JF_dict = Dict()\n",
    "JR_dict = Dict()\n",
    "time_dict = Dict()\n",
    "\n",
    "E_values = 0.0:0.2:4.8\n",
    "\n",
    "# Folder = \"/jet/home/penuelap/Heat_rectification_Data/\" #PSC\n",
    "Folder = \"Local_Data/U=2.5 ΔT (Thot= 100 and Tcold=1)/\" #MSI\n",
    "\n",
    "for Current = [\"JE\", \"JP\"]\n",
    "    R_values = []\n",
    "    JF_dict[Current] = Dict()\n",
    "    JR_dict[Current] = Dict()\n",
    "    \n",
    "    for E = E_values\n",
    "\n",
    "        E = Float64(E)\n",
    "        D = Int64(D)\n",
    "\n",
    "        Name = \"_E=$E\"*\"_L=$L\"*\"_D=$D\"\n",
    "\n",
    "        J_F = readdlm(Folder*\"Forward\"*Name*\"_NESS_$Current.txt\")\n",
    "        J_R = readdlm(Folder*\"Reverse\"*Name*\"_NESS_$Current.txt\")\n",
    "        time = readdlm(Folder*\"Reverse\"*Name*\"_NESS_time.txt\")\n",
    "\n",
    "        #Save rectification coefficient into a dict to save it.\n",
    "        abs(J_F[end]) > abs(J_R[end]) ? R = abs(J_F[end]/J_R[end]) : R = abs(J_R[end]/J_F[end])\n",
    "        append!(R_values, R)      \n",
    "        \n",
    "        # Generate plots\n",
    "\n",
    "        plot(time, J_R, color = \"blue\", label = \"Reverse\")\n",
    "        plot!(time, J_F, color = \"red\", label = \"Forward\")\n",
    "        hline!([0], linestyle = :dash, color = \"gray\", label = false, alpha = 0.5)\n",
    "        title!(\"E=$E\"*\", L=$L\"*\", D=$D\")\n",
    "        Current == \"JE\" ? ylabel!(\"Energy Current \"*L\"J_{E}\") : ylabel!(\"Particle Current \"*L\"J_{P}\")\n",
    "        R = round(R; digits = 5)\n",
    "        annotate!(time[end]/2, 0.0 , L\"R = \"*\"$R\")   \n",
    "        # savefig(Folder*\"Results\"*Name*\"_$Current.pdf\")      \n",
    "\n",
    "        JF_dict[Current][E] = J_F\n",
    "        JR_dict[Current][E] = J_R\n",
    "        Current == \"JE\" ? time_dict[E] = time : nothing\n",
    "    end\n",
    "    R_dict[Current] = R_values\n",
    "\n",
    "end"
   ]
  },
  {
   "cell_type": "code",
   "execution_count": 11,
   "id": "1812b12e-7f96-4c7a-a169-896745f09cee",
   "metadata": {},
   "outputs": [
    {
     "ename": "LoadError",
     "evalue": "KeyError: key 0.0 not found",
     "output_type": "error",
     "traceback": [
      "KeyError: key 0.0 not found",
      "",
      "Stacktrace:",
      " [1] getindex(h::Dict{Any, Any}, key::Float64)",
      "   @ Base .\\dict.jl:498",
      " [2] top-level scope",
      "   @ In[11]:6"
     ]
    }
   ],
   "source": [
    "#For plotting an specific plot with zoom\n",
    "\n",
    "E = \n",
    "Current = \"JE\"\n",
    "\n",
    "plot(time_dict[E], JR_dict[Current][E], color = \"blue\", label = \"Reverse\")\n",
    "plot!(time_dict[E], JF_dict[Current][E], color = \"red\", label = \"Forward\")\n",
    "hline!([0], linestyle = :dash, color = \"gray\", label = false, alpha = 0.5)\n",
    "@show J_F = JF_dict[Current][E][end] \n",
    "@show J_R = JR_dict[Current][E][end]\n",
    "\n",
    "abs(J_F) > abs(J_R) ? R = abs(J_F/J_R) : R = abs(J_R/J_F)\n",
    "R = round(R; digits = 5)\n",
    "annotate!(time_dict[E][end]/2, 0.0 , L\"R = \"*\"$R\")\n",
    "title!(\"E=$E\"*\", L=$L\"*\", D=$D\")\n",
    "Current == \"JE\" ? ylabel!(\"Energy Current \"*L\"J_{E}\") : ylabel!(\"Particle Current \"*L\"J_{P}\")\n",
    "\n",
    "#zoom?\n",
    "xlims!(40, 50)\n",
    "ylims!(-0.2, 0.2)"
   ]
  },
  {
   "cell_type": "code",
   "execution_count": 135,
   "id": "30ca997c-1f5b-46c5-be42-f0a6ae117e47",
   "metadata": {},
   "outputs": [
    {
     "data": {
      "text/plain": [
       "\"C:\\\\Users\\\\JOP204\\\\Documents\\\\GitHub\\\\Heat_Rectification_in_Tilted_Systems\\\\Local_Data\\\\U=2.5 ΔT (Thot= 1000 and Tcold=1)\\\\R Coefficient vs E.pdf\""
      ]
     },
     "execution_count": 135,
     "metadata": {},
     "output_type": "execute_result"
    }
   ],
   "source": [
    "#Rectification coefficient.\n",
    "\n",
    "scatter(E_values, R_dict[\"JE\"], xlabel = \"E\", ylabel = L\"R = |max(J_{F}, J_{R})/min(J_{F}, J_{R})|\", label = \"Energy Current\", color = \"blue\")\n",
    "plot!(E_values, R_dict[\"JE\"], label = false, color = \"blue\")\n",
    "\n",
    "scatter!(E_values, R_dict[\"JP\"], label = \"Particle Current\", color = \"red\")\n",
    "plot!(E_values, R_dict[\"JP\"], label = false, color = \"red\")\n",
    "\n",
    "title!(\"D = $D, L = 10, U = 2.5\")\n",
    "savefig(Folder*\"R Coefficient vs E.pdf\")"
   ]
  },
  {
   "cell_type": "code",
   "execution_count": 136,
   "id": "c50bc16a-7389-4bce-83ee-d75e403fba03",
   "metadata": {
    "scrolled": true
   },
   "outputs": [
    {
     "name": "stdout",
     "output_type": "stream",
     "text": [
      "  6.648750 seconds (3.04 M allocations: 430.746 MiB, 0.66% gc time, 0.40% compilation time)\n",
      "E = 0.2 occupation calculation has finished\n",
      "  6.209657 seconds (3.03 M allocations: 429.891 MiB, 0.52% gc time)\n",
      "E = 0.4 occupation calculation has finished\n",
      "  6.295986 seconds (3.03 M allocations: 429.913 MiB, 0.69% gc time)\n",
      "E = 0.6 occupation calculation has finished\n",
      "  6.264279 seconds (3.03 M allocations: 429.944 MiB, 0.50% gc time)\n",
      "E = 0.8 occupation calculation has finished\n",
      "  6.243629 seconds (3.03 M allocations: 429.973 MiB, 0.55% gc time)\n",
      "E = 1.0 occupation calculation has finished\n",
      "  6.312300 seconds (3.03 M allocations: 430.008 MiB, 0.63% gc time)\n",
      "E = 1.2 occupation calculation has finished\n",
      "  6.431453 seconds (3.03 M allocations: 430.016 MiB, 0.57% gc time)\n",
      "E = 1.4 occupation calculation has finished\n",
      "  6.218094 seconds (3.03 M allocations: 430.044 MiB, 0.60% gc time)\n",
      "E = 1.6 occupation calculation has finished\n",
      "  6.221233 seconds (3.03 M allocations: 430.073 MiB, 0.51% gc time)\n",
      "E = 1.8 occupation calculation has finished\n",
      "  6.477410 seconds (3.03 M allocations: 430.079 MiB, 0.70% gc time)\n",
      "E = 2.0 occupation calculation has finished\n",
      "  6.409594 seconds (3.03 M allocations: 430.089 MiB, 0.67% gc time)\n",
      "E = 2.2 occupation calculation has finished\n",
      "  6.493581 seconds (3.03 M allocations: 430.092 MiB, 0.70% gc time)\n",
      "E = 2.4 occupation calculation has finished\n",
      "  6.464810 seconds (3.03 M allocations: 430.106 MiB, 0.66% gc time)\n",
      "E = 2.6 occupation calculation has finished\n",
      "  6.630550 seconds (3.03 M allocations: 430.133 MiB, 0.50% gc time)\n",
      "E = 2.8 occupation calculation has finished\n",
      "  6.290963 seconds (3.03 M allocations: 430.144 MiB, 0.59% gc time)\n",
      "E = 3.0 occupation calculation has finished\n",
      "  6.110543 seconds (3.03 M allocations: 430.131 MiB, 0.54% gc time)\n",
      "E = 3.2 occupation calculation has finished\n",
      "  6.499237 seconds (3.03 M allocations: 430.141 MiB, 0.77% gc time)\n",
      "E = 3.4 occupation calculation has finished\n",
      "  6.286454 seconds (3.03 M allocations: 430.130 MiB, 0.60% gc time)\n",
      "E = 3.6 occupation calculation has finished\n",
      "  6.314718 seconds (3.03 M allocations: 430.136 MiB, 0.61% gc time)\n",
      "E = 3.8 occupation calculation has finished\n",
      "  6.487019 seconds (3.03 M allocations: 430.139 MiB, 0.56% gc time)\n",
      "E = 4.0 occupation calculation has finished\n",
      "  6.435507 seconds (3.03 M allocations: 430.151 MiB, 0.57% gc time)\n",
      "E = 4.2 occupation calculation has finished\n",
      "  6.694485 seconds (3.03 M allocations: 430.138 MiB, 0.65% gc time)\n",
      "E = 4.4 occupation calculation has finished\n",
      "  6.710227 seconds (3.03 M allocations: 430.153 MiB, 0.51% gc time)\n",
      "E = 4.6 occupation calculation has finished\n",
      "  6.730425 seconds (3.03 M allocations: 430.142 MiB, 0.56% gc time)\n",
      "E = 4.8 occupation calculation has finished\n"
     ]
    }
   ],
   "source": [
    "GPU = true\n",
    "\n",
    "Occupations_F = Dict()\n",
    "Occupations_R = Dict()\n",
    "\n",
    "for E = E_values\n",
    "\n",
    "    Name = \"_E=$E\"*\"_L=$L\"*\"_D=$D\"    \n",
    "\n",
    "    begin @time for direction = [\"Forward\", \"Reverse\"]\n",
    "\n",
    "        f = h5open(Folder*direction*Name*\"_NESS_MPS.h5\")\n",
    "        NESS = read(f,\"MPS\", MPS)\n",
    "        close(f)\n",
    "\n",
    "        GPU == true ? NESS = gpu(NESS) : nothing\n",
    "        \n",
    "        sites = siteinds(NESS)\n",
    "        I_vec = Build_left_vacuum(sites)\n",
    "        direction == \"Forward\" ? Occupations_F[E] = Occupations_per_site(NESS, I_vec) : Occupations_R[E] = Occupations_per_site(NESS, I_vec)\n",
    "    end\n",
    "    end\n",
    "    println(\"E = $E occupation calculation has finished\")\n",
    "end"
   ]
  },
  {
   "cell_type": "code",
   "execution_count": 137,
   "id": "87dff459-766b-4bc0-b4e3-875d35e5c5c8",
   "metadata": {},
   "outputs": [
    {
     "data": {
      "text/plain": [
       "24-element Vector{Any}:\n",
       " 0.5019234294086481\n",
       " 0.5013750822354535\n",
       " 0.5022385482816245\n",
       " 0.5027338645495463\n",
       " 0.5000982935795226\n",
       " 0.4950652728476963\n",
       " 0.492080344642098\n",
       " 0.49128413158485645\n",
       " 0.49340406199427406\n",
       " 0.49715620614305905\n",
       " 0.46867848628224756\n",
       " 0.3443743318338315\n",
       " 0.3178377463872486\n",
       " 0.3366527293678447\n",
       " 0.9954662481215637\n",
       " 0.9776757249856156\n",
       " 0.9380114377895201\n",
       " 0.8330323532724943\n",
       " 0.6232397539923428\n",
       " 0.36651616697398787\n",
       " 0.17585751670023259\n",
       " 0.07712290252448188\n",
       " 0.03381911526014809\n",
       " 0.004716784101838783"
      ]
     },
     "execution_count": 137,
     "metadata": {},
     "output_type": "execute_result"
    }
   ],
   "source": [
    "Occupations_F[1.2]"
   ]
  },
  {
   "cell_type": "code",
   "execution_count": 138,
   "id": "103da2a5-93f5-48f5-beff-7d25fcc62978",
   "metadata": {},
   "outputs": [],
   "source": [
    "for direction = [\"Forward\", \"Reverse\"]\n",
    "\n",
    "    direction == \"Forward\" ? Occupations = Occupations_F : Occupations = Occupations_R\n",
    "    # plot()\n",
    "    for E = E_values\n",
    "    \n",
    "        scatter(1:1:L, Occupations[E][1:L], label = \"L\")\n",
    "        scatter!(L+1:1:L+D, Occupations[E][L+1:L+D], label = \"S\")\n",
    "        scatter!(L+D+1:1:L+D+L, Occupations[E][L+D+1:L+D+L], label = \"R\")\n",
    "    \n",
    "        title!(\"E = $E\")\n",
    "        xlabel!(\"Physical site i\")\n",
    "        ylabel!(L\"\\langle N_{i} \\rangle\")\n",
    "        \n",
    "        savefig(Folder*\"Occupation $direction $E = $E.pdf\")\n",
    "    end\n",
    "end"
   ]
  },
  {
   "cell_type": "code",
   "execution_count": null,
   "id": "ad56ca5d-087e-4e76-916e-f7de2b031f32",
   "metadata": {},
   "outputs": [],
   "source": []
  }
 ],
 "metadata": {
  "kernelspec": {
   "display_name": "Julia 1.10.3",
   "language": "julia",
   "name": "julia-1.10"
  },
  "language_info": {
   "file_extension": ".jl",
   "mimetype": "application/julia",
   "name": "julia",
   "version": "1.10.3"
  }
 },
 "nbformat": 4,
 "nbformat_minor": 5
}
